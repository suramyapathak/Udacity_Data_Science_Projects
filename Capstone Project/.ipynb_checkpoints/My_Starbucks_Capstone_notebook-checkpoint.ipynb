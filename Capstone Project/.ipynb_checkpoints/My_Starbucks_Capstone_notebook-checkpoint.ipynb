{
 "cells": [
  {
   "cell_type": "markdown",
   "metadata": {},
   "source": [
    "# Starbucks Capstone Challenge\n",
    "\n",
    "### Introduction\n",
    "\n",
    "This data set contains simulated data that mimics customer behavior on the Starbucks rewards mobile app. Once every few days, Starbucks sends out an offer to users of the mobile app. An offer can be merely an advertisement for a drink or an actual offer such as a discount or BOGO (buy one get one free). Some users might not receive any offer during certain weeks. \n",
    "\n",
    "Not all users receive the same offer, and that is the challenge to solve with this data set.\n",
    "\n",
    "Your task is to combine transaction, demographic and offer data to determine which demographic groups respond best to which offer type. This data set is a simplified version of the real Starbucks app because the underlying simulator only has one product whereas Starbucks actually sells dozens of products.\n",
    "\n",
    "Every offer has a validity period before the offer expires. As an example, a BOGO offer might be valid for only 5 days. You'll see in the data set that informational offers have a validity period even though these ads are merely providing information about a product; for example, if an informational offer has 7 days of validity, you can assume the customer is feeling the influence of the offer for 7 days after receiving the advertisement.\n",
    "\n",
    "You'll be given transactional data showing user purchases made on the app including the timestamp of purchase and the amount of money spent on a purchase. This transactional data also has a record for each offer that a user receives as well as a record for when a user actually views the offer. There are also records for when a user completes an offer. \n",
    "\n",
    "Keep in mind as well that someone using the app might make a purchase through the app without having received an offer or seen an offer.\n",
    "\n",
    "### Example\n",
    "\n",
    "To give an example, a user could receive a discount offer buy 10 dollars get 2 off on Monday. The offer is valid for 10 days from receipt. If the customer accumulates at least 10 dollars in purchases during the validity period, the customer completes the offer.\n",
    "\n",
    "However, there are a few things to watch out for in this data set. Customers do not opt into the offers that they receive; in other words, a user can receive an offer, never actually view the offer, and still complete the offer. For example, a user might receive the \"buy 10 dollars get 2 dollars off offer\", but the user never opens the offer during the 10 day validity period. The customer spends 15 dollars during those ten days. There will be an offer completion record in the data set; however, the customer was not influenced by the offer because the customer never viewed the offer.\n",
    "\n",
    "### Cleaning\n",
    "\n",
    "This makes data cleaning especially important and tricky.\n",
    "\n",
    "You'll also want to take into account that some demographic groups will make purchases even if they don't receive an offer. From a business perspective, if a customer is going to make a 10 dollar purchase without an offer anyway, you wouldn't want to send a buy 10 dollars get 2 dollars off offer. You'll want to try to assess what a certain demographic group will buy when not receiving any offers.\n",
    "\n",
    "### Final Advice\n",
    "\n",
    "Because this is a capstone project, you are free to analyze the data any way you see fit. For example, you could build a machine learning model that predicts how much someone will spend based on demographics and offer type. Or you could build a model that predicts whether or not someone will respond to an offer. Or, you don't need to build a machine learning model at all. You could develop a set of heuristics that determine what offer you should send to each customer (i.e., 75 percent of women customers who were 35 years old responded to offer A vs 40 percent from the same demographic to offer B, so send offer A)."
   ]
  },
  {
   "cell_type": "markdown",
   "metadata": {},
   "source": [
    "# Data Sets\n",
    "\n",
    "The data is contained in three files:\n",
    "\n",
    "* portfolio.json - containing offer ids and meta data about each offer (duration, type, etc.)\n",
    "* profile.json - demographic data for each customer\n",
    "* transcript.json - records for transactions, offers received, offers viewed, and offers completed\n",
    "\n",
    "Here is the schema and explanation of each variable in the files:\n",
    "\n",
    "**portfolio.json**\n",
    "* id (string) - offer id\n",
    "* offer_type (string) - type of offer ie BOGO, discount, informational\n",
    "* difficulty (int) - minimum required spend to complete an offer\n",
    "* reward (int) - reward given for completing an offer\n",
    "* duration (int) - time for offer to be open, in days\n",
    "* channels (list of strings)\n",
    "\n",
    "**profile.json**\n",
    "* age (int) - age of the customer \n",
    "* became_member_on (int) - date when customer created an app account\n",
    "* gender (str) - gender of the customer (note some entries contain 'O' for other rather than M or F)\n",
    "* id (str) - customer id\n",
    "* income (float) - customer's income\n",
    "\n",
    "**transcript.json**\n",
    "* event (str) - record description (ie transaction, offer received, offer viewed, etc.)\n",
    "* person (str) - customer id\n",
    "* time (int) - time in hours since start of test. The data begins at time t=0\n",
    "* value - (dict of strings) - either an offer id or transaction amount depending on the record\n",
    "\n",
    "**Note:** If you are using the workspace, you will need to go to the terminal and run the command `conda update pandas` before reading in the files. This is because the version of pandas in the workspace cannot read in the transcript.json file correctly, but the newest version of pandas can. You can access the termnal from the orange icon in the top left of this notebook.  \n",
    "\n",
    "You can see how to access the terminal and how the install works using the two images below.  First you need to access the terminal:\n",
    "\n",
    "<img src=\"pic1.png\"/>\n",
    "\n",
    "Then you will want to run the above command:\n",
    "\n",
    "<img src=\"pic2.png\"/>\n",
    "\n",
    "Finally, when you enter back into the notebook (use the jupyter icon again), you should be able to run the below cell without any errors."
   ]
  },
  {
   "cell_type": "code",
   "execution_count": 1,
   "metadata": {},
   "outputs": [],
   "source": [
    "import pandas as pd\n",
    "import numpy as np\n",
    "import math\n",
    "import json\n",
    "\n",
    "import itertools\n",
    "\n",
    "import matplotlib\n",
    "import matplotlib.pyplot as plt\n",
    "import seaborn as sns\n",
    "import tqdm"
   ]
  },
  {
   "cell_type": "code",
   "execution_count": 2,
   "metadata": {},
   "outputs": [],
   "source": [
    "# read in the json files\n",
    "portfolio = pd.read_json('data/portfolio.json', orient='records', lines=True)\n",
    "profile = pd.read_json('data/profile.json', orient='records', lines=True)\n",
    "transcript = pd.read_json('data/transcript.json', orient='records', lines=True)"
   ]
  },
  {
   "cell_type": "markdown",
   "metadata": {},
   "source": [
    "# Portfolio"
   ]
  },
  {
   "cell_type": "code",
   "execution_count": 3,
   "metadata": {},
   "outputs": [
    {
     "data": {
      "text/html": [
       "<div>\n",
       "<style scoped>\n",
       "    .dataframe tbody tr th:only-of-type {\n",
       "        vertical-align: middle;\n",
       "    }\n",
       "\n",
       "    .dataframe tbody tr th {\n",
       "        vertical-align: top;\n",
       "    }\n",
       "\n",
       "    .dataframe thead th {\n",
       "        text-align: right;\n",
       "    }\n",
       "</style>\n",
       "<table border=\"1\" class=\"dataframe\">\n",
       "  <thead>\n",
       "    <tr style=\"text-align: right;\">\n",
       "      <th></th>\n",
       "      <th>reward</th>\n",
       "      <th>channels</th>\n",
       "      <th>difficulty</th>\n",
       "      <th>duration</th>\n",
       "      <th>offer_type</th>\n",
       "      <th>id</th>\n",
       "    </tr>\n",
       "  </thead>\n",
       "  <tbody>\n",
       "    <tr>\n",
       "      <td>0</td>\n",
       "      <td>10</td>\n",
       "      <td>[email, mobile, social]</td>\n",
       "      <td>10</td>\n",
       "      <td>7</td>\n",
       "      <td>bogo</td>\n",
       "      <td>ae264e3637204a6fb9bb56bc8210ddfd</td>\n",
       "    </tr>\n",
       "    <tr>\n",
       "      <td>1</td>\n",
       "      <td>10</td>\n",
       "      <td>[web, email, mobile, social]</td>\n",
       "      <td>10</td>\n",
       "      <td>5</td>\n",
       "      <td>bogo</td>\n",
       "      <td>4d5c57ea9a6940dd891ad53e9dbe8da0</td>\n",
       "    </tr>\n",
       "    <tr>\n",
       "      <td>2</td>\n",
       "      <td>0</td>\n",
       "      <td>[web, email, mobile]</td>\n",
       "      <td>0</td>\n",
       "      <td>4</td>\n",
       "      <td>informational</td>\n",
       "      <td>3f207df678b143eea3cee63160fa8bed</td>\n",
       "    </tr>\n",
       "    <tr>\n",
       "      <td>3</td>\n",
       "      <td>5</td>\n",
       "      <td>[web, email, mobile]</td>\n",
       "      <td>5</td>\n",
       "      <td>7</td>\n",
       "      <td>bogo</td>\n",
       "      <td>9b98b8c7a33c4b65b9aebfe6a799e6d9</td>\n",
       "    </tr>\n",
       "    <tr>\n",
       "      <td>4</td>\n",
       "      <td>5</td>\n",
       "      <td>[web, email]</td>\n",
       "      <td>20</td>\n",
       "      <td>10</td>\n",
       "      <td>discount</td>\n",
       "      <td>0b1e1539f2cc45b7b9fa7c272da2e1d7</td>\n",
       "    </tr>\n",
       "    <tr>\n",
       "      <td>5</td>\n",
       "      <td>3</td>\n",
       "      <td>[web, email, mobile, social]</td>\n",
       "      <td>7</td>\n",
       "      <td>7</td>\n",
       "      <td>discount</td>\n",
       "      <td>2298d6c36e964ae4a3e7e9706d1fb8c2</td>\n",
       "    </tr>\n",
       "    <tr>\n",
       "      <td>6</td>\n",
       "      <td>2</td>\n",
       "      <td>[web, email, mobile, social]</td>\n",
       "      <td>10</td>\n",
       "      <td>10</td>\n",
       "      <td>discount</td>\n",
       "      <td>fafdcd668e3743c1bb461111dcafc2a4</td>\n",
       "    </tr>\n",
       "    <tr>\n",
       "      <td>7</td>\n",
       "      <td>0</td>\n",
       "      <td>[email, mobile, social]</td>\n",
       "      <td>0</td>\n",
       "      <td>3</td>\n",
       "      <td>informational</td>\n",
       "      <td>5a8bc65990b245e5a138643cd4eb9837</td>\n",
       "    </tr>\n",
       "    <tr>\n",
       "      <td>8</td>\n",
       "      <td>5</td>\n",
       "      <td>[web, email, mobile, social]</td>\n",
       "      <td>5</td>\n",
       "      <td>5</td>\n",
       "      <td>bogo</td>\n",
       "      <td>f19421c1d4aa40978ebb69ca19b0e20d</td>\n",
       "    </tr>\n",
       "    <tr>\n",
       "      <td>9</td>\n",
       "      <td>2</td>\n",
       "      <td>[web, email, mobile]</td>\n",
       "      <td>10</td>\n",
       "      <td>7</td>\n",
       "      <td>discount</td>\n",
       "      <td>2906b810c7d4411798c6938adc9daaa5</td>\n",
       "    </tr>\n",
       "  </tbody>\n",
       "</table>\n",
       "</div>"
      ],
      "text/plain": [
       "   reward                      channels  difficulty  duration     offer_type  \\\n",
       "0      10       [email, mobile, social]          10         7           bogo   \n",
       "1      10  [web, email, mobile, social]          10         5           bogo   \n",
       "2       0          [web, email, mobile]           0         4  informational   \n",
       "3       5          [web, email, mobile]           5         7           bogo   \n",
       "4       5                  [web, email]          20        10       discount   \n",
       "5       3  [web, email, mobile, social]           7         7       discount   \n",
       "6       2  [web, email, mobile, social]          10        10       discount   \n",
       "7       0       [email, mobile, social]           0         3  informational   \n",
       "8       5  [web, email, mobile, social]           5         5           bogo   \n",
       "9       2          [web, email, mobile]          10         7       discount   \n",
       "\n",
       "                                 id  \n",
       "0  ae264e3637204a6fb9bb56bc8210ddfd  \n",
       "1  4d5c57ea9a6940dd891ad53e9dbe8da0  \n",
       "2  3f207df678b143eea3cee63160fa8bed  \n",
       "3  9b98b8c7a33c4b65b9aebfe6a799e6d9  \n",
       "4  0b1e1539f2cc45b7b9fa7c272da2e1d7  \n",
       "5  2298d6c36e964ae4a3e7e9706d1fb8c2  \n",
       "6  fafdcd668e3743c1bb461111dcafc2a4  \n",
       "7  5a8bc65990b245e5a138643cd4eb9837  \n",
       "8  f19421c1d4aa40978ebb69ca19b0e20d  \n",
       "9  2906b810c7d4411798c6938adc9daaa5  "
      ]
     },
     "execution_count": 3,
     "metadata": {},
     "output_type": "execute_result"
    }
   ],
   "source": [
    "portfolio"
   ]
  },
  {
   "cell_type": "markdown",
   "metadata": {},
   "source": [
    "## Data Cleaning : Portfolio"
   ]
  },
  {
   "cell_type": "code",
   "execution_count": 4,
   "metadata": {},
   "outputs": [],
   "source": [
    "# Rename portfolio id column to offer_id column to remove confusion between different id column in other dataframes\n",
    "portfolio.rename(columns={'id':'offer_id'}, inplace=True)"
   ]
  },
  {
   "cell_type": "code",
   "execution_count": 5,
   "metadata": {},
   "outputs": [
    {
     "data": {
      "text/html": [
       "<div>\n",
       "<style scoped>\n",
       "    .dataframe tbody tr th:only-of-type {\n",
       "        vertical-align: middle;\n",
       "    }\n",
       "\n",
       "    .dataframe tbody tr th {\n",
       "        vertical-align: top;\n",
       "    }\n",
       "\n",
       "    .dataframe thead th {\n",
       "        text-align: right;\n",
       "    }\n",
       "</style>\n",
       "<table border=\"1\" class=\"dataframe\">\n",
       "  <thead>\n",
       "    <tr style=\"text-align: right;\">\n",
       "      <th></th>\n",
       "      <th>reward</th>\n",
       "      <th>channels</th>\n",
       "      <th>difficulty</th>\n",
       "      <th>duration</th>\n",
       "      <th>offer_type</th>\n",
       "      <th>offer_id</th>\n",
       "    </tr>\n",
       "  </thead>\n",
       "  <tbody>\n",
       "    <tr>\n",
       "      <td>0</td>\n",
       "      <td>10</td>\n",
       "      <td>[email, mobile, social]</td>\n",
       "      <td>10</td>\n",
       "      <td>7</td>\n",
       "      <td>bogo</td>\n",
       "      <td>ae264e3637204a6fb9bb56bc8210ddfd</td>\n",
       "    </tr>\n",
       "    <tr>\n",
       "      <td>1</td>\n",
       "      <td>10</td>\n",
       "      <td>[web, email, mobile, social]</td>\n",
       "      <td>10</td>\n",
       "      <td>5</td>\n",
       "      <td>bogo</td>\n",
       "      <td>4d5c57ea9a6940dd891ad53e9dbe8da0</td>\n",
       "    </tr>\n",
       "    <tr>\n",
       "      <td>2</td>\n",
       "      <td>0</td>\n",
       "      <td>[web, email, mobile]</td>\n",
       "      <td>0</td>\n",
       "      <td>4</td>\n",
       "      <td>informational</td>\n",
       "      <td>3f207df678b143eea3cee63160fa8bed</td>\n",
       "    </tr>\n",
       "    <tr>\n",
       "      <td>3</td>\n",
       "      <td>5</td>\n",
       "      <td>[web, email, mobile]</td>\n",
       "      <td>5</td>\n",
       "      <td>7</td>\n",
       "      <td>bogo</td>\n",
       "      <td>9b98b8c7a33c4b65b9aebfe6a799e6d9</td>\n",
       "    </tr>\n",
       "    <tr>\n",
       "      <td>4</td>\n",
       "      <td>5</td>\n",
       "      <td>[web, email]</td>\n",
       "      <td>20</td>\n",
       "      <td>10</td>\n",
       "      <td>discount</td>\n",
       "      <td>0b1e1539f2cc45b7b9fa7c272da2e1d7</td>\n",
       "    </tr>\n",
       "    <tr>\n",
       "      <td>5</td>\n",
       "      <td>3</td>\n",
       "      <td>[web, email, mobile, social]</td>\n",
       "      <td>7</td>\n",
       "      <td>7</td>\n",
       "      <td>discount</td>\n",
       "      <td>2298d6c36e964ae4a3e7e9706d1fb8c2</td>\n",
       "    </tr>\n",
       "    <tr>\n",
       "      <td>6</td>\n",
       "      <td>2</td>\n",
       "      <td>[web, email, mobile, social]</td>\n",
       "      <td>10</td>\n",
       "      <td>10</td>\n",
       "      <td>discount</td>\n",
       "      <td>fafdcd668e3743c1bb461111dcafc2a4</td>\n",
       "    </tr>\n",
       "    <tr>\n",
       "      <td>7</td>\n",
       "      <td>0</td>\n",
       "      <td>[email, mobile, social]</td>\n",
       "      <td>0</td>\n",
       "      <td>3</td>\n",
       "      <td>informational</td>\n",
       "      <td>5a8bc65990b245e5a138643cd4eb9837</td>\n",
       "    </tr>\n",
       "    <tr>\n",
       "      <td>8</td>\n",
       "      <td>5</td>\n",
       "      <td>[web, email, mobile, social]</td>\n",
       "      <td>5</td>\n",
       "      <td>5</td>\n",
       "      <td>bogo</td>\n",
       "      <td>f19421c1d4aa40978ebb69ca19b0e20d</td>\n",
       "    </tr>\n",
       "    <tr>\n",
       "      <td>9</td>\n",
       "      <td>2</td>\n",
       "      <td>[web, email, mobile]</td>\n",
       "      <td>10</td>\n",
       "      <td>7</td>\n",
       "      <td>discount</td>\n",
       "      <td>2906b810c7d4411798c6938adc9daaa5</td>\n",
       "    </tr>\n",
       "  </tbody>\n",
       "</table>\n",
       "</div>"
      ],
      "text/plain": [
       "   reward                      channels  difficulty  duration     offer_type  \\\n",
       "0      10       [email, mobile, social]          10         7           bogo   \n",
       "1      10  [web, email, mobile, social]          10         5           bogo   \n",
       "2       0          [web, email, mobile]           0         4  informational   \n",
       "3       5          [web, email, mobile]           5         7           bogo   \n",
       "4       5                  [web, email]          20        10       discount   \n",
       "5       3  [web, email, mobile, social]           7         7       discount   \n",
       "6       2  [web, email, mobile, social]          10        10       discount   \n",
       "7       0       [email, mobile, social]           0         3  informational   \n",
       "8       5  [web, email, mobile, social]           5         5           bogo   \n",
       "9       2          [web, email, mobile]          10         7       discount   \n",
       "\n",
       "                           offer_id  \n",
       "0  ae264e3637204a6fb9bb56bc8210ddfd  \n",
       "1  4d5c57ea9a6940dd891ad53e9dbe8da0  \n",
       "2  3f207df678b143eea3cee63160fa8bed  \n",
       "3  9b98b8c7a33c4b65b9aebfe6a799e6d9  \n",
       "4  0b1e1539f2cc45b7b9fa7c272da2e1d7  \n",
       "5  2298d6c36e964ae4a3e7e9706d1fb8c2  \n",
       "6  fafdcd668e3743c1bb461111dcafc2a4  \n",
       "7  5a8bc65990b245e5a138643cd4eb9837  \n",
       "8  f19421c1d4aa40978ebb69ca19b0e20d  \n",
       "9  2906b810c7d4411798c6938adc9daaa5  "
      ]
     },
     "execution_count": 5,
     "metadata": {},
     "output_type": "execute_result"
    }
   ],
   "source": [
    "portfolio"
   ]
  },
  {
   "cell_type": "code",
   "execution_count": 6,
   "metadata": {},
   "outputs": [],
   "source": [
    "# One-Hot encoding of offer type column\n",
    "df_temp=pd.get_dummies(data=portfolio.offer_type, prefix='offer_type')\n",
    "df_portfolio=pd.concat([portfolio, df_temp], axis=1)\n",
    "df_portfolio.drop('offer_type', axis=1, inplace=True)\n"
   ]
  },
  {
   "cell_type": "code",
   "execution_count": 7,
   "metadata": {},
   "outputs": [],
   "source": [
    "# Converting Channels variable into respective columns\n",
    "unq_channels=list(set(itertools.chain(*portfolio['channels'].tolist())))\n",
    "for channel in unq_channels:\n",
    "    df_portfolio[channel] = df_portfolio.channels.apply(lambda x:1 if channel in x else 0 )\n",
    "df_portfolio.drop('channels', axis=1, inplace=True)   "
   ]
  },
  {
   "cell_type": "code",
   "execution_count": 8,
   "metadata": {},
   "outputs": [
    {
     "data": {
      "text/html": [
       "<div>\n",
       "<style scoped>\n",
       "    .dataframe tbody tr th:only-of-type {\n",
       "        vertical-align: middle;\n",
       "    }\n",
       "\n",
       "    .dataframe tbody tr th {\n",
       "        vertical-align: top;\n",
       "    }\n",
       "\n",
       "    .dataframe thead th {\n",
       "        text-align: right;\n",
       "    }\n",
       "</style>\n",
       "<table border=\"1\" class=\"dataframe\">\n",
       "  <thead>\n",
       "    <tr style=\"text-align: right;\">\n",
       "      <th></th>\n",
       "      <th>reward</th>\n",
       "      <th>difficulty</th>\n",
       "      <th>duration</th>\n",
       "      <th>offer_id</th>\n",
       "      <th>offer_type_bogo</th>\n",
       "      <th>offer_type_discount</th>\n",
       "      <th>offer_type_informational</th>\n",
       "      <th>mobile</th>\n",
       "      <th>social</th>\n",
       "      <th>email</th>\n",
       "      <th>web</th>\n",
       "    </tr>\n",
       "  </thead>\n",
       "  <tbody>\n",
       "    <tr>\n",
       "      <td>0</td>\n",
       "      <td>10</td>\n",
       "      <td>10</td>\n",
       "      <td>7</td>\n",
       "      <td>ae264e3637204a6fb9bb56bc8210ddfd</td>\n",
       "      <td>1</td>\n",
       "      <td>0</td>\n",
       "      <td>0</td>\n",
       "      <td>1</td>\n",
       "      <td>1</td>\n",
       "      <td>1</td>\n",
       "      <td>0</td>\n",
       "    </tr>\n",
       "    <tr>\n",
       "      <td>1</td>\n",
       "      <td>10</td>\n",
       "      <td>10</td>\n",
       "      <td>5</td>\n",
       "      <td>4d5c57ea9a6940dd891ad53e9dbe8da0</td>\n",
       "      <td>1</td>\n",
       "      <td>0</td>\n",
       "      <td>0</td>\n",
       "      <td>1</td>\n",
       "      <td>1</td>\n",
       "      <td>1</td>\n",
       "      <td>1</td>\n",
       "    </tr>\n",
       "    <tr>\n",
       "      <td>2</td>\n",
       "      <td>0</td>\n",
       "      <td>0</td>\n",
       "      <td>4</td>\n",
       "      <td>3f207df678b143eea3cee63160fa8bed</td>\n",
       "      <td>0</td>\n",
       "      <td>0</td>\n",
       "      <td>1</td>\n",
       "      <td>1</td>\n",
       "      <td>0</td>\n",
       "      <td>1</td>\n",
       "      <td>1</td>\n",
       "    </tr>\n",
       "    <tr>\n",
       "      <td>3</td>\n",
       "      <td>5</td>\n",
       "      <td>5</td>\n",
       "      <td>7</td>\n",
       "      <td>9b98b8c7a33c4b65b9aebfe6a799e6d9</td>\n",
       "      <td>1</td>\n",
       "      <td>0</td>\n",
       "      <td>0</td>\n",
       "      <td>1</td>\n",
       "      <td>0</td>\n",
       "      <td>1</td>\n",
       "      <td>1</td>\n",
       "    </tr>\n",
       "    <tr>\n",
       "      <td>4</td>\n",
       "      <td>5</td>\n",
       "      <td>20</td>\n",
       "      <td>10</td>\n",
       "      <td>0b1e1539f2cc45b7b9fa7c272da2e1d7</td>\n",
       "      <td>0</td>\n",
       "      <td>1</td>\n",
       "      <td>0</td>\n",
       "      <td>0</td>\n",
       "      <td>0</td>\n",
       "      <td>1</td>\n",
       "      <td>1</td>\n",
       "    </tr>\n",
       "    <tr>\n",
       "      <td>5</td>\n",
       "      <td>3</td>\n",
       "      <td>7</td>\n",
       "      <td>7</td>\n",
       "      <td>2298d6c36e964ae4a3e7e9706d1fb8c2</td>\n",
       "      <td>0</td>\n",
       "      <td>1</td>\n",
       "      <td>0</td>\n",
       "      <td>1</td>\n",
       "      <td>1</td>\n",
       "      <td>1</td>\n",
       "      <td>1</td>\n",
       "    </tr>\n",
       "    <tr>\n",
       "      <td>6</td>\n",
       "      <td>2</td>\n",
       "      <td>10</td>\n",
       "      <td>10</td>\n",
       "      <td>fafdcd668e3743c1bb461111dcafc2a4</td>\n",
       "      <td>0</td>\n",
       "      <td>1</td>\n",
       "      <td>0</td>\n",
       "      <td>1</td>\n",
       "      <td>1</td>\n",
       "      <td>1</td>\n",
       "      <td>1</td>\n",
       "    </tr>\n",
       "    <tr>\n",
       "      <td>7</td>\n",
       "      <td>0</td>\n",
       "      <td>0</td>\n",
       "      <td>3</td>\n",
       "      <td>5a8bc65990b245e5a138643cd4eb9837</td>\n",
       "      <td>0</td>\n",
       "      <td>0</td>\n",
       "      <td>1</td>\n",
       "      <td>1</td>\n",
       "      <td>1</td>\n",
       "      <td>1</td>\n",
       "      <td>0</td>\n",
       "    </tr>\n",
       "    <tr>\n",
       "      <td>8</td>\n",
       "      <td>5</td>\n",
       "      <td>5</td>\n",
       "      <td>5</td>\n",
       "      <td>f19421c1d4aa40978ebb69ca19b0e20d</td>\n",
       "      <td>1</td>\n",
       "      <td>0</td>\n",
       "      <td>0</td>\n",
       "      <td>1</td>\n",
       "      <td>1</td>\n",
       "      <td>1</td>\n",
       "      <td>1</td>\n",
       "    </tr>\n",
       "    <tr>\n",
       "      <td>9</td>\n",
       "      <td>2</td>\n",
       "      <td>10</td>\n",
       "      <td>7</td>\n",
       "      <td>2906b810c7d4411798c6938adc9daaa5</td>\n",
       "      <td>0</td>\n",
       "      <td>1</td>\n",
       "      <td>0</td>\n",
       "      <td>1</td>\n",
       "      <td>0</td>\n",
       "      <td>1</td>\n",
       "      <td>1</td>\n",
       "    </tr>\n",
       "  </tbody>\n",
       "</table>\n",
       "</div>"
      ],
      "text/plain": [
       "   reward  difficulty  duration                          offer_id  \\\n",
       "0      10          10         7  ae264e3637204a6fb9bb56bc8210ddfd   \n",
       "1      10          10         5  4d5c57ea9a6940dd891ad53e9dbe8da0   \n",
       "2       0           0         4  3f207df678b143eea3cee63160fa8bed   \n",
       "3       5           5         7  9b98b8c7a33c4b65b9aebfe6a799e6d9   \n",
       "4       5          20        10  0b1e1539f2cc45b7b9fa7c272da2e1d7   \n",
       "5       3           7         7  2298d6c36e964ae4a3e7e9706d1fb8c2   \n",
       "6       2          10        10  fafdcd668e3743c1bb461111dcafc2a4   \n",
       "7       0           0         3  5a8bc65990b245e5a138643cd4eb9837   \n",
       "8       5           5         5  f19421c1d4aa40978ebb69ca19b0e20d   \n",
       "9       2          10         7  2906b810c7d4411798c6938adc9daaa5   \n",
       "\n",
       "   offer_type_bogo  offer_type_discount  offer_type_informational  mobile  \\\n",
       "0                1                    0                         0       1   \n",
       "1                1                    0                         0       1   \n",
       "2                0                    0                         1       1   \n",
       "3                1                    0                         0       1   \n",
       "4                0                    1                         0       0   \n",
       "5                0                    1                         0       1   \n",
       "6                0                    1                         0       1   \n",
       "7                0                    0                         1       1   \n",
       "8                1                    0                         0       1   \n",
       "9                0                    1                         0       1   \n",
       "\n",
       "   social  email  web  \n",
       "0       1      1    0  \n",
       "1       1      1    1  \n",
       "2       0      1    1  \n",
       "3       0      1    1  \n",
       "4       0      1    1  \n",
       "5       1      1    1  \n",
       "6       1      1    1  \n",
       "7       1      1    0  \n",
       "8       1      1    1  \n",
       "9       0      1    1  "
      ]
     },
     "execution_count": 8,
     "metadata": {},
     "output_type": "execute_result"
    }
   ],
   "source": [
    "df_portfolio"
   ]
  },
  {
   "cell_type": "code",
   "execution_count": 9,
   "metadata": {},
   "outputs": [
    {
     "data": {
      "text/plain": [
       "reward                                                                     42\n",
       "difficulty                                                                 77\n",
       "duration                                                                   65\n",
       "offer_id                    ae264e3637204a6fb9bb56bc8210ddfd4d5c57ea9a6940...\n",
       "offer_type_bogo                                                             4\n",
       "offer_type_discount                                                         4\n",
       "offer_type_informational                                                    2\n",
       "mobile                                                                      9\n",
       "social                                                                      6\n",
       "email                                                                      10\n",
       "web                                                                         8\n",
       "dtype: object"
      ]
     },
     "execution_count": 9,
     "metadata": {},
     "output_type": "execute_result"
    }
   ],
   "source": [
    "df_portfolio.sum()"
   ]
  },
  {
   "cell_type": "markdown",
   "metadata": {},
   "source": [
    "# Transcript"
   ]
  },
  {
   "cell_type": "code",
   "execution_count": 10,
   "metadata": {},
   "outputs": [
    {
     "data": {
      "text/html": [
       "<div>\n",
       "<style scoped>\n",
       "    .dataframe tbody tr th:only-of-type {\n",
       "        vertical-align: middle;\n",
       "    }\n",
       "\n",
       "    .dataframe tbody tr th {\n",
       "        vertical-align: top;\n",
       "    }\n",
       "\n",
       "    .dataframe thead th {\n",
       "        text-align: right;\n",
       "    }\n",
       "</style>\n",
       "<table border=\"1\" class=\"dataframe\">\n",
       "  <thead>\n",
       "    <tr style=\"text-align: right;\">\n",
       "      <th></th>\n",
       "      <th>person</th>\n",
       "      <th>event</th>\n",
       "      <th>value</th>\n",
       "      <th>time</th>\n",
       "    </tr>\n",
       "  </thead>\n",
       "  <tbody>\n",
       "    <tr>\n",
       "      <td>0</td>\n",
       "      <td>78afa995795e4d85b5d9ceeca43f5fef</td>\n",
       "      <td>offer received</td>\n",
       "      <td>{'offer id': '9b98b8c7a33c4b65b9aebfe6a799e6d9'}</td>\n",
       "      <td>0</td>\n",
       "    </tr>\n",
       "    <tr>\n",
       "      <td>1</td>\n",
       "      <td>a03223e636434f42ac4c3df47e8bac43</td>\n",
       "      <td>offer received</td>\n",
       "      <td>{'offer id': '0b1e1539f2cc45b7b9fa7c272da2e1d7'}</td>\n",
       "      <td>0</td>\n",
       "    </tr>\n",
       "    <tr>\n",
       "      <td>2</td>\n",
       "      <td>e2127556f4f64592b11af22de27a7932</td>\n",
       "      <td>offer received</td>\n",
       "      <td>{'offer id': '2906b810c7d4411798c6938adc9daaa5'}</td>\n",
       "      <td>0</td>\n",
       "    </tr>\n",
       "    <tr>\n",
       "      <td>3</td>\n",
       "      <td>8ec6ce2a7e7949b1bf142def7d0e0586</td>\n",
       "      <td>offer received</td>\n",
       "      <td>{'offer id': 'fafdcd668e3743c1bb461111dcafc2a4'}</td>\n",
       "      <td>0</td>\n",
       "    </tr>\n",
       "    <tr>\n",
       "      <td>4</td>\n",
       "      <td>68617ca6246f4fbc85e91a2a49552598</td>\n",
       "      <td>offer received</td>\n",
       "      <td>{'offer id': '4d5c57ea9a6940dd891ad53e9dbe8da0'}</td>\n",
       "      <td>0</td>\n",
       "    </tr>\n",
       "    <tr>\n",
       "      <td>...</td>\n",
       "      <td>...</td>\n",
       "      <td>...</td>\n",
       "      <td>...</td>\n",
       "      <td>...</td>\n",
       "    </tr>\n",
       "    <tr>\n",
       "      <td>306529</td>\n",
       "      <td>b3a1272bc9904337b331bf348c3e8c17</td>\n",
       "      <td>transaction</td>\n",
       "      <td>{'amount': 1.5899999999999999}</td>\n",
       "      <td>714</td>\n",
       "    </tr>\n",
       "    <tr>\n",
       "      <td>306530</td>\n",
       "      <td>68213b08d99a4ae1b0dcb72aebd9aa35</td>\n",
       "      <td>transaction</td>\n",
       "      <td>{'amount': 9.53}</td>\n",
       "      <td>714</td>\n",
       "    </tr>\n",
       "    <tr>\n",
       "      <td>306531</td>\n",
       "      <td>a00058cf10334a308c68e7631c529907</td>\n",
       "      <td>transaction</td>\n",
       "      <td>{'amount': 3.61}</td>\n",
       "      <td>714</td>\n",
       "    </tr>\n",
       "    <tr>\n",
       "      <td>306532</td>\n",
       "      <td>76ddbd6576844afe811f1a3c0fbb5bec</td>\n",
       "      <td>transaction</td>\n",
       "      <td>{'amount': 3.5300000000000002}</td>\n",
       "      <td>714</td>\n",
       "    </tr>\n",
       "    <tr>\n",
       "      <td>306533</td>\n",
       "      <td>c02b10e8752c4d8e9b73f918558531f7</td>\n",
       "      <td>transaction</td>\n",
       "      <td>{'amount': 4.05}</td>\n",
       "      <td>714</td>\n",
       "    </tr>\n",
       "  </tbody>\n",
       "</table>\n",
       "<p>306534 rows × 4 columns</p>\n",
       "</div>"
      ],
      "text/plain": [
       "                                  person           event  \\\n",
       "0       78afa995795e4d85b5d9ceeca43f5fef  offer received   \n",
       "1       a03223e636434f42ac4c3df47e8bac43  offer received   \n",
       "2       e2127556f4f64592b11af22de27a7932  offer received   \n",
       "3       8ec6ce2a7e7949b1bf142def7d0e0586  offer received   \n",
       "4       68617ca6246f4fbc85e91a2a49552598  offer received   \n",
       "...                                  ...             ...   \n",
       "306529  b3a1272bc9904337b331bf348c3e8c17     transaction   \n",
       "306530  68213b08d99a4ae1b0dcb72aebd9aa35     transaction   \n",
       "306531  a00058cf10334a308c68e7631c529907     transaction   \n",
       "306532  76ddbd6576844afe811f1a3c0fbb5bec     transaction   \n",
       "306533  c02b10e8752c4d8e9b73f918558531f7     transaction   \n",
       "\n",
       "                                                   value  time  \n",
       "0       {'offer id': '9b98b8c7a33c4b65b9aebfe6a799e6d9'}     0  \n",
       "1       {'offer id': '0b1e1539f2cc45b7b9fa7c272da2e1d7'}     0  \n",
       "2       {'offer id': '2906b810c7d4411798c6938adc9daaa5'}     0  \n",
       "3       {'offer id': 'fafdcd668e3743c1bb461111dcafc2a4'}     0  \n",
       "4       {'offer id': '4d5c57ea9a6940dd891ad53e9dbe8da0'}     0  \n",
       "...                                                  ...   ...  \n",
       "306529                    {'amount': 1.5899999999999999}   714  \n",
       "306530                                  {'amount': 9.53}   714  \n",
       "306531                                  {'amount': 3.61}   714  \n",
       "306532                    {'amount': 3.5300000000000002}   714  \n",
       "306533                                  {'amount': 4.05}   714  \n",
       "\n",
       "[306534 rows x 4 columns]"
      ]
     },
     "execution_count": 10,
     "metadata": {},
     "output_type": "execute_result"
    }
   ],
   "source": [
    "transcript"
   ]
  },
  {
   "cell_type": "markdown",
   "metadata": {},
   "source": [
    "## Data Cleaning : Transcript"
   ]
  },
  {
   "cell_type": "code",
   "execution_count": 11,
   "metadata": {},
   "outputs": [],
   "source": [
    "#rename column id to customer_id for future merging purpose\n",
    "transcript.rename(columns={'person':'customer_id'}, inplace=True)"
   ]
  },
  {
   "cell_type": "code",
   "execution_count": 12,
   "metadata": {},
   "outputs": [
    {
     "data": {
      "text/html": [
       "<div>\n",
       "<style scoped>\n",
       "    .dataframe tbody tr th:only-of-type {\n",
       "        vertical-align: middle;\n",
       "    }\n",
       "\n",
       "    .dataframe tbody tr th {\n",
       "        vertical-align: top;\n",
       "    }\n",
       "\n",
       "    .dataframe thead th {\n",
       "        text-align: right;\n",
       "    }\n",
       "</style>\n",
       "<table border=\"1\" class=\"dataframe\">\n",
       "  <thead>\n",
       "    <tr style=\"text-align: right;\">\n",
       "      <th></th>\n",
       "      <th>customer_id</th>\n",
       "      <th>event</th>\n",
       "      <th>value</th>\n",
       "      <th>time</th>\n",
       "      <th>days</th>\n",
       "    </tr>\n",
       "  </thead>\n",
       "  <tbody>\n",
       "    <tr>\n",
       "      <td>0</td>\n",
       "      <td>78afa995795e4d85b5d9ceeca43f5fef</td>\n",
       "      <td>offer received</td>\n",
       "      <td>{'offer id': '9b98b8c7a33c4b65b9aebfe6a799e6d9'}</td>\n",
       "      <td>0</td>\n",
       "      <td>0</td>\n",
       "    </tr>\n",
       "    <tr>\n",
       "      <td>1</td>\n",
       "      <td>a03223e636434f42ac4c3df47e8bac43</td>\n",
       "      <td>offer received</td>\n",
       "      <td>{'offer id': '0b1e1539f2cc45b7b9fa7c272da2e1d7'}</td>\n",
       "      <td>0</td>\n",
       "      <td>0</td>\n",
       "    </tr>\n",
       "    <tr>\n",
       "      <td>2</td>\n",
       "      <td>e2127556f4f64592b11af22de27a7932</td>\n",
       "      <td>offer received</td>\n",
       "      <td>{'offer id': '2906b810c7d4411798c6938adc9daaa5'}</td>\n",
       "      <td>0</td>\n",
       "      <td>0</td>\n",
       "    </tr>\n",
       "    <tr>\n",
       "      <td>3</td>\n",
       "      <td>8ec6ce2a7e7949b1bf142def7d0e0586</td>\n",
       "      <td>offer received</td>\n",
       "      <td>{'offer id': 'fafdcd668e3743c1bb461111dcafc2a4'}</td>\n",
       "      <td>0</td>\n",
       "      <td>0</td>\n",
       "    </tr>\n",
       "    <tr>\n",
       "      <td>4</td>\n",
       "      <td>68617ca6246f4fbc85e91a2a49552598</td>\n",
       "      <td>offer received</td>\n",
       "      <td>{'offer id': '4d5c57ea9a6940dd891ad53e9dbe8da0'}</td>\n",
       "      <td>0</td>\n",
       "      <td>0</td>\n",
       "    </tr>\n",
       "    <tr>\n",
       "      <td>...</td>\n",
       "      <td>...</td>\n",
       "      <td>...</td>\n",
       "      <td>...</td>\n",
       "      <td>...</td>\n",
       "      <td>...</td>\n",
       "    </tr>\n",
       "    <tr>\n",
       "      <td>306529</td>\n",
       "      <td>b3a1272bc9904337b331bf348c3e8c17</td>\n",
       "      <td>transaction</td>\n",
       "      <td>{'amount': 1.5899999999999999}</td>\n",
       "      <td>714</td>\n",
       "      <td>30</td>\n",
       "    </tr>\n",
       "    <tr>\n",
       "      <td>306530</td>\n",
       "      <td>68213b08d99a4ae1b0dcb72aebd9aa35</td>\n",
       "      <td>transaction</td>\n",
       "      <td>{'amount': 9.53}</td>\n",
       "      <td>714</td>\n",
       "      <td>30</td>\n",
       "    </tr>\n",
       "    <tr>\n",
       "      <td>306531</td>\n",
       "      <td>a00058cf10334a308c68e7631c529907</td>\n",
       "      <td>transaction</td>\n",
       "      <td>{'amount': 3.61}</td>\n",
       "      <td>714</td>\n",
       "      <td>30</td>\n",
       "    </tr>\n",
       "    <tr>\n",
       "      <td>306532</td>\n",
       "      <td>76ddbd6576844afe811f1a3c0fbb5bec</td>\n",
       "      <td>transaction</td>\n",
       "      <td>{'amount': 3.5300000000000002}</td>\n",
       "      <td>714</td>\n",
       "      <td>30</td>\n",
       "    </tr>\n",
       "    <tr>\n",
       "      <td>306533</td>\n",
       "      <td>c02b10e8752c4d8e9b73f918558531f7</td>\n",
       "      <td>transaction</td>\n",
       "      <td>{'amount': 4.05}</td>\n",
       "      <td>714</td>\n",
       "      <td>30</td>\n",
       "    </tr>\n",
       "  </tbody>\n",
       "</table>\n",
       "<p>306534 rows × 5 columns</p>\n",
       "</div>"
      ],
      "text/plain": [
       "                             customer_id           event  \\\n",
       "0       78afa995795e4d85b5d9ceeca43f5fef  offer received   \n",
       "1       a03223e636434f42ac4c3df47e8bac43  offer received   \n",
       "2       e2127556f4f64592b11af22de27a7932  offer received   \n",
       "3       8ec6ce2a7e7949b1bf142def7d0e0586  offer received   \n",
       "4       68617ca6246f4fbc85e91a2a49552598  offer received   \n",
       "...                                  ...             ...   \n",
       "306529  b3a1272bc9904337b331bf348c3e8c17     transaction   \n",
       "306530  68213b08d99a4ae1b0dcb72aebd9aa35     transaction   \n",
       "306531  a00058cf10334a308c68e7631c529907     transaction   \n",
       "306532  76ddbd6576844afe811f1a3c0fbb5bec     transaction   \n",
       "306533  c02b10e8752c4d8e9b73f918558531f7     transaction   \n",
       "\n",
       "                                                   value  time  days  \n",
       "0       {'offer id': '9b98b8c7a33c4b65b9aebfe6a799e6d9'}     0     0  \n",
       "1       {'offer id': '0b1e1539f2cc45b7b9fa7c272da2e1d7'}     0     0  \n",
       "2       {'offer id': '2906b810c7d4411798c6938adc9daaa5'}     0     0  \n",
       "3       {'offer id': 'fafdcd668e3743c1bb461111dcafc2a4'}     0     0  \n",
       "4       {'offer id': '4d5c57ea9a6940dd891ad53e9dbe8da0'}     0     0  \n",
       "...                                                  ...   ...   ...  \n",
       "306529                    {'amount': 1.5899999999999999}   714    30  \n",
       "306530                                  {'amount': 9.53}   714    30  \n",
       "306531                                  {'amount': 3.61}   714    30  \n",
       "306532                    {'amount': 3.5300000000000002}   714    30  \n",
       "306533                                  {'amount': 4.05}   714    30  \n",
       "\n",
       "[306534 rows x 5 columns]"
      ]
     },
     "execution_count": 12,
     "metadata": {},
     "output_type": "execute_result"
    }
   ],
   "source": [
    "#Change and rouding off the time in hours into days for better understanding \n",
    "transcript['days'] = transcript.time.apply(lambda x: round(x/24.0))\n",
    "#transcript.rename(columns={'time':'days'}, inplace=True)\n",
    "transcript\n"
   ]
  },
  {
   "cell_type": "code",
   "execution_count": 13,
   "metadata": {},
   "outputs": [
    {
     "data": {
      "text/plain": [
       "array(['offer received', 'offer viewed', 'transaction', 'offer completed'],\n",
       "      dtype=object)"
      ]
     },
     "execution_count": 13,
     "metadata": {},
     "output_type": "execute_result"
    }
   ],
   "source": [
    "transcript['event'].unique()"
   ]
  },
  {
   "cell_type": "code",
   "execution_count": 14,
   "metadata": {},
   "outputs": [
    {
     "data": {
      "text/html": [
       "<div>\n",
       "<style scoped>\n",
       "    .dataframe tbody tr th:only-of-type {\n",
       "        vertical-align: middle;\n",
       "    }\n",
       "\n",
       "    .dataframe tbody tr th {\n",
       "        vertical-align: top;\n",
       "    }\n",
       "\n",
       "    .dataframe thead th {\n",
       "        text-align: right;\n",
       "    }\n",
       "</style>\n",
       "<table border=\"1\" class=\"dataframe\">\n",
       "  <thead>\n",
       "    <tr style=\"text-align: right;\">\n",
       "      <th></th>\n",
       "      <th>customer_id</th>\n",
       "      <th>event</th>\n",
       "      <th>value</th>\n",
       "      <th>time</th>\n",
       "      <th>days</th>\n",
       "    </tr>\n",
       "  </thead>\n",
       "  <tbody>\n",
       "    <tr>\n",
       "      <td>12654</td>\n",
       "      <td>02c083884c7d45b39cc68e1314fec56c</td>\n",
       "      <td>transaction</td>\n",
       "      <td>{'amount': 0.8300000000000001}</td>\n",
       "      <td>0</td>\n",
       "      <td>0</td>\n",
       "    </tr>\n",
       "    <tr>\n",
       "      <td>12657</td>\n",
       "      <td>9fa9ae8f57894cc9a3b8a9bbe0fc1b2f</td>\n",
       "      <td>transaction</td>\n",
       "      <td>{'amount': 34.56}</td>\n",
       "      <td>0</td>\n",
       "      <td>0</td>\n",
       "    </tr>\n",
       "    <tr>\n",
       "      <td>12659</td>\n",
       "      <td>54890f68699049c2a04d415abc25e717</td>\n",
       "      <td>transaction</td>\n",
       "      <td>{'amount': 13.23}</td>\n",
       "      <td>0</td>\n",
       "      <td>0</td>\n",
       "    </tr>\n",
       "    <tr>\n",
       "      <td>12670</td>\n",
       "      <td>b2f1cd155b864803ad8334cdf13c4bd2</td>\n",
       "      <td>transaction</td>\n",
       "      <td>{'amount': 19.51}</td>\n",
       "      <td>0</td>\n",
       "      <td>0</td>\n",
       "    </tr>\n",
       "    <tr>\n",
       "      <td>12671</td>\n",
       "      <td>fe97aa22dd3e48c8b143116a8403dd52</td>\n",
       "      <td>transaction</td>\n",
       "      <td>{'amount': 18.97}</td>\n",
       "      <td>0</td>\n",
       "      <td>0</td>\n",
       "    </tr>\n",
       "    <tr>\n",
       "      <td>...</td>\n",
       "      <td>...</td>\n",
       "      <td>...</td>\n",
       "      <td>...</td>\n",
       "      <td>...</td>\n",
       "      <td>...</td>\n",
       "    </tr>\n",
       "    <tr>\n",
       "      <td>306529</td>\n",
       "      <td>b3a1272bc9904337b331bf348c3e8c17</td>\n",
       "      <td>transaction</td>\n",
       "      <td>{'amount': 1.5899999999999999}</td>\n",
       "      <td>714</td>\n",
       "      <td>30</td>\n",
       "    </tr>\n",
       "    <tr>\n",
       "      <td>306530</td>\n",
       "      <td>68213b08d99a4ae1b0dcb72aebd9aa35</td>\n",
       "      <td>transaction</td>\n",
       "      <td>{'amount': 9.53}</td>\n",
       "      <td>714</td>\n",
       "      <td>30</td>\n",
       "    </tr>\n",
       "    <tr>\n",
       "      <td>306531</td>\n",
       "      <td>a00058cf10334a308c68e7631c529907</td>\n",
       "      <td>transaction</td>\n",
       "      <td>{'amount': 3.61}</td>\n",
       "      <td>714</td>\n",
       "      <td>30</td>\n",
       "    </tr>\n",
       "    <tr>\n",
       "      <td>306532</td>\n",
       "      <td>76ddbd6576844afe811f1a3c0fbb5bec</td>\n",
       "      <td>transaction</td>\n",
       "      <td>{'amount': 3.5300000000000002}</td>\n",
       "      <td>714</td>\n",
       "      <td>30</td>\n",
       "    </tr>\n",
       "    <tr>\n",
       "      <td>306533</td>\n",
       "      <td>c02b10e8752c4d8e9b73f918558531f7</td>\n",
       "      <td>transaction</td>\n",
       "      <td>{'amount': 4.05}</td>\n",
       "      <td>714</td>\n",
       "      <td>30</td>\n",
       "    </tr>\n",
       "  </tbody>\n",
       "</table>\n",
       "<p>138953 rows × 5 columns</p>\n",
       "</div>"
      ],
      "text/plain": [
       "                             customer_id        event  \\\n",
       "12654   02c083884c7d45b39cc68e1314fec56c  transaction   \n",
       "12657   9fa9ae8f57894cc9a3b8a9bbe0fc1b2f  transaction   \n",
       "12659   54890f68699049c2a04d415abc25e717  transaction   \n",
       "12670   b2f1cd155b864803ad8334cdf13c4bd2  transaction   \n",
       "12671   fe97aa22dd3e48c8b143116a8403dd52  transaction   \n",
       "...                                  ...          ...   \n",
       "306529  b3a1272bc9904337b331bf348c3e8c17  transaction   \n",
       "306530  68213b08d99a4ae1b0dcb72aebd9aa35  transaction   \n",
       "306531  a00058cf10334a308c68e7631c529907  transaction   \n",
       "306532  76ddbd6576844afe811f1a3c0fbb5bec  transaction   \n",
       "306533  c02b10e8752c4d8e9b73f918558531f7  transaction   \n",
       "\n",
       "                                 value  time  days  \n",
       "12654   {'amount': 0.8300000000000001}     0     0  \n",
       "12657                {'amount': 34.56}     0     0  \n",
       "12659                {'amount': 13.23}     0     0  \n",
       "12670                {'amount': 19.51}     0     0  \n",
       "12671                {'amount': 18.97}     0     0  \n",
       "...                                ...   ...   ...  \n",
       "306529  {'amount': 1.5899999999999999}   714    30  \n",
       "306530                {'amount': 9.53}   714    30  \n",
       "306531                {'amount': 3.61}   714    30  \n",
       "306532  {'amount': 3.5300000000000002}   714    30  \n",
       "306533                {'amount': 4.05}   714    30  \n",
       "\n",
       "[138953 rows x 5 columns]"
      ]
     },
     "execution_count": 14,
     "metadata": {},
     "output_type": "execute_result"
    }
   ],
   "source": [
    "transcript[transcript['event']=='transaction']"
   ]
  },
  {
   "cell_type": "code",
   "execution_count": 15,
   "metadata": {},
   "outputs": [
    {
     "data": {
      "text/html": [
       "<div>\n",
       "<style scoped>\n",
       "    .dataframe tbody tr th:only-of-type {\n",
       "        vertical-align: middle;\n",
       "    }\n",
       "\n",
       "    .dataframe tbody tr th {\n",
       "        vertical-align: top;\n",
       "    }\n",
       "\n",
       "    .dataframe thead th {\n",
       "        text-align: right;\n",
       "    }\n",
       "</style>\n",
       "<table border=\"1\" class=\"dataframe\">\n",
       "  <thead>\n",
       "    <tr style=\"text-align: right;\">\n",
       "      <th></th>\n",
       "      <th>customer_id</th>\n",
       "      <th>event</th>\n",
       "      <th>value</th>\n",
       "      <th>time</th>\n",
       "      <th>days</th>\n",
       "    </tr>\n",
       "  </thead>\n",
       "  <tbody>\n",
       "    <tr>\n",
       "      <td>0</td>\n",
       "      <td>78afa995795e4d85b5d9ceeca43f5fef</td>\n",
       "      <td>offer received</td>\n",
       "      <td>{'offer id': '9b98b8c7a33c4b65b9aebfe6a799e6d9'}</td>\n",
       "      <td>0</td>\n",
       "      <td>0</td>\n",
       "    </tr>\n",
       "    <tr>\n",
       "      <td>1</td>\n",
       "      <td>a03223e636434f42ac4c3df47e8bac43</td>\n",
       "      <td>offer received</td>\n",
       "      <td>{'offer id': '0b1e1539f2cc45b7b9fa7c272da2e1d7'}</td>\n",
       "      <td>0</td>\n",
       "      <td>0</td>\n",
       "    </tr>\n",
       "    <tr>\n",
       "      <td>2</td>\n",
       "      <td>e2127556f4f64592b11af22de27a7932</td>\n",
       "      <td>offer received</td>\n",
       "      <td>{'offer id': '2906b810c7d4411798c6938adc9daaa5'}</td>\n",
       "      <td>0</td>\n",
       "      <td>0</td>\n",
       "    </tr>\n",
       "    <tr>\n",
       "      <td>3</td>\n",
       "      <td>8ec6ce2a7e7949b1bf142def7d0e0586</td>\n",
       "      <td>offer received</td>\n",
       "      <td>{'offer id': 'fafdcd668e3743c1bb461111dcafc2a4'}</td>\n",
       "      <td>0</td>\n",
       "      <td>0</td>\n",
       "    </tr>\n",
       "    <tr>\n",
       "      <td>4</td>\n",
       "      <td>68617ca6246f4fbc85e91a2a49552598</td>\n",
       "      <td>offer received</td>\n",
       "      <td>{'offer id': '4d5c57ea9a6940dd891ad53e9dbe8da0'}</td>\n",
       "      <td>0</td>\n",
       "      <td>0</td>\n",
       "    </tr>\n",
       "    <tr>\n",
       "      <td>...</td>\n",
       "      <td>...</td>\n",
       "      <td>...</td>\n",
       "      <td>...</td>\n",
       "      <td>...</td>\n",
       "      <td>...</td>\n",
       "    </tr>\n",
       "    <tr>\n",
       "      <td>257882</td>\n",
       "      <td>d087c473b4d247ccb0abfef59ba12b0e</td>\n",
       "      <td>offer received</td>\n",
       "      <td>{'offer id': 'ae264e3637204a6fb9bb56bc8210ddfd'}</td>\n",
       "      <td>576</td>\n",
       "      <td>24</td>\n",
       "    </tr>\n",
       "    <tr>\n",
       "      <td>257883</td>\n",
       "      <td>cb23b66c56f64b109d673d5e56574529</td>\n",
       "      <td>offer received</td>\n",
       "      <td>{'offer id': '2906b810c7d4411798c6938adc9daaa5'}</td>\n",
       "      <td>576</td>\n",
       "      <td>24</td>\n",
       "    </tr>\n",
       "    <tr>\n",
       "      <td>257884</td>\n",
       "      <td>6d5f3a774f3d4714ab0c092238f3a1d7</td>\n",
       "      <td>offer received</td>\n",
       "      <td>{'offer id': '2298d6c36e964ae4a3e7e9706d1fb8c2'}</td>\n",
       "      <td>576</td>\n",
       "      <td>24</td>\n",
       "    </tr>\n",
       "    <tr>\n",
       "      <td>257885</td>\n",
       "      <td>9dc1421481194dcd9400aec7c9ae6366</td>\n",
       "      <td>offer received</td>\n",
       "      <td>{'offer id': 'ae264e3637204a6fb9bb56bc8210ddfd'}</td>\n",
       "      <td>576</td>\n",
       "      <td>24</td>\n",
       "    </tr>\n",
       "    <tr>\n",
       "      <td>257886</td>\n",
       "      <td>e4052622e5ba45a8b96b59aba68cf068</td>\n",
       "      <td>offer received</td>\n",
       "      <td>{'offer id': '3f207df678b143eea3cee63160fa8bed'}</td>\n",
       "      <td>576</td>\n",
       "      <td>24</td>\n",
       "    </tr>\n",
       "  </tbody>\n",
       "</table>\n",
       "<p>76277 rows × 5 columns</p>\n",
       "</div>"
      ],
      "text/plain": [
       "                             customer_id           event  \\\n",
       "0       78afa995795e4d85b5d9ceeca43f5fef  offer received   \n",
       "1       a03223e636434f42ac4c3df47e8bac43  offer received   \n",
       "2       e2127556f4f64592b11af22de27a7932  offer received   \n",
       "3       8ec6ce2a7e7949b1bf142def7d0e0586  offer received   \n",
       "4       68617ca6246f4fbc85e91a2a49552598  offer received   \n",
       "...                                  ...             ...   \n",
       "257882  d087c473b4d247ccb0abfef59ba12b0e  offer received   \n",
       "257883  cb23b66c56f64b109d673d5e56574529  offer received   \n",
       "257884  6d5f3a774f3d4714ab0c092238f3a1d7  offer received   \n",
       "257885  9dc1421481194dcd9400aec7c9ae6366  offer received   \n",
       "257886  e4052622e5ba45a8b96b59aba68cf068  offer received   \n",
       "\n",
       "                                                   value  time  days  \n",
       "0       {'offer id': '9b98b8c7a33c4b65b9aebfe6a799e6d9'}     0     0  \n",
       "1       {'offer id': '0b1e1539f2cc45b7b9fa7c272da2e1d7'}     0     0  \n",
       "2       {'offer id': '2906b810c7d4411798c6938adc9daaa5'}     0     0  \n",
       "3       {'offer id': 'fafdcd668e3743c1bb461111dcafc2a4'}     0     0  \n",
       "4       {'offer id': '4d5c57ea9a6940dd891ad53e9dbe8da0'}     0     0  \n",
       "...                                                  ...   ...   ...  \n",
       "257882  {'offer id': 'ae264e3637204a6fb9bb56bc8210ddfd'}   576    24  \n",
       "257883  {'offer id': '2906b810c7d4411798c6938adc9daaa5'}   576    24  \n",
       "257884  {'offer id': '2298d6c36e964ae4a3e7e9706d1fb8c2'}   576    24  \n",
       "257885  {'offer id': 'ae264e3637204a6fb9bb56bc8210ddfd'}   576    24  \n",
       "257886  {'offer id': '3f207df678b143eea3cee63160fa8bed'}   576    24  \n",
       "\n",
       "[76277 rows x 5 columns]"
      ]
     },
     "execution_count": 15,
     "metadata": {},
     "output_type": "execute_result"
    }
   ],
   "source": [
    "transcript[transcript['event']=='offer received']"
   ]
  },
  {
   "cell_type": "code",
   "execution_count": 16,
   "metadata": {},
   "outputs": [],
   "source": [
    "#Transaction has amount variable under value, and offer received, offer viewed and offer completed has offer id\n",
    "#Extract the variables from value column \n",
    "transcript['amount'] = transcript['value'].apply(lambda x: x.get('amount', np.nan))\n",
    "transcript['offer_id'] = transcript['value'].apply(lambda x: x.get('offer id', x.get('offer_id',np.nan)))\n",
    "transcript.drop('value',inplace=True, axis=1)"
   ]
  },
  {
   "cell_type": "code",
   "execution_count": 17,
   "metadata": {},
   "outputs": [
    {
     "data": {
      "text/html": [
       "<div>\n",
       "<style scoped>\n",
       "    .dataframe tbody tr th:only-of-type {\n",
       "        vertical-align: middle;\n",
       "    }\n",
       "\n",
       "    .dataframe tbody tr th {\n",
       "        vertical-align: top;\n",
       "    }\n",
       "\n",
       "    .dataframe thead th {\n",
       "        text-align: right;\n",
       "    }\n",
       "</style>\n",
       "<table border=\"1\" class=\"dataframe\">\n",
       "  <thead>\n",
       "    <tr style=\"text-align: right;\">\n",
       "      <th></th>\n",
       "      <th>customer_id</th>\n",
       "      <th>event</th>\n",
       "      <th>time</th>\n",
       "      <th>days</th>\n",
       "      <th>amount</th>\n",
       "      <th>offer_id</th>\n",
       "    </tr>\n",
       "  </thead>\n",
       "  <tbody>\n",
       "    <tr>\n",
       "      <td>0</td>\n",
       "      <td>78afa995795e4d85b5d9ceeca43f5fef</td>\n",
       "      <td>offer received</td>\n",
       "      <td>0</td>\n",
       "      <td>0</td>\n",
       "      <td>NaN</td>\n",
       "      <td>9b98b8c7a33c4b65b9aebfe6a799e6d9</td>\n",
       "    </tr>\n",
       "    <tr>\n",
       "      <td>1</td>\n",
       "      <td>a03223e636434f42ac4c3df47e8bac43</td>\n",
       "      <td>offer received</td>\n",
       "      <td>0</td>\n",
       "      <td>0</td>\n",
       "      <td>NaN</td>\n",
       "      <td>0b1e1539f2cc45b7b9fa7c272da2e1d7</td>\n",
       "    </tr>\n",
       "    <tr>\n",
       "      <td>2</td>\n",
       "      <td>e2127556f4f64592b11af22de27a7932</td>\n",
       "      <td>offer received</td>\n",
       "      <td>0</td>\n",
       "      <td>0</td>\n",
       "      <td>NaN</td>\n",
       "      <td>2906b810c7d4411798c6938adc9daaa5</td>\n",
       "    </tr>\n",
       "    <tr>\n",
       "      <td>3</td>\n",
       "      <td>8ec6ce2a7e7949b1bf142def7d0e0586</td>\n",
       "      <td>offer received</td>\n",
       "      <td>0</td>\n",
       "      <td>0</td>\n",
       "      <td>NaN</td>\n",
       "      <td>fafdcd668e3743c1bb461111dcafc2a4</td>\n",
       "    </tr>\n",
       "    <tr>\n",
       "      <td>4</td>\n",
       "      <td>68617ca6246f4fbc85e91a2a49552598</td>\n",
       "      <td>offer received</td>\n",
       "      <td>0</td>\n",
       "      <td>0</td>\n",
       "      <td>NaN</td>\n",
       "      <td>4d5c57ea9a6940dd891ad53e9dbe8da0</td>\n",
       "    </tr>\n",
       "    <tr>\n",
       "      <td>...</td>\n",
       "      <td>...</td>\n",
       "      <td>...</td>\n",
       "      <td>...</td>\n",
       "      <td>...</td>\n",
       "      <td>...</td>\n",
       "      <td>...</td>\n",
       "    </tr>\n",
       "    <tr>\n",
       "      <td>306529</td>\n",
       "      <td>b3a1272bc9904337b331bf348c3e8c17</td>\n",
       "      <td>transaction</td>\n",
       "      <td>714</td>\n",
       "      <td>30</td>\n",
       "      <td>1.59</td>\n",
       "      <td>NaN</td>\n",
       "    </tr>\n",
       "    <tr>\n",
       "      <td>306530</td>\n",
       "      <td>68213b08d99a4ae1b0dcb72aebd9aa35</td>\n",
       "      <td>transaction</td>\n",
       "      <td>714</td>\n",
       "      <td>30</td>\n",
       "      <td>9.53</td>\n",
       "      <td>NaN</td>\n",
       "    </tr>\n",
       "    <tr>\n",
       "      <td>306531</td>\n",
       "      <td>a00058cf10334a308c68e7631c529907</td>\n",
       "      <td>transaction</td>\n",
       "      <td>714</td>\n",
       "      <td>30</td>\n",
       "      <td>3.61</td>\n",
       "      <td>NaN</td>\n",
       "    </tr>\n",
       "    <tr>\n",
       "      <td>306532</td>\n",
       "      <td>76ddbd6576844afe811f1a3c0fbb5bec</td>\n",
       "      <td>transaction</td>\n",
       "      <td>714</td>\n",
       "      <td>30</td>\n",
       "      <td>3.53</td>\n",
       "      <td>NaN</td>\n",
       "    </tr>\n",
       "    <tr>\n",
       "      <td>306533</td>\n",
       "      <td>c02b10e8752c4d8e9b73f918558531f7</td>\n",
       "      <td>transaction</td>\n",
       "      <td>714</td>\n",
       "      <td>30</td>\n",
       "      <td>4.05</td>\n",
       "      <td>NaN</td>\n",
       "    </tr>\n",
       "  </tbody>\n",
       "</table>\n",
       "<p>306534 rows × 6 columns</p>\n",
       "</div>"
      ],
      "text/plain": [
       "                             customer_id           event  time  days  amount  \\\n",
       "0       78afa995795e4d85b5d9ceeca43f5fef  offer received     0     0     NaN   \n",
       "1       a03223e636434f42ac4c3df47e8bac43  offer received     0     0     NaN   \n",
       "2       e2127556f4f64592b11af22de27a7932  offer received     0     0     NaN   \n",
       "3       8ec6ce2a7e7949b1bf142def7d0e0586  offer received     0     0     NaN   \n",
       "4       68617ca6246f4fbc85e91a2a49552598  offer received     0     0     NaN   \n",
       "...                                  ...             ...   ...   ...     ...   \n",
       "306529  b3a1272bc9904337b331bf348c3e8c17     transaction   714    30    1.59   \n",
       "306530  68213b08d99a4ae1b0dcb72aebd9aa35     transaction   714    30    9.53   \n",
       "306531  a00058cf10334a308c68e7631c529907     transaction   714    30    3.61   \n",
       "306532  76ddbd6576844afe811f1a3c0fbb5bec     transaction   714    30    3.53   \n",
       "306533  c02b10e8752c4d8e9b73f918558531f7     transaction   714    30    4.05   \n",
       "\n",
       "                                offer_id  \n",
       "0       9b98b8c7a33c4b65b9aebfe6a799e6d9  \n",
       "1       0b1e1539f2cc45b7b9fa7c272da2e1d7  \n",
       "2       2906b810c7d4411798c6938adc9daaa5  \n",
       "3       fafdcd668e3743c1bb461111dcafc2a4  \n",
       "4       4d5c57ea9a6940dd891ad53e9dbe8da0  \n",
       "...                                  ...  \n",
       "306529                               NaN  \n",
       "306530                               NaN  \n",
       "306531                               NaN  \n",
       "306532                               NaN  \n",
       "306533                               NaN  \n",
       "\n",
       "[306534 rows x 6 columns]"
      ]
     },
     "execution_count": 17,
     "metadata": {},
     "output_type": "execute_result"
    }
   ],
   "source": [
    "transcript"
   ]
  },
  {
   "cell_type": "code",
   "execution_count": 18,
   "metadata": {},
   "outputs": [
    {
     "name": "stderr",
     "output_type": "stream",
     "text": [
      "C:\\ana\\lib\\site-packages\\pandas\\core\\frame.py:4102: SettingWithCopyWarning: \n",
      "A value is trying to be set on a copy of a slice from a DataFrame\n",
      "\n",
      "See the caveats in the documentation: http://pandas.pydata.org/pandas-docs/stable/user_guide/indexing.html#returning-a-view-versus-a-copy\n",
      "  errors=errors,\n"
     ]
    },
    {
     "data": {
      "text/plain": [
       "array(['offer received', 'offer viewed', 'offer completed'], dtype=object)"
      ]
     },
     "execution_count": 18,
     "metadata": {},
     "output_type": "execute_result"
    }
   ],
   "source": [
    "transcript_offer=transcript[transcript['amount'].isnull()]\n",
    "transcript_offer.drop('amount', axis=1, inplace=True)\n",
    "transcript_offer['event'].unique()\n",
    "\n"
   ]
  },
  {
   "cell_type": "code",
   "execution_count": 19,
   "metadata": {},
   "outputs": [
    {
     "data": {
      "text/html": [
       "<div>\n",
       "<style scoped>\n",
       "    .dataframe tbody tr th:only-of-type {\n",
       "        vertical-align: middle;\n",
       "    }\n",
       "\n",
       "    .dataframe tbody tr th {\n",
       "        vertical-align: top;\n",
       "    }\n",
       "\n",
       "    .dataframe thead th {\n",
       "        text-align: right;\n",
       "    }\n",
       "</style>\n",
       "<table border=\"1\" class=\"dataframe\">\n",
       "  <thead>\n",
       "    <tr style=\"text-align: right;\">\n",
       "      <th></th>\n",
       "      <th>customer_id</th>\n",
       "      <th>event</th>\n",
       "      <th>time</th>\n",
       "      <th>days</th>\n",
       "      <th>offer_id</th>\n",
       "    </tr>\n",
       "  </thead>\n",
       "  <tbody>\n",
       "    <tr>\n",
       "      <td>0</td>\n",
       "      <td>78afa995795e4d85b5d9ceeca43f5fef</td>\n",
       "      <td>offer received</td>\n",
       "      <td>0</td>\n",
       "      <td>0</td>\n",
       "      <td>9b98b8c7a33c4b65b9aebfe6a799e6d9</td>\n",
       "    </tr>\n",
       "    <tr>\n",
       "      <td>1</td>\n",
       "      <td>a03223e636434f42ac4c3df47e8bac43</td>\n",
       "      <td>offer received</td>\n",
       "      <td>0</td>\n",
       "      <td>0</td>\n",
       "      <td>0b1e1539f2cc45b7b9fa7c272da2e1d7</td>\n",
       "    </tr>\n",
       "    <tr>\n",
       "      <td>2</td>\n",
       "      <td>e2127556f4f64592b11af22de27a7932</td>\n",
       "      <td>offer received</td>\n",
       "      <td>0</td>\n",
       "      <td>0</td>\n",
       "      <td>2906b810c7d4411798c6938adc9daaa5</td>\n",
       "    </tr>\n",
       "    <tr>\n",
       "      <td>3</td>\n",
       "      <td>8ec6ce2a7e7949b1bf142def7d0e0586</td>\n",
       "      <td>offer received</td>\n",
       "      <td>0</td>\n",
       "      <td>0</td>\n",
       "      <td>fafdcd668e3743c1bb461111dcafc2a4</td>\n",
       "    </tr>\n",
       "    <tr>\n",
       "      <td>4</td>\n",
       "      <td>68617ca6246f4fbc85e91a2a49552598</td>\n",
       "      <td>offer received</td>\n",
       "      <td>0</td>\n",
       "      <td>0</td>\n",
       "      <td>4d5c57ea9a6940dd891ad53e9dbe8da0</td>\n",
       "    </tr>\n",
       "    <tr>\n",
       "      <td>...</td>\n",
       "      <td>...</td>\n",
       "      <td>...</td>\n",
       "      <td>...</td>\n",
       "      <td>...</td>\n",
       "      <td>...</td>\n",
       "    </tr>\n",
       "    <tr>\n",
       "      <td>167576</td>\n",
       "      <td>a6f84f4e976f44508c358cc9aba6d2b3</td>\n",
       "      <td>offer completed</td>\n",
       "      <td>714</td>\n",
       "      <td>30</td>\n",
       "      <td>2298d6c36e964ae4a3e7e9706d1fb8c2</td>\n",
       "    </tr>\n",
       "    <tr>\n",
       "      <td>167577</td>\n",
       "      <td>b895c57e8cd047a8872ce02aa54759d6</td>\n",
       "      <td>offer completed</td>\n",
       "      <td>714</td>\n",
       "      <td>30</td>\n",
       "      <td>fafdcd668e3743c1bb461111dcafc2a4</td>\n",
       "    </tr>\n",
       "    <tr>\n",
       "      <td>167578</td>\n",
       "      <td>8dda575c2a1d44b9ac8e8b07b93d1f8e</td>\n",
       "      <td>offer viewed</td>\n",
       "      <td>714</td>\n",
       "      <td>30</td>\n",
       "      <td>0b1e1539f2cc45b7b9fa7c272da2e1d7</td>\n",
       "    </tr>\n",
       "    <tr>\n",
       "      <td>167579</td>\n",
       "      <td>8431c16f8e1d440880db371a68f82dd0</td>\n",
       "      <td>offer completed</td>\n",
       "      <td>714</td>\n",
       "      <td>30</td>\n",
       "      <td>fafdcd668e3743c1bb461111dcafc2a4</td>\n",
       "    </tr>\n",
       "    <tr>\n",
       "      <td>167580</td>\n",
       "      <td>24f56b5e1849462093931b164eb803b5</td>\n",
       "      <td>offer completed</td>\n",
       "      <td>714</td>\n",
       "      <td>30</td>\n",
       "      <td>fafdcd668e3743c1bb461111dcafc2a4</td>\n",
       "    </tr>\n",
       "  </tbody>\n",
       "</table>\n",
       "<p>167581 rows × 5 columns</p>\n",
       "</div>"
      ],
      "text/plain": [
       "                             customer_id            event  time  days  \\\n",
       "0       78afa995795e4d85b5d9ceeca43f5fef   offer received     0     0   \n",
       "1       a03223e636434f42ac4c3df47e8bac43   offer received     0     0   \n",
       "2       e2127556f4f64592b11af22de27a7932   offer received     0     0   \n",
       "3       8ec6ce2a7e7949b1bf142def7d0e0586   offer received     0     0   \n",
       "4       68617ca6246f4fbc85e91a2a49552598   offer received     0     0   \n",
       "...                                  ...              ...   ...   ...   \n",
       "167576  a6f84f4e976f44508c358cc9aba6d2b3  offer completed   714    30   \n",
       "167577  b895c57e8cd047a8872ce02aa54759d6  offer completed   714    30   \n",
       "167578  8dda575c2a1d44b9ac8e8b07b93d1f8e     offer viewed   714    30   \n",
       "167579  8431c16f8e1d440880db371a68f82dd0  offer completed   714    30   \n",
       "167580  24f56b5e1849462093931b164eb803b5  offer completed   714    30   \n",
       "\n",
       "                                offer_id  \n",
       "0       9b98b8c7a33c4b65b9aebfe6a799e6d9  \n",
       "1       0b1e1539f2cc45b7b9fa7c272da2e1d7  \n",
       "2       2906b810c7d4411798c6938adc9daaa5  \n",
       "3       fafdcd668e3743c1bb461111dcafc2a4  \n",
       "4       4d5c57ea9a6940dd891ad53e9dbe8da0  \n",
       "...                                  ...  \n",
       "167576  2298d6c36e964ae4a3e7e9706d1fb8c2  \n",
       "167577  fafdcd668e3743c1bb461111dcafc2a4  \n",
       "167578  0b1e1539f2cc45b7b9fa7c272da2e1d7  \n",
       "167579  fafdcd668e3743c1bb461111dcafc2a4  \n",
       "167580  fafdcd668e3743c1bb461111dcafc2a4  \n",
       "\n",
       "[167581 rows x 5 columns]"
      ]
     },
     "execution_count": 19,
     "metadata": {},
     "output_type": "execute_result"
    }
   ],
   "source": [
    "transcript_offer.reset_index(inplace=True, drop=True)\n",
    "transcript_offer"
   ]
  },
  {
   "cell_type": "code",
   "execution_count": 20,
   "metadata": {},
   "outputs": [
    {
     "data": {
      "text/html": [
       "<div>\n",
       "<style scoped>\n",
       "    .dataframe tbody tr th:only-of-type {\n",
       "        vertical-align: middle;\n",
       "    }\n",
       "\n",
       "    .dataframe tbody tr th {\n",
       "        vertical-align: top;\n",
       "    }\n",
       "\n",
       "    .dataframe thead th {\n",
       "        text-align: right;\n",
       "    }\n",
       "</style>\n",
       "<table border=\"1\" class=\"dataframe\">\n",
       "  <thead>\n",
       "    <tr style=\"text-align: right;\">\n",
       "      <th></th>\n",
       "      <th>customer_id</th>\n",
       "      <th>event</th>\n",
       "      <th>time</th>\n",
       "      <th>days</th>\n",
       "      <th>offer_id</th>\n",
       "      <th>completed</th>\n",
       "      <th>received</th>\n",
       "      <th>viewed</th>\n",
       "    </tr>\n",
       "  </thead>\n",
       "  <tbody>\n",
       "    <tr>\n",
       "      <td>0</td>\n",
       "      <td>78afa995795e4d85b5d9ceeca43f5fef</td>\n",
       "      <td>offer received</td>\n",
       "      <td>0</td>\n",
       "      <td>0</td>\n",
       "      <td>9b98b8c7a33c4b65b9aebfe6a799e6d9</td>\n",
       "      <td>0</td>\n",
       "      <td>1</td>\n",
       "      <td>0</td>\n",
       "    </tr>\n",
       "    <tr>\n",
       "      <td>1</td>\n",
       "      <td>a03223e636434f42ac4c3df47e8bac43</td>\n",
       "      <td>offer received</td>\n",
       "      <td>0</td>\n",
       "      <td>0</td>\n",
       "      <td>0b1e1539f2cc45b7b9fa7c272da2e1d7</td>\n",
       "      <td>0</td>\n",
       "      <td>1</td>\n",
       "      <td>0</td>\n",
       "    </tr>\n",
       "    <tr>\n",
       "      <td>2</td>\n",
       "      <td>e2127556f4f64592b11af22de27a7932</td>\n",
       "      <td>offer received</td>\n",
       "      <td>0</td>\n",
       "      <td>0</td>\n",
       "      <td>2906b810c7d4411798c6938adc9daaa5</td>\n",
       "      <td>0</td>\n",
       "      <td>1</td>\n",
       "      <td>0</td>\n",
       "    </tr>\n",
       "    <tr>\n",
       "      <td>3</td>\n",
       "      <td>8ec6ce2a7e7949b1bf142def7d0e0586</td>\n",
       "      <td>offer received</td>\n",
       "      <td>0</td>\n",
       "      <td>0</td>\n",
       "      <td>fafdcd668e3743c1bb461111dcafc2a4</td>\n",
       "      <td>0</td>\n",
       "      <td>1</td>\n",
       "      <td>0</td>\n",
       "    </tr>\n",
       "    <tr>\n",
       "      <td>4</td>\n",
       "      <td>68617ca6246f4fbc85e91a2a49552598</td>\n",
       "      <td>offer received</td>\n",
       "      <td>0</td>\n",
       "      <td>0</td>\n",
       "      <td>4d5c57ea9a6940dd891ad53e9dbe8da0</td>\n",
       "      <td>0</td>\n",
       "      <td>1</td>\n",
       "      <td>0</td>\n",
       "    </tr>\n",
       "    <tr>\n",
       "      <td>...</td>\n",
       "      <td>...</td>\n",
       "      <td>...</td>\n",
       "      <td>...</td>\n",
       "      <td>...</td>\n",
       "      <td>...</td>\n",
       "      <td>...</td>\n",
       "      <td>...</td>\n",
       "      <td>...</td>\n",
       "    </tr>\n",
       "    <tr>\n",
       "      <td>167576</td>\n",
       "      <td>a6f84f4e976f44508c358cc9aba6d2b3</td>\n",
       "      <td>offer completed</td>\n",
       "      <td>714</td>\n",
       "      <td>30</td>\n",
       "      <td>2298d6c36e964ae4a3e7e9706d1fb8c2</td>\n",
       "      <td>1</td>\n",
       "      <td>0</td>\n",
       "      <td>0</td>\n",
       "    </tr>\n",
       "    <tr>\n",
       "      <td>167577</td>\n",
       "      <td>b895c57e8cd047a8872ce02aa54759d6</td>\n",
       "      <td>offer completed</td>\n",
       "      <td>714</td>\n",
       "      <td>30</td>\n",
       "      <td>fafdcd668e3743c1bb461111dcafc2a4</td>\n",
       "      <td>1</td>\n",
       "      <td>0</td>\n",
       "      <td>0</td>\n",
       "    </tr>\n",
       "    <tr>\n",
       "      <td>167578</td>\n",
       "      <td>8dda575c2a1d44b9ac8e8b07b93d1f8e</td>\n",
       "      <td>offer viewed</td>\n",
       "      <td>714</td>\n",
       "      <td>30</td>\n",
       "      <td>0b1e1539f2cc45b7b9fa7c272da2e1d7</td>\n",
       "      <td>0</td>\n",
       "      <td>0</td>\n",
       "      <td>1</td>\n",
       "    </tr>\n",
       "    <tr>\n",
       "      <td>167579</td>\n",
       "      <td>8431c16f8e1d440880db371a68f82dd0</td>\n",
       "      <td>offer completed</td>\n",
       "      <td>714</td>\n",
       "      <td>30</td>\n",
       "      <td>fafdcd668e3743c1bb461111dcafc2a4</td>\n",
       "      <td>1</td>\n",
       "      <td>0</td>\n",
       "      <td>0</td>\n",
       "    </tr>\n",
       "    <tr>\n",
       "      <td>167580</td>\n",
       "      <td>24f56b5e1849462093931b164eb803b5</td>\n",
       "      <td>offer completed</td>\n",
       "      <td>714</td>\n",
       "      <td>30</td>\n",
       "      <td>fafdcd668e3743c1bb461111dcafc2a4</td>\n",
       "      <td>1</td>\n",
       "      <td>0</td>\n",
       "      <td>0</td>\n",
       "    </tr>\n",
       "  </tbody>\n",
       "</table>\n",
       "<p>167581 rows × 8 columns</p>\n",
       "</div>"
      ],
      "text/plain": [
       "                             customer_id            event  time  days  \\\n",
       "0       78afa995795e4d85b5d9ceeca43f5fef   offer received     0     0   \n",
       "1       a03223e636434f42ac4c3df47e8bac43   offer received     0     0   \n",
       "2       e2127556f4f64592b11af22de27a7932   offer received     0     0   \n",
       "3       8ec6ce2a7e7949b1bf142def7d0e0586   offer received     0     0   \n",
       "4       68617ca6246f4fbc85e91a2a49552598   offer received     0     0   \n",
       "...                                  ...              ...   ...   ...   \n",
       "167576  a6f84f4e976f44508c358cc9aba6d2b3  offer completed   714    30   \n",
       "167577  b895c57e8cd047a8872ce02aa54759d6  offer completed   714    30   \n",
       "167578  8dda575c2a1d44b9ac8e8b07b93d1f8e     offer viewed   714    30   \n",
       "167579  8431c16f8e1d440880db371a68f82dd0  offer completed   714    30   \n",
       "167580  24f56b5e1849462093931b164eb803b5  offer completed   714    30   \n",
       "\n",
       "                                offer_id  completed  received  viewed  \n",
       "0       9b98b8c7a33c4b65b9aebfe6a799e6d9          0         1       0  \n",
       "1       0b1e1539f2cc45b7b9fa7c272da2e1d7          0         1       0  \n",
       "2       2906b810c7d4411798c6938adc9daaa5          0         1       0  \n",
       "3       fafdcd668e3743c1bb461111dcafc2a4          0         1       0  \n",
       "4       4d5c57ea9a6940dd891ad53e9dbe8da0          0         1       0  \n",
       "...                                  ...        ...       ...     ...  \n",
       "167576  2298d6c36e964ae4a3e7e9706d1fb8c2          1         0       0  \n",
       "167577  fafdcd668e3743c1bb461111dcafc2a4          1         0       0  \n",
       "167578  0b1e1539f2cc45b7b9fa7c272da2e1d7          0         0       1  \n",
       "167579  fafdcd668e3743c1bb461111dcafc2a4          1         0       0  \n",
       "167580  fafdcd668e3743c1bb461111dcafc2a4          1         0       0  \n",
       "\n",
       "[167581 rows x 8 columns]"
      ]
     },
     "execution_count": 20,
     "metadata": {},
     "output_type": "execute_result"
    }
   ],
   "source": [
    "df_temp=pd.get_dummies(data=transcript_offer.event )\n",
    "df_transcript_offer=pd.concat([transcript_offer,df_temp], axis=1)\n",
    "df_transcript_offer.rename({'offer completed':'completed','offer received':'received', 'offer viewed': 'viewed'},axis=1, inplace= True)\n",
    "df_transcript_offer"
   ]
  },
  {
   "cell_type": "code",
   "execution_count": 36,
   "metadata": {},
   "outputs": [
    {
     "data": {
      "text/html": [
       "<div>\n",
       "<style scoped>\n",
       "    .dataframe tbody tr th:only-of-type {\n",
       "        vertical-align: middle;\n",
       "    }\n",
       "\n",
       "    .dataframe tbody tr th {\n",
       "        vertical-align: top;\n",
       "    }\n",
       "\n",
       "    .dataframe thead th {\n",
       "        text-align: right;\n",
       "    }\n",
       "</style>\n",
       "<table border=\"1\" class=\"dataframe\">\n",
       "  <thead>\n",
       "    <tr style=\"text-align: right;\">\n",
       "      <th></th>\n",
       "      <th></th>\n",
       "      <th>time</th>\n",
       "      <th>days</th>\n",
       "      <th>completed</th>\n",
       "      <th>received</th>\n",
       "      <th>viewed</th>\n",
       "    </tr>\n",
       "    <tr>\n",
       "      <th>customer_id</th>\n",
       "      <th>offer_id</th>\n",
       "      <th></th>\n",
       "      <th></th>\n",
       "      <th></th>\n",
       "      <th></th>\n",
       "      <th></th>\n",
       "    </tr>\n",
       "  </thead>\n",
       "  <tbody>\n",
       "    <tr>\n",
       "      <td rowspan=\"5\" valign=\"top\">0009655768c64bdeb2e877511632db8f</td>\n",
       "      <td>2906b810c7d4411798c6938adc9daaa5</td>\n",
       "      <td>1152</td>\n",
       "      <td>48</td>\n",
       "      <td>1</td>\n",
       "      <td>1</td>\n",
       "      <td>0</td>\n",
       "    </tr>\n",
       "    <tr>\n",
       "      <td>3f207df678b143eea3cee63160fa8bed</td>\n",
       "      <td>708</td>\n",
       "      <td>30</td>\n",
       "      <td>0</td>\n",
       "      <td>1</td>\n",
       "      <td>1</td>\n",
       "    </tr>\n",
       "    <tr>\n",
       "      <td>5a8bc65990b245e5a138643cd4eb9837</td>\n",
       "      <td>360</td>\n",
       "      <td>15</td>\n",
       "      <td>0</td>\n",
       "      <td>1</td>\n",
       "      <td>1</td>\n",
       "    </tr>\n",
       "    <tr>\n",
       "      <td>f19421c1d4aa40978ebb69ca19b0e20d</td>\n",
       "      <td>1278</td>\n",
       "      <td>53</td>\n",
       "      <td>1</td>\n",
       "      <td>1</td>\n",
       "      <td>1</td>\n",
       "    </tr>\n",
       "    <tr>\n",
       "      <td>fafdcd668e3743c1bb461111dcafc2a4</td>\n",
       "      <td>1572</td>\n",
       "      <td>65</td>\n",
       "      <td>1</td>\n",
       "      <td>1</td>\n",
       "      <td>1</td>\n",
       "    </tr>\n",
       "    <tr>\n",
       "      <td>...</td>\n",
       "      <td>...</td>\n",
       "      <td>...</td>\n",
       "      <td>...</td>\n",
       "      <td>...</td>\n",
       "      <td>...</td>\n",
       "      <td>...</td>\n",
       "    </tr>\n",
       "    <tr>\n",
       "      <td>fffad4f4828548d1b5583907f2e9906b</td>\n",
       "      <td>f19421c1d4aa40978ebb69ca19b0e20d</td>\n",
       "      <td>1476</td>\n",
       "      <td>62</td>\n",
       "      <td>2</td>\n",
       "      <td>2</td>\n",
       "      <td>2</td>\n",
       "    </tr>\n",
       "    <tr>\n",
       "      <td rowspan=\"4\" valign=\"top\">ffff82501cea40309d5fdd7edcca4a07</td>\n",
       "      <td>0b1e1539f2cc45b7b9fa7c272da2e1d7</td>\n",
       "      <td>540</td>\n",
       "      <td>22</td>\n",
       "      <td>1</td>\n",
       "      <td>1</td>\n",
       "      <td>1</td>\n",
       "    </tr>\n",
       "    <tr>\n",
       "      <td>2906b810c7d4411798c6938adc9daaa5</td>\n",
       "      <td>4044</td>\n",
       "      <td>168</td>\n",
       "      <td>3</td>\n",
       "      <td>3</td>\n",
       "      <td>3</td>\n",
       "    </tr>\n",
       "    <tr>\n",
       "      <td>9b98b8c7a33c4b65b9aebfe6a799e6d9</td>\n",
       "      <td>1542</td>\n",
       "      <td>64</td>\n",
       "      <td>1</td>\n",
       "      <td>1</td>\n",
       "      <td>1</td>\n",
       "    </tr>\n",
       "    <tr>\n",
       "      <td>fafdcd668e3743c1bb461111dcafc2a4</td>\n",
       "      <td>66</td>\n",
       "      <td>2</td>\n",
       "      <td>1</td>\n",
       "      <td>1</td>\n",
       "      <td>1</td>\n",
       "    </tr>\n",
       "  </tbody>\n",
       "</table>\n",
       "<p>63288 rows × 5 columns</p>\n",
       "</div>"
      ],
      "text/plain": [
       "                                                                   time  days  \\\n",
       "customer_id                      offer_id                                       \n",
       "0009655768c64bdeb2e877511632db8f 2906b810c7d4411798c6938adc9daaa5  1152    48   \n",
       "                                 3f207df678b143eea3cee63160fa8bed   708    30   \n",
       "                                 5a8bc65990b245e5a138643cd4eb9837   360    15   \n",
       "                                 f19421c1d4aa40978ebb69ca19b0e20d  1278    53   \n",
       "                                 fafdcd668e3743c1bb461111dcafc2a4  1572    65   \n",
       "...                                                                 ...   ...   \n",
       "fffad4f4828548d1b5583907f2e9906b f19421c1d4aa40978ebb69ca19b0e20d  1476    62   \n",
       "ffff82501cea40309d5fdd7edcca4a07 0b1e1539f2cc45b7b9fa7c272da2e1d7   540    22   \n",
       "                                 2906b810c7d4411798c6938adc9daaa5  4044   168   \n",
       "                                 9b98b8c7a33c4b65b9aebfe6a799e6d9  1542    64   \n",
       "                                 fafdcd668e3743c1bb461111dcafc2a4    66     2   \n",
       "\n",
       "                                                                   completed  \\\n",
       "customer_id                      offer_id                                      \n",
       "0009655768c64bdeb2e877511632db8f 2906b810c7d4411798c6938adc9daaa5          1   \n",
       "                                 3f207df678b143eea3cee63160fa8bed          0   \n",
       "                                 5a8bc65990b245e5a138643cd4eb9837          0   \n",
       "                                 f19421c1d4aa40978ebb69ca19b0e20d          1   \n",
       "                                 fafdcd668e3743c1bb461111dcafc2a4          1   \n",
       "...                                                                      ...   \n",
       "fffad4f4828548d1b5583907f2e9906b f19421c1d4aa40978ebb69ca19b0e20d          2   \n",
       "ffff82501cea40309d5fdd7edcca4a07 0b1e1539f2cc45b7b9fa7c272da2e1d7          1   \n",
       "                                 2906b810c7d4411798c6938adc9daaa5          3   \n",
       "                                 9b98b8c7a33c4b65b9aebfe6a799e6d9          1   \n",
       "                                 fafdcd668e3743c1bb461111dcafc2a4          1   \n",
       "\n",
       "                                                                   received  \\\n",
       "customer_id                      offer_id                                     \n",
       "0009655768c64bdeb2e877511632db8f 2906b810c7d4411798c6938adc9daaa5         1   \n",
       "                                 3f207df678b143eea3cee63160fa8bed         1   \n",
       "                                 5a8bc65990b245e5a138643cd4eb9837         1   \n",
       "                                 f19421c1d4aa40978ebb69ca19b0e20d         1   \n",
       "                                 fafdcd668e3743c1bb461111dcafc2a4         1   \n",
       "...                                                                     ...   \n",
       "fffad4f4828548d1b5583907f2e9906b f19421c1d4aa40978ebb69ca19b0e20d         2   \n",
       "ffff82501cea40309d5fdd7edcca4a07 0b1e1539f2cc45b7b9fa7c272da2e1d7         1   \n",
       "                                 2906b810c7d4411798c6938adc9daaa5         3   \n",
       "                                 9b98b8c7a33c4b65b9aebfe6a799e6d9         1   \n",
       "                                 fafdcd668e3743c1bb461111dcafc2a4         1   \n",
       "\n",
       "                                                                   viewed  \n",
       "customer_id                      offer_id                                  \n",
       "0009655768c64bdeb2e877511632db8f 2906b810c7d4411798c6938adc9daaa5       0  \n",
       "                                 3f207df678b143eea3cee63160fa8bed       1  \n",
       "                                 5a8bc65990b245e5a138643cd4eb9837       1  \n",
       "                                 f19421c1d4aa40978ebb69ca19b0e20d       1  \n",
       "                                 fafdcd668e3743c1bb461111dcafc2a4       1  \n",
       "...                                                                   ...  \n",
       "fffad4f4828548d1b5583907f2e9906b f19421c1d4aa40978ebb69ca19b0e20d       2  \n",
       "ffff82501cea40309d5fdd7edcca4a07 0b1e1539f2cc45b7b9fa7c272da2e1d7       1  \n",
       "                                 2906b810c7d4411798c6938adc9daaa5       3  \n",
       "                                 9b98b8c7a33c4b65b9aebfe6a799e6d9       1  \n",
       "                                 fafdcd668e3743c1bb461111dcafc2a4       1  \n",
       "\n",
       "[63288 rows x 5 columns]"
      ]
     },
     "execution_count": 36,
     "metadata": {},
     "output_type": "execute_result"
    }
   ],
   "source": [
    "df_transcript_offer.groupby(['customer_id', 'offer_id']).sum()"
   ]
  },
  {
   "cell_type": "code",
   "execution_count": 22,
   "metadata": {},
   "outputs": [
    {
     "data": {
      "text/html": [
       "<div>\n",
       "<style scoped>\n",
       "    .dataframe tbody tr th:only-of-type {\n",
       "        vertical-align: middle;\n",
       "    }\n",
       "\n",
       "    .dataframe tbody tr th {\n",
       "        vertical-align: top;\n",
       "    }\n",
       "\n",
       "    .dataframe thead th {\n",
       "        text-align: right;\n",
       "    }\n",
       "</style>\n",
       "<table border=\"1\" class=\"dataframe\">\n",
       "  <thead>\n",
       "    <tr style=\"text-align: right;\">\n",
       "      <th></th>\n",
       "      <th>customer_id</th>\n",
       "      <th>event</th>\n",
       "      <th>time</th>\n",
       "      <th>days</th>\n",
       "      <th>offer_id</th>\n",
       "    </tr>\n",
       "  </thead>\n",
       "  <tbody>\n",
       "    <tr>\n",
       "      <td>0</td>\n",
       "      <td>78afa995795e4d85b5d9ceeca43f5fef</td>\n",
       "      <td>offer received</td>\n",
       "      <td>0</td>\n",
       "      <td>0</td>\n",
       "      <td>9b98b8c7a33c4b65b9aebfe6a799e6d9</td>\n",
       "    </tr>\n",
       "    <tr>\n",
       "      <td>1</td>\n",
       "      <td>a03223e636434f42ac4c3df47e8bac43</td>\n",
       "      <td>offer received</td>\n",
       "      <td>0</td>\n",
       "      <td>0</td>\n",
       "      <td>0b1e1539f2cc45b7b9fa7c272da2e1d7</td>\n",
       "    </tr>\n",
       "    <tr>\n",
       "      <td>2</td>\n",
       "      <td>e2127556f4f64592b11af22de27a7932</td>\n",
       "      <td>offer received</td>\n",
       "      <td>0</td>\n",
       "      <td>0</td>\n",
       "      <td>2906b810c7d4411798c6938adc9daaa5</td>\n",
       "    </tr>\n",
       "    <tr>\n",
       "      <td>3</td>\n",
       "      <td>8ec6ce2a7e7949b1bf142def7d0e0586</td>\n",
       "      <td>offer received</td>\n",
       "      <td>0</td>\n",
       "      <td>0</td>\n",
       "      <td>fafdcd668e3743c1bb461111dcafc2a4</td>\n",
       "    </tr>\n",
       "    <tr>\n",
       "      <td>4</td>\n",
       "      <td>68617ca6246f4fbc85e91a2a49552598</td>\n",
       "      <td>offer received</td>\n",
       "      <td>0</td>\n",
       "      <td>0</td>\n",
       "      <td>4d5c57ea9a6940dd891ad53e9dbe8da0</td>\n",
       "    </tr>\n",
       "    <tr>\n",
       "      <td>...</td>\n",
       "      <td>...</td>\n",
       "      <td>...</td>\n",
       "      <td>...</td>\n",
       "      <td>...</td>\n",
       "      <td>...</td>\n",
       "    </tr>\n",
       "    <tr>\n",
       "      <td>76272</td>\n",
       "      <td>d087c473b4d247ccb0abfef59ba12b0e</td>\n",
       "      <td>offer received</td>\n",
       "      <td>576</td>\n",
       "      <td>24</td>\n",
       "      <td>ae264e3637204a6fb9bb56bc8210ddfd</td>\n",
       "    </tr>\n",
       "    <tr>\n",
       "      <td>76273</td>\n",
       "      <td>cb23b66c56f64b109d673d5e56574529</td>\n",
       "      <td>offer received</td>\n",
       "      <td>576</td>\n",
       "      <td>24</td>\n",
       "      <td>2906b810c7d4411798c6938adc9daaa5</td>\n",
       "    </tr>\n",
       "    <tr>\n",
       "      <td>76274</td>\n",
       "      <td>6d5f3a774f3d4714ab0c092238f3a1d7</td>\n",
       "      <td>offer received</td>\n",
       "      <td>576</td>\n",
       "      <td>24</td>\n",
       "      <td>2298d6c36e964ae4a3e7e9706d1fb8c2</td>\n",
       "    </tr>\n",
       "    <tr>\n",
       "      <td>76275</td>\n",
       "      <td>9dc1421481194dcd9400aec7c9ae6366</td>\n",
       "      <td>offer received</td>\n",
       "      <td>576</td>\n",
       "      <td>24</td>\n",
       "      <td>ae264e3637204a6fb9bb56bc8210ddfd</td>\n",
       "    </tr>\n",
       "    <tr>\n",
       "      <td>76276</td>\n",
       "      <td>e4052622e5ba45a8b96b59aba68cf068</td>\n",
       "      <td>offer received</td>\n",
       "      <td>576</td>\n",
       "      <td>24</td>\n",
       "      <td>3f207df678b143eea3cee63160fa8bed</td>\n",
       "    </tr>\n",
       "  </tbody>\n",
       "</table>\n",
       "<p>76277 rows × 5 columns</p>\n",
       "</div>"
      ],
      "text/plain": [
       "                            customer_id           event  time  days  \\\n",
       "0      78afa995795e4d85b5d9ceeca43f5fef  offer received     0     0   \n",
       "1      a03223e636434f42ac4c3df47e8bac43  offer received     0     0   \n",
       "2      e2127556f4f64592b11af22de27a7932  offer received     0     0   \n",
       "3      8ec6ce2a7e7949b1bf142def7d0e0586  offer received     0     0   \n",
       "4      68617ca6246f4fbc85e91a2a49552598  offer received     0     0   \n",
       "...                                 ...             ...   ...   ...   \n",
       "76272  d087c473b4d247ccb0abfef59ba12b0e  offer received   576    24   \n",
       "76273  cb23b66c56f64b109d673d5e56574529  offer received   576    24   \n",
       "76274  6d5f3a774f3d4714ab0c092238f3a1d7  offer received   576    24   \n",
       "76275  9dc1421481194dcd9400aec7c9ae6366  offer received   576    24   \n",
       "76276  e4052622e5ba45a8b96b59aba68cf068  offer received   576    24   \n",
       "\n",
       "                               offer_id  \n",
       "0      9b98b8c7a33c4b65b9aebfe6a799e6d9  \n",
       "1      0b1e1539f2cc45b7b9fa7c272da2e1d7  \n",
       "2      2906b810c7d4411798c6938adc9daaa5  \n",
       "3      fafdcd668e3743c1bb461111dcafc2a4  \n",
       "4      4d5c57ea9a6940dd891ad53e9dbe8da0  \n",
       "...                                 ...  \n",
       "76272  ae264e3637204a6fb9bb56bc8210ddfd  \n",
       "76273  2906b810c7d4411798c6938adc9daaa5  \n",
       "76274  2298d6c36e964ae4a3e7e9706d1fb8c2  \n",
       "76275  ae264e3637204a6fb9bb56bc8210ddfd  \n",
       "76276  3f207df678b143eea3cee63160fa8bed  \n",
       "\n",
       "[76277 rows x 5 columns]"
      ]
     },
     "execution_count": 22,
     "metadata": {},
     "output_type": "execute_result"
    }
   ],
   "source": [
    "transcript_offer_received=transcript_offer[transcript_offer['event']=='offer received']\n",
    "transcript_offer_received.reset_index(inplace=True,drop=True)\n",
    "transcript_offer_received"
   ]
  },
  {
   "cell_type": "code",
   "execution_count": 23,
   "metadata": {},
   "outputs": [
    {
     "data": {
      "text/html": [
       "<div>\n",
       "<style scoped>\n",
       "    .dataframe tbody tr th:only-of-type {\n",
       "        vertical-align: middle;\n",
       "    }\n",
       "\n",
       "    .dataframe tbody tr th {\n",
       "        vertical-align: top;\n",
       "    }\n",
       "\n",
       "    .dataframe thead th {\n",
       "        text-align: right;\n",
       "    }\n",
       "</style>\n",
       "<table border=\"1\" class=\"dataframe\">\n",
       "  <thead>\n",
       "    <tr style=\"text-align: right;\">\n",
       "      <th></th>\n",
       "      <th>customer_id</th>\n",
       "      <th>event</th>\n",
       "      <th>time</th>\n",
       "      <th>days</th>\n",
       "      <th>offer_id</th>\n",
       "    </tr>\n",
       "  </thead>\n",
       "  <tbody>\n",
       "    <tr>\n",
       "      <td>0</td>\n",
       "      <td>389bc3fa690240e798340f5a15918d5c</td>\n",
       "      <td>offer viewed</td>\n",
       "      <td>0</td>\n",
       "      <td>0</td>\n",
       "      <td>f19421c1d4aa40978ebb69ca19b0e20d</td>\n",
       "    </tr>\n",
       "    <tr>\n",
       "      <td>1</td>\n",
       "      <td>d1ede868e29245ea91818a903fec04c6</td>\n",
       "      <td>offer viewed</td>\n",
       "      <td>0</td>\n",
       "      <td>0</td>\n",
       "      <td>5a8bc65990b245e5a138643cd4eb9837</td>\n",
       "    </tr>\n",
       "    <tr>\n",
       "      <td>2</td>\n",
       "      <td>102e9454054946fda62242d2e176fdce</td>\n",
       "      <td>offer viewed</td>\n",
       "      <td>0</td>\n",
       "      <td>0</td>\n",
       "      <td>4d5c57ea9a6940dd891ad53e9dbe8da0</td>\n",
       "    </tr>\n",
       "    <tr>\n",
       "      <td>3</td>\n",
       "      <td>02c083884c7d45b39cc68e1314fec56c</td>\n",
       "      <td>offer viewed</td>\n",
       "      <td>0</td>\n",
       "      <td>0</td>\n",
       "      <td>ae264e3637204a6fb9bb56bc8210ddfd</td>\n",
       "    </tr>\n",
       "    <tr>\n",
       "      <td>4</td>\n",
       "      <td>be8a5d1981a2458d90b255ddc7e0d174</td>\n",
       "      <td>offer viewed</td>\n",
       "      <td>0</td>\n",
       "      <td>0</td>\n",
       "      <td>5a8bc65990b245e5a138643cd4eb9837</td>\n",
       "    </tr>\n",
       "    <tr>\n",
       "      <td>...</td>\n",
       "      <td>...</td>\n",
       "      <td>...</td>\n",
       "      <td>...</td>\n",
       "      <td>...</td>\n",
       "      <td>...</td>\n",
       "    </tr>\n",
       "    <tr>\n",
       "      <td>57720</td>\n",
       "      <td>d56386cf344c4829bbf420d1895dca37</td>\n",
       "      <td>offer viewed</td>\n",
       "      <td>714</td>\n",
       "      <td>30</td>\n",
       "      <td>5a8bc65990b245e5a138643cd4eb9837</td>\n",
       "    </tr>\n",
       "    <tr>\n",
       "      <td>57721</td>\n",
       "      <td>9b51e8797290403b90d09d864dec4b94</td>\n",
       "      <td>offer viewed</td>\n",
       "      <td>714</td>\n",
       "      <td>30</td>\n",
       "      <td>3f207df678b143eea3cee63160fa8bed</td>\n",
       "    </tr>\n",
       "    <tr>\n",
       "      <td>57722</td>\n",
       "      <td>84fb57a7fe8045a8bf6236738ee73a0f</td>\n",
       "      <td>offer viewed</td>\n",
       "      <td>714</td>\n",
       "      <td>30</td>\n",
       "      <td>5a8bc65990b245e5a138643cd4eb9837</td>\n",
       "    </tr>\n",
       "    <tr>\n",
       "      <td>57723</td>\n",
       "      <td>abc4359eb34e4e2ca2349da2ddf771b6</td>\n",
       "      <td>offer viewed</td>\n",
       "      <td>714</td>\n",
       "      <td>30</td>\n",
       "      <td>3f207df678b143eea3cee63160fa8bed</td>\n",
       "    </tr>\n",
       "    <tr>\n",
       "      <td>57724</td>\n",
       "      <td>8dda575c2a1d44b9ac8e8b07b93d1f8e</td>\n",
       "      <td>offer viewed</td>\n",
       "      <td>714</td>\n",
       "      <td>30</td>\n",
       "      <td>0b1e1539f2cc45b7b9fa7c272da2e1d7</td>\n",
       "    </tr>\n",
       "  </tbody>\n",
       "</table>\n",
       "<p>57725 rows × 5 columns</p>\n",
       "</div>"
      ],
      "text/plain": [
       "                            customer_id         event  time  days  \\\n",
       "0      389bc3fa690240e798340f5a15918d5c  offer viewed     0     0   \n",
       "1      d1ede868e29245ea91818a903fec04c6  offer viewed     0     0   \n",
       "2      102e9454054946fda62242d2e176fdce  offer viewed     0     0   \n",
       "3      02c083884c7d45b39cc68e1314fec56c  offer viewed     0     0   \n",
       "4      be8a5d1981a2458d90b255ddc7e0d174  offer viewed     0     0   \n",
       "...                                 ...           ...   ...   ...   \n",
       "57720  d56386cf344c4829bbf420d1895dca37  offer viewed   714    30   \n",
       "57721  9b51e8797290403b90d09d864dec4b94  offer viewed   714    30   \n",
       "57722  84fb57a7fe8045a8bf6236738ee73a0f  offer viewed   714    30   \n",
       "57723  abc4359eb34e4e2ca2349da2ddf771b6  offer viewed   714    30   \n",
       "57724  8dda575c2a1d44b9ac8e8b07b93d1f8e  offer viewed   714    30   \n",
       "\n",
       "                               offer_id  \n",
       "0      f19421c1d4aa40978ebb69ca19b0e20d  \n",
       "1      5a8bc65990b245e5a138643cd4eb9837  \n",
       "2      4d5c57ea9a6940dd891ad53e9dbe8da0  \n",
       "3      ae264e3637204a6fb9bb56bc8210ddfd  \n",
       "4      5a8bc65990b245e5a138643cd4eb9837  \n",
       "...                                 ...  \n",
       "57720  5a8bc65990b245e5a138643cd4eb9837  \n",
       "57721  3f207df678b143eea3cee63160fa8bed  \n",
       "57722  5a8bc65990b245e5a138643cd4eb9837  \n",
       "57723  3f207df678b143eea3cee63160fa8bed  \n",
       "57724  0b1e1539f2cc45b7b9fa7c272da2e1d7  \n",
       "\n",
       "[57725 rows x 5 columns]"
      ]
     },
     "execution_count": 23,
     "metadata": {},
     "output_type": "execute_result"
    }
   ],
   "source": [
    "transcript_offer_viewed=transcript_offer[transcript_offer['event']=='offer viewed']\n",
    "transcript_offer_viewed.reset_index(inplace=True,drop=True)\n",
    "transcript_offer_viewed"
   ]
  },
  {
   "cell_type": "code",
   "execution_count": 24,
   "metadata": {},
   "outputs": [
    {
     "data": {
      "text/html": [
       "<div>\n",
       "<style scoped>\n",
       "    .dataframe tbody tr th:only-of-type {\n",
       "        vertical-align: middle;\n",
       "    }\n",
       "\n",
       "    .dataframe tbody tr th {\n",
       "        vertical-align: top;\n",
       "    }\n",
       "\n",
       "    .dataframe thead th {\n",
       "        text-align: right;\n",
       "    }\n",
       "</style>\n",
       "<table border=\"1\" class=\"dataframe\">\n",
       "  <thead>\n",
       "    <tr style=\"text-align: right;\">\n",
       "      <th></th>\n",
       "      <th>customer_id</th>\n",
       "      <th>event</th>\n",
       "      <th>time</th>\n",
       "      <th>days</th>\n",
       "      <th>offer_id</th>\n",
       "    </tr>\n",
       "  </thead>\n",
       "  <tbody>\n",
       "    <tr>\n",
       "      <td>0</td>\n",
       "      <td>9fa9ae8f57894cc9a3b8a9bbe0fc1b2f</td>\n",
       "      <td>offer completed</td>\n",
       "      <td>0</td>\n",
       "      <td>0</td>\n",
       "      <td>2906b810c7d4411798c6938adc9daaa5</td>\n",
       "    </tr>\n",
       "    <tr>\n",
       "      <td>1</td>\n",
       "      <td>fe97aa22dd3e48c8b143116a8403dd52</td>\n",
       "      <td>offer completed</td>\n",
       "      <td>0</td>\n",
       "      <td>0</td>\n",
       "      <td>fafdcd668e3743c1bb461111dcafc2a4</td>\n",
       "    </tr>\n",
       "    <tr>\n",
       "      <td>2</td>\n",
       "      <td>629fc02d56414d91bca360decdfa9288</td>\n",
       "      <td>offer completed</td>\n",
       "      <td>0</td>\n",
       "      <td>0</td>\n",
       "      <td>9b98b8c7a33c4b65b9aebfe6a799e6d9</td>\n",
       "    </tr>\n",
       "    <tr>\n",
       "      <td>3</td>\n",
       "      <td>676506bad68e4161b9bbaffeb039626b</td>\n",
       "      <td>offer completed</td>\n",
       "      <td>0</td>\n",
       "      <td>0</td>\n",
       "      <td>ae264e3637204a6fb9bb56bc8210ddfd</td>\n",
       "    </tr>\n",
       "    <tr>\n",
       "      <td>4</td>\n",
       "      <td>8f7dd3b2afe14c078eb4f6e6fe4ba97d</td>\n",
       "      <td>offer completed</td>\n",
       "      <td>0</td>\n",
       "      <td>0</td>\n",
       "      <td>4d5c57ea9a6940dd891ad53e9dbe8da0</td>\n",
       "    </tr>\n",
       "    <tr>\n",
       "      <td>...</td>\n",
       "      <td>...</td>\n",
       "      <td>...</td>\n",
       "      <td>...</td>\n",
       "      <td>...</td>\n",
       "      <td>...</td>\n",
       "    </tr>\n",
       "    <tr>\n",
       "      <td>33574</td>\n",
       "      <td>0c027f5f34dd4b9eba0a25785c611273</td>\n",
       "      <td>offer completed</td>\n",
       "      <td>714</td>\n",
       "      <td>30</td>\n",
       "      <td>2298d6c36e964ae4a3e7e9706d1fb8c2</td>\n",
       "    </tr>\n",
       "    <tr>\n",
       "      <td>33575</td>\n",
       "      <td>a6f84f4e976f44508c358cc9aba6d2b3</td>\n",
       "      <td>offer completed</td>\n",
       "      <td>714</td>\n",
       "      <td>30</td>\n",
       "      <td>2298d6c36e964ae4a3e7e9706d1fb8c2</td>\n",
       "    </tr>\n",
       "    <tr>\n",
       "      <td>33576</td>\n",
       "      <td>b895c57e8cd047a8872ce02aa54759d6</td>\n",
       "      <td>offer completed</td>\n",
       "      <td>714</td>\n",
       "      <td>30</td>\n",
       "      <td>fafdcd668e3743c1bb461111dcafc2a4</td>\n",
       "    </tr>\n",
       "    <tr>\n",
       "      <td>33577</td>\n",
       "      <td>8431c16f8e1d440880db371a68f82dd0</td>\n",
       "      <td>offer completed</td>\n",
       "      <td>714</td>\n",
       "      <td>30</td>\n",
       "      <td>fafdcd668e3743c1bb461111dcafc2a4</td>\n",
       "    </tr>\n",
       "    <tr>\n",
       "      <td>33578</td>\n",
       "      <td>24f56b5e1849462093931b164eb803b5</td>\n",
       "      <td>offer completed</td>\n",
       "      <td>714</td>\n",
       "      <td>30</td>\n",
       "      <td>fafdcd668e3743c1bb461111dcafc2a4</td>\n",
       "    </tr>\n",
       "  </tbody>\n",
       "</table>\n",
       "<p>33579 rows × 5 columns</p>\n",
       "</div>"
      ],
      "text/plain": [
       "                            customer_id            event  time  days  \\\n",
       "0      9fa9ae8f57894cc9a3b8a9bbe0fc1b2f  offer completed     0     0   \n",
       "1      fe97aa22dd3e48c8b143116a8403dd52  offer completed     0     0   \n",
       "2      629fc02d56414d91bca360decdfa9288  offer completed     0     0   \n",
       "3      676506bad68e4161b9bbaffeb039626b  offer completed     0     0   \n",
       "4      8f7dd3b2afe14c078eb4f6e6fe4ba97d  offer completed     0     0   \n",
       "...                                 ...              ...   ...   ...   \n",
       "33574  0c027f5f34dd4b9eba0a25785c611273  offer completed   714    30   \n",
       "33575  a6f84f4e976f44508c358cc9aba6d2b3  offer completed   714    30   \n",
       "33576  b895c57e8cd047a8872ce02aa54759d6  offer completed   714    30   \n",
       "33577  8431c16f8e1d440880db371a68f82dd0  offer completed   714    30   \n",
       "33578  24f56b5e1849462093931b164eb803b5  offer completed   714    30   \n",
       "\n",
       "                               offer_id  \n",
       "0      2906b810c7d4411798c6938adc9daaa5  \n",
       "1      fafdcd668e3743c1bb461111dcafc2a4  \n",
       "2      9b98b8c7a33c4b65b9aebfe6a799e6d9  \n",
       "3      ae264e3637204a6fb9bb56bc8210ddfd  \n",
       "4      4d5c57ea9a6940dd891ad53e9dbe8da0  \n",
       "...                                 ...  \n",
       "33574  2298d6c36e964ae4a3e7e9706d1fb8c2  \n",
       "33575  2298d6c36e964ae4a3e7e9706d1fb8c2  \n",
       "33576  fafdcd668e3743c1bb461111dcafc2a4  \n",
       "33577  fafdcd668e3743c1bb461111dcafc2a4  \n",
       "33578  fafdcd668e3743c1bb461111dcafc2a4  \n",
       "\n",
       "[33579 rows x 5 columns]"
      ]
     },
     "execution_count": 24,
     "metadata": {},
     "output_type": "execute_result"
    }
   ],
   "source": [
    "transcript_offer_completed=transcript_offer[transcript_offer['event']=='offer completed']\n",
    "transcript_offer_completed.reset_index(inplace=True,drop=True)\n",
    "transcript_offer_completed"
   ]
  },
  {
   "cell_type": "code",
   "execution_count": 25,
   "metadata": {},
   "outputs": [
    {
     "data": {
      "text/html": [
       "<div>\n",
       "<style scoped>\n",
       "    .dataframe tbody tr th:only-of-type {\n",
       "        vertical-align: middle;\n",
       "    }\n",
       "\n",
       "    .dataframe tbody tr th {\n",
       "        vertical-align: top;\n",
       "    }\n",
       "\n",
       "    .dataframe thead th {\n",
       "        text-align: right;\n",
       "    }\n",
       "</style>\n",
       "<table border=\"1\" class=\"dataframe\">\n",
       "  <thead>\n",
       "    <tr style=\"text-align: right;\">\n",
       "      <th></th>\n",
       "      <th>customer_id</th>\n",
       "      <th>event</th>\n",
       "      <th>time</th>\n",
       "      <th>days</th>\n",
       "      <th>amount</th>\n",
       "      <th>offer_id</th>\n",
       "    </tr>\n",
       "  </thead>\n",
       "  <tbody>\n",
       "    <tr>\n",
       "      <td>0</td>\n",
       "      <td>02c083884c7d45b39cc68e1314fec56c</td>\n",
       "      <td>transaction</td>\n",
       "      <td>0</td>\n",
       "      <td>0</td>\n",
       "      <td>0.83</td>\n",
       "      <td>NaN</td>\n",
       "    </tr>\n",
       "    <tr>\n",
       "      <td>1</td>\n",
       "      <td>9fa9ae8f57894cc9a3b8a9bbe0fc1b2f</td>\n",
       "      <td>transaction</td>\n",
       "      <td>0</td>\n",
       "      <td>0</td>\n",
       "      <td>34.56</td>\n",
       "      <td>NaN</td>\n",
       "    </tr>\n",
       "    <tr>\n",
       "      <td>2</td>\n",
       "      <td>54890f68699049c2a04d415abc25e717</td>\n",
       "      <td>transaction</td>\n",
       "      <td>0</td>\n",
       "      <td>0</td>\n",
       "      <td>13.23</td>\n",
       "      <td>NaN</td>\n",
       "    </tr>\n",
       "    <tr>\n",
       "      <td>3</td>\n",
       "      <td>b2f1cd155b864803ad8334cdf13c4bd2</td>\n",
       "      <td>transaction</td>\n",
       "      <td>0</td>\n",
       "      <td>0</td>\n",
       "      <td>19.51</td>\n",
       "      <td>NaN</td>\n",
       "    </tr>\n",
       "    <tr>\n",
       "      <td>4</td>\n",
       "      <td>fe97aa22dd3e48c8b143116a8403dd52</td>\n",
       "      <td>transaction</td>\n",
       "      <td>0</td>\n",
       "      <td>0</td>\n",
       "      <td>18.97</td>\n",
       "      <td>NaN</td>\n",
       "    </tr>\n",
       "    <tr>\n",
       "      <td>...</td>\n",
       "      <td>...</td>\n",
       "      <td>...</td>\n",
       "      <td>...</td>\n",
       "      <td>...</td>\n",
       "      <td>...</td>\n",
       "      <td>...</td>\n",
       "    </tr>\n",
       "    <tr>\n",
       "      <td>138948</td>\n",
       "      <td>b3a1272bc9904337b331bf348c3e8c17</td>\n",
       "      <td>transaction</td>\n",
       "      <td>714</td>\n",
       "      <td>30</td>\n",
       "      <td>1.59</td>\n",
       "      <td>NaN</td>\n",
       "    </tr>\n",
       "    <tr>\n",
       "      <td>138949</td>\n",
       "      <td>68213b08d99a4ae1b0dcb72aebd9aa35</td>\n",
       "      <td>transaction</td>\n",
       "      <td>714</td>\n",
       "      <td>30</td>\n",
       "      <td>9.53</td>\n",
       "      <td>NaN</td>\n",
       "    </tr>\n",
       "    <tr>\n",
       "      <td>138950</td>\n",
       "      <td>a00058cf10334a308c68e7631c529907</td>\n",
       "      <td>transaction</td>\n",
       "      <td>714</td>\n",
       "      <td>30</td>\n",
       "      <td>3.61</td>\n",
       "      <td>NaN</td>\n",
       "    </tr>\n",
       "    <tr>\n",
       "      <td>138951</td>\n",
       "      <td>76ddbd6576844afe811f1a3c0fbb5bec</td>\n",
       "      <td>transaction</td>\n",
       "      <td>714</td>\n",
       "      <td>30</td>\n",
       "      <td>3.53</td>\n",
       "      <td>NaN</td>\n",
       "    </tr>\n",
       "    <tr>\n",
       "      <td>138952</td>\n",
       "      <td>c02b10e8752c4d8e9b73f918558531f7</td>\n",
       "      <td>transaction</td>\n",
       "      <td>714</td>\n",
       "      <td>30</td>\n",
       "      <td>4.05</td>\n",
       "      <td>NaN</td>\n",
       "    </tr>\n",
       "  </tbody>\n",
       "</table>\n",
       "<p>138953 rows × 6 columns</p>\n",
       "</div>"
      ],
      "text/plain": [
       "                             customer_id        event  time  days  amount  \\\n",
       "0       02c083884c7d45b39cc68e1314fec56c  transaction     0     0    0.83   \n",
       "1       9fa9ae8f57894cc9a3b8a9bbe0fc1b2f  transaction     0     0   34.56   \n",
       "2       54890f68699049c2a04d415abc25e717  transaction     0     0   13.23   \n",
       "3       b2f1cd155b864803ad8334cdf13c4bd2  transaction     0     0   19.51   \n",
       "4       fe97aa22dd3e48c8b143116a8403dd52  transaction     0     0   18.97   \n",
       "...                                  ...          ...   ...   ...     ...   \n",
       "138948  b3a1272bc9904337b331bf348c3e8c17  transaction   714    30    1.59   \n",
       "138949  68213b08d99a4ae1b0dcb72aebd9aa35  transaction   714    30    9.53   \n",
       "138950  a00058cf10334a308c68e7631c529907  transaction   714    30    3.61   \n",
       "138951  76ddbd6576844afe811f1a3c0fbb5bec  transaction   714    30    3.53   \n",
       "138952  c02b10e8752c4d8e9b73f918558531f7  transaction   714    30    4.05   \n",
       "\n",
       "       offer_id  \n",
       "0           NaN  \n",
       "1           NaN  \n",
       "2           NaN  \n",
       "3           NaN  \n",
       "4           NaN  \n",
       "...         ...  \n",
       "138948      NaN  \n",
       "138949      NaN  \n",
       "138950      NaN  \n",
       "138951      NaN  \n",
       "138952      NaN  \n",
       "\n",
       "[138953 rows x 6 columns]"
      ]
     },
     "execution_count": 25,
     "metadata": {},
     "output_type": "execute_result"
    }
   ],
   "source": [
    "transcript_trans=transcript[transcript['amount'].notnull()]\n",
    "transcript_trans.reset_index(inplace=True,drop=True)\n",
    "transcript_trans"
   ]
  },
  {
   "cell_type": "markdown",
   "metadata": {},
   "source": [
    "# Profile"
   ]
  },
  {
   "cell_type": "code",
   "execution_count": 26,
   "metadata": {},
   "outputs": [
    {
     "data": {
      "text/html": [
       "<div>\n",
       "<style scoped>\n",
       "    .dataframe tbody tr th:only-of-type {\n",
       "        vertical-align: middle;\n",
       "    }\n",
       "\n",
       "    .dataframe tbody tr th {\n",
       "        vertical-align: top;\n",
       "    }\n",
       "\n",
       "    .dataframe thead th {\n",
       "        text-align: right;\n",
       "    }\n",
       "</style>\n",
       "<table border=\"1\" class=\"dataframe\">\n",
       "  <thead>\n",
       "    <tr style=\"text-align: right;\">\n",
       "      <th></th>\n",
       "      <th>gender</th>\n",
       "      <th>age</th>\n",
       "      <th>id</th>\n",
       "      <th>became_member_on</th>\n",
       "      <th>income</th>\n",
       "    </tr>\n",
       "  </thead>\n",
       "  <tbody>\n",
       "    <tr>\n",
       "      <td>0</td>\n",
       "      <td>None</td>\n",
       "      <td>118</td>\n",
       "      <td>68be06ca386d4c31939f3a4f0e3dd783</td>\n",
       "      <td>20170212</td>\n",
       "      <td>NaN</td>\n",
       "    </tr>\n",
       "    <tr>\n",
       "      <td>1</td>\n",
       "      <td>F</td>\n",
       "      <td>55</td>\n",
       "      <td>0610b486422d4921ae7d2bf64640c50b</td>\n",
       "      <td>20170715</td>\n",
       "      <td>112000.0</td>\n",
       "    </tr>\n",
       "    <tr>\n",
       "      <td>2</td>\n",
       "      <td>None</td>\n",
       "      <td>118</td>\n",
       "      <td>38fe809add3b4fcf9315a9694bb96ff5</td>\n",
       "      <td>20180712</td>\n",
       "      <td>NaN</td>\n",
       "    </tr>\n",
       "    <tr>\n",
       "      <td>3</td>\n",
       "      <td>F</td>\n",
       "      <td>75</td>\n",
       "      <td>78afa995795e4d85b5d9ceeca43f5fef</td>\n",
       "      <td>20170509</td>\n",
       "      <td>100000.0</td>\n",
       "    </tr>\n",
       "    <tr>\n",
       "      <td>4</td>\n",
       "      <td>None</td>\n",
       "      <td>118</td>\n",
       "      <td>a03223e636434f42ac4c3df47e8bac43</td>\n",
       "      <td>20170804</td>\n",
       "      <td>NaN</td>\n",
       "    </tr>\n",
       "    <tr>\n",
       "      <td>...</td>\n",
       "      <td>...</td>\n",
       "      <td>...</td>\n",
       "      <td>...</td>\n",
       "      <td>...</td>\n",
       "      <td>...</td>\n",
       "    </tr>\n",
       "    <tr>\n",
       "      <td>16995</td>\n",
       "      <td>F</td>\n",
       "      <td>45</td>\n",
       "      <td>6d5f3a774f3d4714ab0c092238f3a1d7</td>\n",
       "      <td>20180604</td>\n",
       "      <td>54000.0</td>\n",
       "    </tr>\n",
       "    <tr>\n",
       "      <td>16996</td>\n",
       "      <td>M</td>\n",
       "      <td>61</td>\n",
       "      <td>2cb4f97358b841b9a9773a7aa05a9d77</td>\n",
       "      <td>20180713</td>\n",
       "      <td>72000.0</td>\n",
       "    </tr>\n",
       "    <tr>\n",
       "      <td>16997</td>\n",
       "      <td>M</td>\n",
       "      <td>49</td>\n",
       "      <td>01d26f638c274aa0b965d24cefe3183f</td>\n",
       "      <td>20170126</td>\n",
       "      <td>73000.0</td>\n",
       "    </tr>\n",
       "    <tr>\n",
       "      <td>16998</td>\n",
       "      <td>F</td>\n",
       "      <td>83</td>\n",
       "      <td>9dc1421481194dcd9400aec7c9ae6366</td>\n",
       "      <td>20160307</td>\n",
       "      <td>50000.0</td>\n",
       "    </tr>\n",
       "    <tr>\n",
       "      <td>16999</td>\n",
       "      <td>F</td>\n",
       "      <td>62</td>\n",
       "      <td>e4052622e5ba45a8b96b59aba68cf068</td>\n",
       "      <td>20170722</td>\n",
       "      <td>82000.0</td>\n",
       "    </tr>\n",
       "  </tbody>\n",
       "</table>\n",
       "<p>17000 rows × 5 columns</p>\n",
       "</div>"
      ],
      "text/plain": [
       "      gender  age                                id  became_member_on  \\\n",
       "0       None  118  68be06ca386d4c31939f3a4f0e3dd783          20170212   \n",
       "1          F   55  0610b486422d4921ae7d2bf64640c50b          20170715   \n",
       "2       None  118  38fe809add3b4fcf9315a9694bb96ff5          20180712   \n",
       "3          F   75  78afa995795e4d85b5d9ceeca43f5fef          20170509   \n",
       "4       None  118  a03223e636434f42ac4c3df47e8bac43          20170804   \n",
       "...      ...  ...                               ...               ...   \n",
       "16995      F   45  6d5f3a774f3d4714ab0c092238f3a1d7          20180604   \n",
       "16996      M   61  2cb4f97358b841b9a9773a7aa05a9d77          20180713   \n",
       "16997      M   49  01d26f638c274aa0b965d24cefe3183f          20170126   \n",
       "16998      F   83  9dc1421481194dcd9400aec7c9ae6366          20160307   \n",
       "16999      F   62  e4052622e5ba45a8b96b59aba68cf068          20170722   \n",
       "\n",
       "         income  \n",
       "0           NaN  \n",
       "1      112000.0  \n",
       "2           NaN  \n",
       "3      100000.0  \n",
       "4           NaN  \n",
       "...         ...  \n",
       "16995   54000.0  \n",
       "16996   72000.0  \n",
       "16997   73000.0  \n",
       "16998   50000.0  \n",
       "16999   82000.0  \n",
       "\n",
       "[17000 rows x 5 columns]"
      ]
     },
     "execution_count": 26,
     "metadata": {},
     "output_type": "execute_result"
    }
   ],
   "source": [
    "profile"
   ]
  },
  {
   "cell_type": "code",
   "execution_count": 27,
   "metadata": {},
   "outputs": [
    {
     "name": "stdout",
     "output_type": "stream",
     "text": [
      "<class 'pandas.core.frame.DataFrame'>\n",
      "RangeIndex: 17000 entries, 0 to 16999\n",
      "Data columns (total 5 columns):\n",
      "gender              14825 non-null object\n",
      "age                 17000 non-null int64\n",
      "id                  17000 non-null object\n",
      "became_member_on    17000 non-null int64\n",
      "income              14825 non-null float64\n",
      "dtypes: float64(1), int64(2), object(2)\n",
      "memory usage: 664.2+ KB\n"
     ]
    }
   ],
   "source": [
    "profile.info()"
   ]
  },
  {
   "cell_type": "markdown",
   "metadata": {},
   "source": [
    "## Data Cleaning : Profile"
   ]
  },
  {
   "cell_type": "code",
   "execution_count": 28,
   "metadata": {},
   "outputs": [
    {
     "data": {
      "text/html": [
       "<div>\n",
       "<style scoped>\n",
       "    .dataframe tbody tr th:only-of-type {\n",
       "        vertical-align: middle;\n",
       "    }\n",
       "\n",
       "    .dataframe tbody tr th {\n",
       "        vertical-align: top;\n",
       "    }\n",
       "\n",
       "    .dataframe thead th {\n",
       "        text-align: right;\n",
       "    }\n",
       "</style>\n",
       "<table border=\"1\" class=\"dataframe\">\n",
       "  <thead>\n",
       "    <tr style=\"text-align: right;\">\n",
       "      <th></th>\n",
       "      <th>gender</th>\n",
       "      <th>age</th>\n",
       "      <th>id</th>\n",
       "      <th>became_member_on</th>\n",
       "      <th>income</th>\n",
       "    </tr>\n",
       "  </thead>\n",
       "  <tbody>\n",
       "  </tbody>\n",
       "</table>\n",
       "</div>"
      ],
      "text/plain": [
       "Empty DataFrame\n",
       "Columns: [gender, age, id, became_member_on, income]\n",
       "Index: []"
      ]
     },
     "execution_count": 28,
     "metadata": {},
     "output_type": "execute_result"
    }
   ],
   "source": [
    "#Check for any duplicated entry on profile ID\n",
    "profile = pd.read_json('data/profile.json', orient='records', lines=True)\n",
    "profile[profile['id'].duplicated()]"
   ]
  },
  {
   "cell_type": "code",
   "execution_count": 29,
   "metadata": {},
   "outputs": [
    {
     "data": {
      "text/plain": [
       "numpy.int64"
      ]
     },
     "execution_count": 29,
     "metadata": {},
     "output_type": "execute_result"
    }
   ],
   "source": [
    "type(profile['became_member_on'][1])"
   ]
  },
  {
   "cell_type": "code",
   "execution_count": 30,
   "metadata": {},
   "outputs": [
    {
     "data": {
      "text/html": [
       "<div>\n",
       "<style scoped>\n",
       "    .dataframe tbody tr th:only-of-type {\n",
       "        vertical-align: middle;\n",
       "    }\n",
       "\n",
       "    .dataframe tbody tr th {\n",
       "        vertical-align: top;\n",
       "    }\n",
       "\n",
       "    .dataframe thead th {\n",
       "        text-align: right;\n",
       "    }\n",
       "</style>\n",
       "<table border=\"1\" class=\"dataframe\">\n",
       "  <thead>\n",
       "    <tr style=\"text-align: right;\">\n",
       "      <th></th>\n",
       "      <th>gender</th>\n",
       "      <th>age</th>\n",
       "      <th>id</th>\n",
       "      <th>became_member_on</th>\n",
       "      <th>income</th>\n",
       "    </tr>\n",
       "  </thead>\n",
       "  <tbody>\n",
       "    <tr>\n",
       "      <td>0</td>\n",
       "      <td>None</td>\n",
       "      <td>118</td>\n",
       "      <td>68be06ca386d4c31939f3a4f0e3dd783</td>\n",
       "      <td>2017-02-12</td>\n",
       "      <td>NaN</td>\n",
       "    </tr>\n",
       "    <tr>\n",
       "      <td>1</td>\n",
       "      <td>F</td>\n",
       "      <td>55</td>\n",
       "      <td>0610b486422d4921ae7d2bf64640c50b</td>\n",
       "      <td>2017-07-15</td>\n",
       "      <td>112000.0</td>\n",
       "    </tr>\n",
       "    <tr>\n",
       "      <td>2</td>\n",
       "      <td>None</td>\n",
       "      <td>118</td>\n",
       "      <td>38fe809add3b4fcf9315a9694bb96ff5</td>\n",
       "      <td>2018-07-12</td>\n",
       "      <td>NaN</td>\n",
       "    </tr>\n",
       "    <tr>\n",
       "      <td>3</td>\n",
       "      <td>F</td>\n",
       "      <td>75</td>\n",
       "      <td>78afa995795e4d85b5d9ceeca43f5fef</td>\n",
       "      <td>2017-05-09</td>\n",
       "      <td>100000.0</td>\n",
       "    </tr>\n",
       "    <tr>\n",
       "      <td>4</td>\n",
       "      <td>None</td>\n",
       "      <td>118</td>\n",
       "      <td>a03223e636434f42ac4c3df47e8bac43</td>\n",
       "      <td>2017-08-04</td>\n",
       "      <td>NaN</td>\n",
       "    </tr>\n",
       "  </tbody>\n",
       "</table>\n",
       "</div>"
      ],
      "text/plain": [
       "  gender  age                                id became_member_on    income\n",
       "0   None  118  68be06ca386d4c31939f3a4f0e3dd783       2017-02-12       NaN\n",
       "1      F   55  0610b486422d4921ae7d2bf64640c50b       2017-07-15  112000.0\n",
       "2   None  118  38fe809add3b4fcf9315a9694bb96ff5       2018-07-12       NaN\n",
       "3      F   75  78afa995795e4d85b5d9ceeca43f5fef       2017-05-09  100000.0\n",
       "4   None  118  a03223e636434f42ac4c3df47e8bac43       2017-08-04       NaN"
      ]
     },
     "execution_count": 30,
     "metadata": {},
     "output_type": "execute_result"
    }
   ],
   "source": [
    "#Change the \"became_member_on\" Column data type from int64 to datetime for futher explorations\n",
    "profile['became_member_on']=pd.to_datetime(profile['became_member_on'], format='%Y%m%d')\n",
    "profile.head()"
   ]
  },
  {
   "cell_type": "code",
   "execution_count": 31,
   "metadata": {},
   "outputs": [
    {
     "data": {
      "text/html": [
       "<div>\n",
       "<style scoped>\n",
       "    .dataframe tbody tr th:only-of-type {\n",
       "        vertical-align: middle;\n",
       "    }\n",
       "\n",
       "    .dataframe tbody tr th {\n",
       "        vertical-align: top;\n",
       "    }\n",
       "\n",
       "    .dataframe thead th {\n",
       "        text-align: right;\n",
       "    }\n",
       "</style>\n",
       "<table border=\"1\" class=\"dataframe\">\n",
       "  <thead>\n",
       "    <tr style=\"text-align: right;\">\n",
       "      <th></th>\n",
       "      <th>gender</th>\n",
       "      <th>age</th>\n",
       "      <th>id</th>\n",
       "      <th>became_member_on</th>\n",
       "      <th>income</th>\n",
       "      <th>join_year</th>\n",
       "      <th>join_month</th>\n",
       "      <th>join_day</th>\n",
       "    </tr>\n",
       "  </thead>\n",
       "  <tbody>\n",
       "    <tr>\n",
       "      <td>0</td>\n",
       "      <td>None</td>\n",
       "      <td>118</td>\n",
       "      <td>68be06ca386d4c31939f3a4f0e3dd783</td>\n",
       "      <td>2017-02-12</td>\n",
       "      <td>NaN</td>\n",
       "      <td>2017</td>\n",
       "      <td>2</td>\n",
       "      <td>12</td>\n",
       "    </tr>\n",
       "    <tr>\n",
       "      <td>1</td>\n",
       "      <td>F</td>\n",
       "      <td>55</td>\n",
       "      <td>0610b486422d4921ae7d2bf64640c50b</td>\n",
       "      <td>2017-07-15</td>\n",
       "      <td>112000.0</td>\n",
       "      <td>2017</td>\n",
       "      <td>7</td>\n",
       "      <td>15</td>\n",
       "    </tr>\n",
       "    <tr>\n",
       "      <td>2</td>\n",
       "      <td>None</td>\n",
       "      <td>118</td>\n",
       "      <td>38fe809add3b4fcf9315a9694bb96ff5</td>\n",
       "      <td>2018-07-12</td>\n",
       "      <td>NaN</td>\n",
       "      <td>2018</td>\n",
       "      <td>7</td>\n",
       "      <td>12</td>\n",
       "    </tr>\n",
       "    <tr>\n",
       "      <td>3</td>\n",
       "      <td>F</td>\n",
       "      <td>75</td>\n",
       "      <td>78afa995795e4d85b5d9ceeca43f5fef</td>\n",
       "      <td>2017-05-09</td>\n",
       "      <td>100000.0</td>\n",
       "      <td>2017</td>\n",
       "      <td>5</td>\n",
       "      <td>9</td>\n",
       "    </tr>\n",
       "    <tr>\n",
       "      <td>4</td>\n",
       "      <td>None</td>\n",
       "      <td>118</td>\n",
       "      <td>a03223e636434f42ac4c3df47e8bac43</td>\n",
       "      <td>2017-08-04</td>\n",
       "      <td>NaN</td>\n",
       "      <td>2017</td>\n",
       "      <td>8</td>\n",
       "      <td>4</td>\n",
       "    </tr>\n",
       "  </tbody>\n",
       "</table>\n",
       "</div>"
      ],
      "text/plain": [
       "  gender  age                                id became_member_on    income  \\\n",
       "0   None  118  68be06ca386d4c31939f3a4f0e3dd783       2017-02-12       NaN   \n",
       "1      F   55  0610b486422d4921ae7d2bf64640c50b       2017-07-15  112000.0   \n",
       "2   None  118  38fe809add3b4fcf9315a9694bb96ff5       2018-07-12       NaN   \n",
       "3      F   75  78afa995795e4d85b5d9ceeca43f5fef       2017-05-09  100000.0   \n",
       "4   None  118  a03223e636434f42ac4c3df47e8bac43       2017-08-04       NaN   \n",
       "\n",
       "   join_year  join_month  join_day  \n",
       "0       2017           2        12  \n",
       "1       2017           7        15  \n",
       "2       2018           7        12  \n",
       "3       2017           5         9  \n",
       "4       2017           8         4  "
      ]
     },
     "execution_count": 31,
     "metadata": {},
     "output_type": "execute_result"
    }
   ],
   "source": [
    "#add column for date, month and year extracted from became_member_on column\n",
    "profile['join_year'] = profile['became_member_on'].dt.year\n",
    "profile['join_month'] = profile['became_member_on'].dt.month\n",
    "profile['join_day'] = profile['became_member_on'].dt.day\n",
    "profile.head()"
   ]
  },
  {
   "cell_type": "code",
   "execution_count": 32,
   "metadata": {},
   "outputs": [],
   "source": [
    "#rename column id to customer_id for future merging purpose\n",
    "profile.rename(columns={'id':'customer_id'}, inplace=True)"
   ]
  },
  {
   "cell_type": "code",
   "execution_count": 33,
   "metadata": {},
   "outputs": [
    {
     "ename": "NameError",
     "evalue": "name 'profile_df1' is not defined",
     "output_type": "error",
     "traceback": [
      "\u001b[1;31m---------------------------------------------------------------------------\u001b[0m",
      "\u001b[1;31mNameError\u001b[0m                                 Traceback (most recent call last)",
      "\u001b[1;32m<ipython-input-33-2e466d3a5bcd>\u001b[0m in \u001b[0;36m<module>\u001b[1;34m\u001b[0m\n\u001b[1;32m----> 1\u001b[1;33m \u001b[0mprofile_df1\u001b[0m\u001b[1;33m.\u001b[0m\u001b[0mreset_index\u001b[0m\u001b[1;33m(\u001b[0m\u001b[0minplace\u001b[0m\u001b[1;33m=\u001b[0m\u001b[1;32mTrue\u001b[0m\u001b[1;33m)\u001b[0m\u001b[1;33m\u001b[0m\u001b[1;33m\u001b[0m\u001b[0m\n\u001b[0m",
      "\u001b[1;31mNameError\u001b[0m: name 'profile_df1' is not defined"
     ]
    }
   ],
   "source": [
    "profile_df1.reset_index(inplace=True)"
   ]
  },
  {
   "cell_type": "code",
   "execution_count": null,
   "metadata": {},
   "outputs": [],
   "source": [
    "profile['gender'].unique()"
   ]
  },
  {
   "cell_type": "code",
   "execution_count": null,
   "metadata": {},
   "outputs": [],
   "source": [
    "profile['gender'].unique()"
   ]
  },
  {
   "cell_type": "code",
   "execution_count": null,
   "metadata": {},
   "outputs": [],
   "source": [
    "profile.isnull().sum()"
   ]
  },
  {
   "cell_type": "code",
   "execution_count": null,
   "metadata": {},
   "outputs": [],
   "source": [
    "profile[profile['gender'].isnull()]"
   ]
  },
  {
   "cell_type": "code",
   "execution_count": null,
   "metadata": {},
   "outputs": [],
   "source": [
    "profile_df1=profile[profile['income'].isnull()]\n",
    "profile_df1"
   ]
  },
  {
   "cell_type": "code",
   "execution_count": null,
   "metadata": {},
   "outputs": [],
   "source": [
    "#If we look at the NaN values they are  from the same age i.e, 118, let's try to find out if that's the value that NaN corresponds to \n",
    "\n",
    "profile[((profile['income'].isnull()) & (profile['gender'].isnull()))]"
   ]
  },
  {
   "cell_type": "markdown",
   "metadata": {},
   "source": [
    "As per my understanding the company/app is putting age 118 as default value where the customer don't want to put their personal details like age, gender and income into the app or the data is simply unavailable.\n",
    "\n",
    "So, age=118 is an indicator rather than age.\n",
    "\n",
    "Since, we are missing important parameters like gender, income and age which can be very useful to get a better understanding of the data and is essential for data modelling.\n",
    "\n",
    "Let's check if we can consider to remove the rows with age=118."
   ]
  },
  {
   "cell_type": "code",
   "execution_count": null,
   "metadata": {},
   "outputs": [],
   "source": [
    "len(profile[profile['age']==118])/len(profile)"
   ]
  },
  {
   "cell_type": "markdown",
   "metadata": {},
   "source": [
    "Around 13% of customer_id doesn't have information about age, income and gender\n",
    "\n",
    "Let's check how many of these customer_id has viewed and completed the offer"
   ]
  },
  {
   "cell_type": "code",
   "execution_count": null,
   "metadata": {},
   "outputs": [],
   "source": [
    "sort_profile="
   ]
  },
  {
   "cell_type": "code",
   "execution_count": null,
   "metadata": {},
   "outputs": [],
   "source": [
    "complete_profile=sort_profile[(sort_profile.customer_id.isin(transcript_offer_completed.customer_id)) & (sort_profile.customer_id.isin(transcript_offer_viewed.customer_id))]\n",
    "complete_profile.reset_index(inplace=True,drop=True)\n",
    "complete_profile"
   ]
  },
  {
   "cell_type": "code",
   "execution_count": null,
   "metadata": {},
   "outputs": [],
   "source": [
    "len(complete_profile)/len(profile)"
   ]
  },
  {
   "cell_type": "code",
   "execution_count": null,
   "metadata": {},
   "outputs": [],
   "source": []
  },
  {
   "cell_type": "code",
   "execution_count": null,
   "metadata": {},
   "outputs": [],
   "source": []
  },
  {
   "cell_type": "code",
   "execution_count": null,
   "metadata": {},
   "outputs": [],
   "source": []
  },
  {
   "cell_type": "code",
   "execution_count": null,
   "metadata": {},
   "outputs": [],
   "source": []
  },
  {
   "cell_type": "code",
   "execution_count": null,
   "metadata": {},
   "outputs": [],
   "source": []
  },
  {
   "cell_type": "code",
   "execution_count": null,
   "metadata": {},
   "outputs": [],
   "source": []
  },
  {
   "cell_type": "code",
   "execution_count": null,
   "metadata": {},
   "outputs": [],
   "source": []
  },
  {
   "cell_type": "code",
   "execution_count": null,
   "metadata": {},
   "outputs": [],
   "source": [
    "transcript_trans"
   ]
  },
  {
   "cell_type": "code",
   "execution_count": null,
   "metadata": {},
   "outputs": [],
   "source": [
    "profile_df1.drop('index', axis=1, inplace=True)"
   ]
  },
  {
   "cell_type": "code",
   "execution_count": null,
   "metadata": {},
   "outputs": [],
   "source": [
    "profile_df1"
   ]
  },
  {
   "cell_type": "code",
   "execution_count": null,
   "metadata": {},
   "outputs": [],
   "source": [
    "type(transcript_trans.customer_id[1])"
   ]
  },
  {
   "cell_type": "code",
   "execution_count": null,
   "metadata": {},
   "outputs": [],
   "source": [
    "df1=transcript_trans.customer_id"
   ]
  },
  {
   "cell_type": "code",
   "execution_count": null,
   "metadata": {},
   "outputs": [],
   "source": [
    "df2=df_profile.customer_id"
   ]
  },
  {
   "cell_type": "code",
   "execution_count": null,
   "metadata": {},
   "outputs": [],
   "source": []
  },
  {
   "cell_type": "code",
   "execution_count": null,
   "metadata": {},
   "outputs": [],
   "source": [
    "(transcript_trans.customer_id.isin(profile_df1.customer_id).astype(str))"
   ]
  },
  {
   "cell_type": "code",
   "execution_count": null,
   "metadata": {},
   "outputs": [],
   "source": [
    "transcript_offer"
   ]
  },
  {
   "cell_type": "code",
   "execution_count": null,
   "metadata": {},
   "outputs": [],
   "source": [
    "sort_profile=profile_df1[profile_df1.customer_id.isin(transcript_trans.customer_id)]"
   ]
  },
  {
   "cell_type": "code",
   "execution_count": null,
   "metadata": {},
   "outputs": [],
   "source": [
    "profile_df1[profile_df1.customer_id.isin(transcript_offer.customer_id)]"
   ]
  },
  {
   "cell_type": "code",
   "execution_count": null,
   "metadata": {},
   "outputs": [],
   "source": [
    "sort_offer=transcript_offer[transcript_offer['event']=='offer completed']"
   ]
  },
  {
   "cell_type": "code",
   "execution_count": null,
   "metadata": {},
   "outputs": [],
   "source": [
    "profile_df1[profile_df1.customer_id.isin(sort_offer.customer_id)]"
   ]
  },
  {
   "cell_type": "code",
   "execution_count": null,
   "metadata": {},
   "outputs": [],
   "source": []
  },
  {
   "cell_type": "code",
   "execution_count": null,
   "metadata": {},
   "outputs": [],
   "source": []
  },
  {
   "cell_type": "code",
   "execution_count": null,
   "metadata": {},
   "outputs": [],
   "source": []
  },
  {
   "cell_type": "code",
   "execution_count": null,
   "metadata": {},
   "outputs": [],
   "source": []
  },
  {
   "cell_type": "code",
   "execution_count": null,
   "metadata": {},
   "outputs": [],
   "source": []
  },
  {
   "cell_type": "code",
   "execution_count": null,
   "metadata": {},
   "outputs": [],
   "source": []
  },
  {
   "cell_type": "code",
   "execution_count": null,
   "metadata": {},
   "outputs": [],
   "source": []
  },
  {
   "cell_type": "code",
   "execution_count": null,
   "metadata": {},
   "outputs": [],
   "source": []
  },
  {
   "cell_type": "code",
   "execution_count": null,
   "metadata": {},
   "outputs": [],
   "source": []
  },
  {
   "cell_type": "code",
   "execution_count": null,
   "metadata": {},
   "outputs": [],
   "source": []
  },
  {
   "cell_type": "code",
   "execution_count": null,
   "metadata": {},
   "outputs": [],
   "source": []
  },
  {
   "cell_type": "code",
   "execution_count": null,
   "metadata": {},
   "outputs": [],
   "source": []
  },
  {
   "cell_type": "code",
   "execution_count": null,
   "metadata": {},
   "outputs": [],
   "source": [
    "df1==df2"
   ]
  },
  {
   "cell_type": "code",
   "execution_count": null,
   "metadata": {},
   "outputs": [],
   "source": [
    "lol"
   ]
  },
  {
   "cell_type": "code",
   "execution_count": null,
   "metadata": {
    "scrolled": true
   },
   "outputs": [],
   "source": [
    "offer_reference = {}\n",
    "\n",
    "for i,j in zip(portfolio['offer_id'], portfolio['offer_type']):\n",
    "    offer_reference[i] = j\n",
    "    \n",
    "\n",
    "offer_duration_reference = {}\n",
    "\n",
    "for i,j in zip(portfolio['offer_id'], portfolio['duration']):\n",
    "    offer_duration_reference[i] = j*24\n",
    "    \n",
    "    \n",
    "full_data = []\n",
    "\n",
    "# Iterate through each person\n",
    "\n",
    "for person in list(transcript['customer_id'].unique()):\n",
    "    \n",
    "    not_completed = {}\n",
    "    received = []\n",
    "    active = []\n",
    "    total_data = {}\n",
    "    information = []\n",
    "\n",
    "    for index, row in transcript[transcript['customer_id'] == person].iterrows():\n",
    "\n",
    "        if row['event'] == 'offer received':\n",
    "\n",
    "            # Everytime there is an offer received, do this\n",
    "            received.append(row['offer_id'])\n",
    "            key = row['offer_id'] + '-' + str(received.count(row['offer_id']))\n",
    "            not_completed[key] = row['time']\n",
    "            total_data[key] = [row['customer_id'], row['offer_id'], 0, 0, 0, 0] \n",
    "\n",
    "\n",
    "        if row['event'] == 'offer viewed':\n",
    "\n",
    "            # If the customers have seen the informational offer\n",
    "            if offer_reference[row['offer_id']] == 'informational':\n",
    "                information.append(row['offer_id'])\n",
    "\n",
    "            # Everytime the offer is viewed, do this\n",
    "            active = list(filter(lambda x: x.split('-')[0] == row['offer_id'], list(not_completed.keys())))\n",
    "\n",
    "            # If there is only one offer_id active\n",
    "            if len(active) == 1:\n",
    "\n",
    "                # Only change the value if the offer is not completed yet\n",
    "                if active[0] in not_completed:                    \n",
    "                    total_data[active[0]][2] = 1\n",
    "\n",
    "            # If there are more than one offer_id active\n",
    "            else:\n",
    "                for offer_id in active:\n",
    "                    if (row['time'] - not_completed[offer_id]) < offer_duration_reference[row['offer_id']]:\n",
    "                        if total_data[offer_id][2] == 1:\n",
    "                            continue\n",
    "                        total_data[offer_id][2] = 1\n",
    "                        break\n",
    "\n",
    "\n",
    "        if row['event'] == 'offer completed':\n",
    "\n",
    "            # If the users completed the offer and have seen the informational offer\n",
    "            info = False\n",
    "            if len(information) > 0:\n",
    "                info = True\n",
    "\n",
    "            # Everytime the offer is completed, do this\n",
    "            active = list(filter(lambda x: x.split('-')[0] == row['offer_id'], list(not_completed.keys())))\n",
    "\n",
    "            # If there is only one offer_id active\n",
    "            if len(active) == 1:\n",
    "                total_data[active[0]][3] = 1\n",
    "                total_data[active[0]][5] = row['time'] - not_completed[active[0]]\n",
    "                not_completed.pop(active[0])\n",
    "\n",
    "                if info:\n",
    "                    total_data[active[0]][4] = 1\n",
    "\n",
    "                continue\n",
    "\n",
    "            # If there is more that one offer_id active\n",
    "            else:\n",
    "                for offer_id in active:\n",
    "                    if (row['time'] - not_completed[offer_id]) < offer_duration_reference[row['offer_id']]:\n",
    "                        total_data[offer_id][3] = 1\n",
    "                        total_data[offer_id][5] = row['time'] - not_completed[offer_id]\n",
    "                        not_completed.pop(offer_id)\n",
    "\n",
    "                        if info:\n",
    "                            total_data[offer_id][4] = 1\n",
    "\n",
    "                        break\n",
    "\n",
    "    for index, value in total_data.items():\n",
    "        full_data += [value]"
   ]
  },
  {
   "cell_type": "code",
   "execution_count": null,
   "metadata": {},
   "outputs": [],
   "source": [
    "received"
   ]
  },
  {
   "cell_type": "code",
   "execution_count": null,
   "metadata": {},
   "outputs": [],
   "source": [
    "compiled_data['offer_id']"
   ]
  },
  {
   "cell_type": "code",
   "execution_count": null,
   "metadata": {},
   "outputs": [],
   "source": [
    "# Create a dataframe based on the compile result\n",
    "compiled_data = pd.DataFrame(full_data, columns=['customer_id', 'offer_id', 'viewed', 'completed', 'view_information', 'time_completed'])\n",
    "\n",
    "compiled_data.head()"
   ]
  },
  {
   "cell_type": "code",
   "execution_count": null,
   "metadata": {},
   "outputs": [],
   "source": [
    "df_transcript_offer"
   ]
  },
  {
   "cell_type": "code",
   "execution_count": null,
   "metadata": {},
   "outputs": [],
   "source": [
    "compiled_data_merged = compiled_data.merge(df_portfolio, left_on='offer_id', right_on='offer_id')\n",
    "check_data = compiled_data_merged.merge(df_profile, left_on='customer_id', right_on='customer_id')\n",
    "check_data"
   ]
  },
  {
   "cell_type": "code",
   "execution_count": null,
   "metadata": {},
   "outputs": [],
   "source": [
    "check_data.to_csv(r'C:\\\\Users\\\\Suramya Pathak\\\\Untitled Folder\\\\Projects\\\\Untitled Folder\\\\SB\\\\check_data.csv',header=False, index=False, sep='|')"
   ]
  },
  {
   "cell_type": "code",
   "execution_count": null,
   "metadata": {},
   "outputs": [],
   "source": [
    "check_data.columns"
   ]
  },
  {
   "cell_type": "code",
   "execution_count": null,
   "metadata": {},
   "outputs": [],
   "source": [
    "re_check_data=check_data.drop(['became_member_on','join_year', 'join_month', 'join_day'],axis=1)"
   ]
  },
  {
   "cell_type": "code",
   "execution_count": null,
   "metadata": {},
   "outputs": [],
   "source": [
    "re_check_data"
   ]
  },
  {
   "cell_type": "code",
   "execution_count": null,
   "metadata": {},
   "outputs": [],
   "source": [
    "\n",
    "new_df=re_check_data"
   ]
  },
  {
   "cell_type": "code",
   "execution_count": null,
   "metadata": {},
   "outputs": [],
   "source": [
    "comp_df1"
   ]
  },
  {
   "cell_type": "code",
   "execution_count": null,
   "metadata": {},
   "outputs": [],
   "source": [
    "mcomp_df1=pd.DataFrame(new_df[(new_df['viewed']==1) & (re_check_data['completed']==1)& (re_check_data['gender']=='M')][['web','social','email','mobile']].sum())"
   ]
  },
  {
   "cell_type": "code",
   "execution_count": null,
   "metadata": {},
   "outputs": [],
   "source": [
    "mcomp_df1"
   ]
  },
  {
   "cell_type": "code",
   "execution_count": null,
   "metadata": {},
   "outputs": [],
   "source": []
  },
  {
   "cell_type": "code",
   "execution_count": null,
   "metadata": {},
   "outputs": [],
   "source": [
    "mcomp_df1=pd.DataFrame(new_df[(new_df['viewed']==1) & (new_df['completed']==1)& (new_df['gender']=='M')][['web','social','email','mobile']].sum())\n",
    "\n",
    "\n",
    "mnview_df1=pd.DataFrame(new_df[(new_df['viewed']==0) & (new_df['completed']==1)& (new_df['gender']=='M')][['web','social','email','mobile']].sum())\n",
    "\n",
    "\n",
    "msent_df1=pd.DataFrame(new_df[new_df['gender']=='M'][['web','social','email','mobile']].sum())\n",
    "\n",
    "\n",
    "\n",
    "mview_df1=pd.DataFrame(new_df[(new_df['viewed']==1)& (new_df['gender']=='M')][['web','social','email','mobile']].sum())\n",
    "\n",
    "\n",
    "mvis_df=pd.concat([msent_df1, mview_df1, mcomp_df1], axis=1)\n",
    "\n",
    "mvis_df.columns=['Sent','Viewed','Completed']\n",
    "mvis_df\n",
    "\n",
    "mvs_ratio=mvis_df['Viewed']/mvis_df['Sent']\n",
    "mvs_ratio.plot.bar()"
   ]
  },
  {
   "cell_type": "code",
   "execution_count": null,
   "metadata": {},
   "outputs": [],
   "source": [
    "mvs_ratio.sort_values()"
   ]
  },
  {
   "cell_type": "code",
   "execution_count": null,
   "metadata": {},
   "outputs": [],
   "source": [
    "mcv_ratio.sort_values()"
   ]
  },
  {
   "cell_type": "code",
   "execution_count": null,
   "metadata": {},
   "outputs": [],
   "source": [
    "mcv_ratio=mvis_df['Completed']/mvis_df['Viewed']\n",
    "mcv_ratio.plot.bar()"
   ]
  },
  {
   "cell_type": "code",
   "execution_count": null,
   "metadata": {},
   "outputs": [],
   "source": []
  },
  {
   "cell_type": "code",
   "execution_count": null,
   "metadata": {},
   "outputs": [],
   "source": [
    "new_df.gender.value_counts()"
   ]
  },
  {
   "cell_type": "code",
   "execution_count": null,
   "metadata": {},
   "outputs": [],
   "source": [
    "new_df[(new_df['gender']=='F') & (new_df['gender']=='M')]"
   ]
  },
  {
   "cell_type": "code",
   "execution_count": null,
   "metadata": {},
   "outputs": [],
   "source": [
    "new_df[(new_df['gender']=='F') & (new_df['completed']==1)&(new_df['viewed']==1)]['customer_id'].count()"
   ]
  },
  {
   "cell_type": "code",
   "execution_count": null,
   "metadata": {},
   "outputs": [],
   "source": [
    "new_df[(new_df['gender']=='M') & (new_df['completed']==1)&(new_df['viewed']==1)]['customer_id'].count()"
   ]
  },
  {
   "cell_type": "code",
   "execution_count": null,
   "metadata": {},
   "outputs": [],
   "source": []
  },
  {
   "cell_type": "code",
   "execution_count": null,
   "metadata": {},
   "outputs": [],
   "source": []
  },
  {
   "cell_type": "code",
   "execution_count": null,
   "metadata": {},
   "outputs": [],
   "source": []
  },
  {
   "cell_type": "code",
   "execution_count": null,
   "metadata": {},
   "outputs": [],
   "source": [
    "fcomp_df1=pd.DataFrame(new_df[(new_df['viewed']==1) & (new_df['completed']==1) & (new_df['gender']=='F')][['web','social','email','mobile']].sum())\n",
    "\n",
    "\n",
    "fnview_df1=pd.DataFrame(new_df[(new_df['viewed']==0) & (new_df['completed']==1) & (new_df['gender']=='F')][['web','social','email','mobile']].sum())\n",
    "\n",
    "\n",
    "fsent_df1=pd.DataFrame(new_df[new_df['gender']=='F'][['web','social','email','mobile']].sum())\n",
    "\n",
    "\n",
    "\n",
    "fview_df1=pd.DataFrame(new_df[(new_df['viewed']==1)& (new_df['gender']=='F')][['web','social','email','mobile']].sum())\n",
    "\n",
    "\n",
    "fvis_df=pd.concat([fsent_df1, fview_df1, fcomp_df1], axis=1)\n",
    "\n",
    "fvis_df.columns=['Sent','Viewed','Completed']\n",
    "fvis_df\n",
    "\n",
    "fvs_ratio=fvis_df['Viewed']/fvis_df['Sent']\n",
    "fvs_ratio.plot.bar()"
   ]
  },
  {
   "cell_type": "code",
   "execution_count": null,
   "metadata": {},
   "outputs": [],
   "source": [
    "fvs_ratio.sort_values()"
   ]
  },
  {
   "cell_type": "code",
   "execution_count": null,
   "metadata": {},
   "outputs": [],
   "source": [
    "fcv_ratio.sort_values()"
   ]
  },
  {
   "cell_type": "code",
   "execution_count": null,
   "metadata": {},
   "outputs": [],
   "source": [
    "fcv_ratio=fvis_df['Completed']/fvis_df['Viewed']\n",
    "fcv_ratio.plot.bar()"
   ]
  },
  {
   "cell_type": "code",
   "execution_count": null,
   "metadata": {},
   "outputs": [],
   "source": [
    "new_df"
   ]
  },
  {
   "cell_type": "code",
   "execution_count": null,
   "metadata": {},
   "outputs": [],
   "source": [
    "omcomp_df1=pd.DataFrame(new_df[(new_df['viewed']==1) & (new_df['completed']==1) & (new_df['gender']=='M')])['offer_id'].value_counts()\n",
    "omcomp_df1"
   ]
  },
  {
   "cell_type": "code",
   "execution_count": null,
   "metadata": {},
   "outputs": [],
   "source": [
    "ofcomp_df1=pd.DataFrame(new_df[(new_df['viewed']==1) & (new_df['completed']==1) & (new_df['gender']=='F')])['offer_id'].value_counts()\n",
    "ofcomp_df1                                                                                                      "
   ]
  },
  {
   "cell_type": "code",
   "execution_count": null,
   "metadata": {},
   "outputs": [],
   "source": [
    "omcomp_df1=pd.DataFrame(new_df[(new_df['viewed']==1) & (new_df['completed']==1) & (new_df['gender']=='O')])['offer_id'].value_counts()\n",
    "omcomp_df1                                                                                                      "
   ]
  },
  {
   "cell_type": "code",
   "execution_count": null,
   "metadata": {},
   "outputs": [],
   "source": [
    "new_df[(new_df['offer_id']=='2906b810c7d4411798c6938adc9daaa5')]"
   ]
  },
  {
   "cell_type": "code",
   "execution_count": null,
   "metadata": {},
   "outputs": [],
   "source": []
  },
  {
   "cell_type": "code",
   "execution_count": null,
   "metadata": {},
   "outputs": [],
   "source": []
  },
  {
   "cell_type": "code",
   "execution_count": null,
   "metadata": {},
   "outputs": [],
   "source": [
    "comp_df1=pd.DataFrame(new_df[(new_df['viewed']==1) & (re_check_data['completed']==1)][['web','social','email','mobile']].sum())\n",
    "comp_df=comp_df1\n",
    "\n",
    "nview_df1=pd.DataFrame(new_df[(new_df['viewed']==0) & (re_check_data['completed']==1)][['web','social','email','mobile']].sum())\n",
    "nview_df=nview_df1\n",
    "\n",
    "\n"
   ]
  },
  {
   "cell_type": "code",
   "execution_count": null,
   "metadata": {},
   "outputs": [],
   "source": [
    "sent_df1=pd.DataFrame(new_df[['web','social','email','mobile']].sum())\n",
    "sent_df=sent_df1\n"
   ]
  },
  {
   "cell_type": "code",
   "execution_count": null,
   "metadata": {},
   "outputs": [],
   "source": [
    "view_df1=pd.DataFrame(new_df[(new_df['viewed']==1)][['web','social','email','mobile']].sum())\n",
    "view_df=view_df1\n"
   ]
  },
  {
   "cell_type": "code",
   "execution_count": null,
   "metadata": {},
   "outputs": [],
   "source": [
    "vis_df=pd.concat([sent_df1, view_df1, comp_df1], axis=1)\n",
    "\n",
    "vis_df.columns=['Sent','Viewed','Completed']\n",
    "vis_df"
   ]
  },
  {
   "cell_type": "code",
   "execution_count": null,
   "metadata": {},
   "outputs": [],
   "source": [
    "vis_df.plot.bar()"
   ]
  },
  {
   "cell_type": "code",
   "execution_count": null,
   "metadata": {},
   "outputs": [],
   "source": [
    "vs_ratio=vis_df['Viewed']/vis_df['Sent']\n",
    "vs_ratio.plot.bar()"
   ]
  },
  {
   "cell_type": "code",
   "execution_count": null,
   "metadata": {},
   "outputs": [],
   "source": [
    "vs_ratio.sort_values()"
   ]
  },
  {
   "cell_type": "code",
   "execution_count": null,
   "metadata": {},
   "outputs": [],
   "source": [
    "vc_ratio.sort_values()"
   ]
  },
  {
   "cell_type": "code",
   "execution_count": null,
   "metadata": {},
   "outputs": [],
   "source": []
  },
  {
   "cell_type": "code",
   "execution_count": null,
   "metadata": {},
   "outputs": [],
   "source": [
    "vcs_ratio.plot.bar()"
   ]
  },
  {
   "cell_type": "code",
   "execution_count": null,
   "metadata": {},
   "outputs": [],
   "source": []
  },
  {
   "cell_type": "code",
   "execution_count": null,
   "metadata": {},
   "outputs": [],
   "source": [
    "vc_ratio=vis_df['Completed']/vis_df['Viewed']\n",
    "vc_ratio.plot.bar()"
   ]
  },
  {
   "cell_type": "code",
   "execution_count": null,
   "metadata": {},
   "outputs": [],
   "source": [
    "vs_ratio"
   ]
  },
  {
   "cell_type": "code",
   "execution_count": null,
   "metadata": {},
   "outputs": [],
   "source": [
    "age_diff=np.arange(new_df['age'].min(), new_df['age'].max(), 10)\n",
    "dash=pd.cut(new_df['age'], age_diff)\n",
    "new_df['age_group']=dash\n",
    "new_df1=pd.DataFrame(new_df[(new_df['viewed']==1) & (re_check_data['completed']==1)])\n",
    "new_sent=new_df.groupby('age_group')[['web','social','email','mobile']].sum()\n",
    "new_completed=new_df1.groupby('age_group')[['web','social','email','mobile']].sum()\n",
    "new_age=new_completed/new_sent\n",
    "new_age.plot.bar()"
   ]
  },
  {
   "cell_type": "code",
   "execution_count": null,
   "metadata": {},
   "outputs": [],
   "source": [
    "new_age\n",
    "data_cum\n"
   ]
  },
  {
   "cell_type": "code",
   "execution_count": null,
   "metadata": {},
   "outputs": [],
   "source": [
    "data"
   ]
  },
  {
   "cell_type": "code",
   "execution_count": null,
   "metadata": {},
   "outputs": [],
   "source": [
    "category_names=['web','social','email','mobile']\n",
    "labels = list(dash.unique())\n",
    "data = np.array(list(new_age.loc[:,:].values))\n",
    "row_sums = data.sum(axis=1)\n",
    "new_matrix = data / row_sums[:, np.newaxis]\n",
    "data_cum = new_matrix.cumsum(axis=1)\n",
    "category_colors = plt.get_cmap('Blues')(\n",
    "np.linspace(0.15, 0.85, data.shape[1]))\n",
    "\n",
    "fig, ax = plt.subplots(figsize=(11, 8))\n",
    "ax.invert_yaxis()\n",
    "ax.xaxis.set_visible(False)\n",
    "ax.set_xlim(0, np.sum(data, axis=1).max())\n",
    "plt.title('Top 10 counties : Job Satisfaction')\n",
    "\n",
    "for i, (colname, color) in enumerate(zip(category_names, category_colors)):\n",
    "    widths = data[:, i]\n",
    "    starts = data_cum[:, i] - widths\n",
    "    ax.barh(labels, widths, left=starts, height=0.5,label=colname, color=color)\n",
    "    xcenters = starts + widths / 2\n",
    "        \n",
    "    r, g, b, _ = color\n",
    "    text_color = 'white' if r * g * b < 0.1 else 'black'\n",
    "    for y, (x, c) in enumerate(zip(xcenters, widths)):\n",
    "        ax.text(x, y, str(float(c)), ha='center', va='center',\n",
    "                color=text_color)\n",
    "        ax.legend(ncol=len(category_names), bbox_to_anchor=(0, 1),\n",
    "                  loc='lower left', fontsize='small')\n"
   ]
  },
  {
   "cell_type": "code",
   "execution_count": null,
   "metadata": {},
   "outputs": [],
   "source": [
    "off_sort=new_df.groupby('offer_id')['customer_id'].count()\n",
    "off_sort.plot.bar()"
   ]
  },
  {
   "cell_type": "code",
   "execution_count": null,
   "metadata": {},
   "outputs": [],
   "source": [
    "new_df[(new_df['viewed']==1) & (re_check_data['completed']==1)]['offer_id'].count()"
   ]
  },
  {
   "cell_type": "code",
   "execution_count": null,
   "metadata": {},
   "outputs": [],
   "source": [
    "off_sort"
   ]
  },
  {
   "cell_type": "code",
   "execution_count": null,
   "metadata": {},
   "outputs": [],
   "source": [
    "off_sort=pd.DataFrame(off_sort, index=None)\n",
    "\n",
    "off_sort"
   ]
  },
  {
   "cell_type": "code",
   "execution_count": null,
   "metadata": {},
   "outputs": [],
   "source": [
    "off_sort.merge(portfolio, right_on='offer_id', left_on='offer_id')"
   ]
  },
  {
   "cell_type": "code",
   "execution_count": null,
   "metadata": {},
   "outputs": [],
   "source": [
    "\n",
    "\n"
   ]
  },
  {
   "cell_type": "code",
   "execution_count": null,
   "metadata": {},
   "outputs": [],
   "source": []
  },
  {
   "cell_type": "code",
   "execution_count": null,
   "metadata": {},
   "outputs": [],
   "source": []
  },
  {
   "cell_type": "code",
   "execution_count": null,
   "metadata": {},
   "outputs": [],
   "source": [
    "\n",
    "trans_pro=profile.merge(transcript_trans, left_on='customer_id', right_on='customer_id')\n",
    "trans_pro"
   ]
  },
  {
   "cell_type": "code",
   "execution_count": null,
   "metadata": {},
   "outputs": [],
   "source": [
    "plt.hist(trans_pro[trans_pro['gender'] == 'M']['amount'], range=(0, 40), alpha=0.5, bins=40, label='Male')\n",
    "plt.hist(trans_pro[trans_pro['gender'] == 'F']['amount'], range=(0, 40), alpha=0.5, bins=40, label='Female')\n",
    "plt.hist(trans_pro[trans_pro['gender'] == '0']['amount'], range=(0, 40), alpha=0.5, bins=40, label='Oblivious')\n",
    "plt.legend(loc='upper right')\n",
    "\n",
    "plt.title('Spending per Transaction Distribution')\n",
    "plt.xlabel('Amount ($)')\n",
    "plt.show()"
   ]
  },
  {
   "cell_type": "code",
   "execution_count": null,
   "metadata": {},
   "outputs": [],
   "source": [
    "trans_pro[trans_pro['gender']=='M']['amount'].mean()"
   ]
  },
  {
   "cell_type": "markdown",
   "metadata": {},
   "source": [
    "For male the buying frquency is high however, the amount of purchase is lower than female, so to increase the amount, we need t find the mean value of all the purchases made by male population and then create offers around that amount\n",
    "This would be the mean value of amount that is paid by male, we need to build more packages around it. That would increase the sale volume\n"
   ]
  },
  {
   "cell_type": "markdown",
   "metadata": {},
   "source": []
  },
  {
   "cell_type": "code",
   "execution_count": null,
   "metadata": {},
   "outputs": [],
   "source": [
    "ofcomp_df1=pd.DataFrame(new_df[(new_df['viewed']==1) & (new_df['completed']==1) & (new_df['gender']=='F')])['offer_id'].value_counts()\n",
    "ofcomp_df1 "
   ]
  },
  {
   "cell_type": "code",
   "execution_count": null,
   "metadata": {},
   "outputs": [],
   "source": [
    "portfolio[(portfolio['offer_id']=='fafdcd668e3743c1bb461111dcafc2a4')]"
   ]
  },
  {
   "cell_type": "code",
   "execution_count": null,
   "metadata": {},
   "outputs": [],
   "source": [
    "portfolio[(portfolio['offer_id']=='2298d6c36e964ae4a3e7e9706d1fb8c2')]"
   ]
  },
  {
   "cell_type": "markdown",
   "metadata": {},
   "source": [
    "For female customers we need to increase the frequency as the average speding amount is more than male\n",
    "We need to create offer with lower validity (duration) and lower difficulties similar to two top viewed as well as complted offers. this will increase the frequency"
   ]
  },
  {
   "cell_type": "code",
   "execution_count": null,
   "metadata": {},
   "outputs": [],
   "source": [
    "trans_pro[['gender','amount']]\n"
   ]
  },
  {
   "cell_type": "code",
   "execution_count": null,
   "metadata": {},
   "outputs": [],
   "source": [
    "gen_pro=trans_pro[['gender','amount']]"
   ]
  },
  {
   "cell_type": "code",
   "execution_count": null,
   "metadata": {},
   "outputs": [],
   "source": [
    "\n",
    "gen_pro=gen_pro.groupby('gender')['amount'].mean()"
   ]
  },
  {
   "cell_type": "code",
   "execution_count": null,
   "metadata": {},
   "outputs": [],
   "source": [
    "gen_pro"
   ]
  },
  {
   "cell_type": "code",
   "execution_count": null,
   "metadata": {},
   "outputs": [],
   "source": [
    "gen_pro.plot.bar()"
   ]
  },
  {
   "cell_type": "code",
   "execution_count": null,
   "metadata": {},
   "outputs": [],
   "source": [
    "\n",
    "\n"
   ]
  },
  {
   "cell_type": "code",
   "execution_count": null,
   "metadata": {},
   "outputs": [],
   "source": []
  },
  {
   "cell_type": "code",
   "execution_count": null,
   "metadata": {},
   "outputs": [],
   "source": []
  },
  {
   "cell_type": "code",
   "execution_count": null,
   "metadata": {},
   "outputs": [],
   "source": []
  },
  {
   "cell_type": "code",
   "execution_count": null,
   "metadata": {
    "scrolled": true
   },
   "outputs": [],
   "source": []
  },
  {
   "cell_type": "code",
   "execution_count": null,
   "metadata": {},
   "outputs": [],
   "source": []
  },
  {
   "cell_type": "code",
   "execution_count": null,
   "metadata": {},
   "outputs": [],
   "source": []
  },
  {
   "cell_type": "code",
   "execution_count": null,
   "metadata": {},
   "outputs": [],
   "source": [
    "vis_df.plot.bar()"
   ]
  },
  {
   "cell_type": "code",
   "execution_count": null,
   "metadata": {},
   "outputs": [],
   "source": [
    "vis_df.plot.barh(stacked=True)"
   ]
  },
  {
   "cell_type": "code",
   "execution_count": null,
   "metadata": {},
   "outputs": [],
   "source": [
    "chan_check['web'].sum()/re_check_data['web'].sum()\n"
   ]
  },
  {
   "cell_type": "code",
   "execution_count": null,
   "metadata": {},
   "outputs": [],
   "source": [
    "chan_check['social'].sum()/re_check_data['social'].sum()"
   ]
  },
  {
   "cell_type": "code",
   "execution_count": null,
   "metadata": {},
   "outputs": [],
   "source": [
    "re_check_data['social'].sum()/re_check_data['web'].sum()"
   ]
  },
  {
   "cell_type": "code",
   "execution_count": null,
   "metadata": {},
   "outputs": [],
   "source": [
    "chan_check['email'].sum()/re_check_data['email'].sum()"
   ]
  },
  {
   "cell_type": "code",
   "execution_count": null,
   "metadata": {},
   "outputs": [],
   "source": [
    "re_check_data['email'].sum()"
   ]
  },
  {
   "cell_type": "code",
   "execution_count": null,
   "metadata": {},
   "outputs": [],
   "source": [
    "chan_check['mobile'].sum()/re_check_data['mobile'].sum()"
   ]
  },
  {
   "cell_type": "code",
   "execution_count": null,
   "metadata": {},
   "outputs": [],
   "source": [
    "view_check=re_check_data[(re_check_data['viewed']==1)]"
   ]
  },
  {
   "cell_type": "code",
   "execution_count": null,
   "metadata": {},
   "outputs": [],
   "source": [
    "view_check['social'].sum()/re_check_data['social'].sum()"
   ]
  },
  {
   "cell_type": "code",
   "execution_count": null,
   "metadata": {},
   "outputs": [],
   "source": [
    "view_check['email'].sum()/re_check_data['email'].sum()"
   ]
  },
  {
   "cell_type": "code",
   "execution_count": null,
   "metadata": {},
   "outputs": [],
   "source": [
    "view_check['mobile'].sum()/re_check_data['mobile'].sum()"
   ]
  },
  {
   "cell_type": "code",
   "execution_count": null,
   "metadata": {},
   "outputs": [],
   "source": [
    "view_check['web'].sum()/re_check_data['web'].sum()\n"
   ]
  },
  {
   "cell_type": "code",
   "execution_count": null,
   "metadata": {},
   "outputs": [],
   "source": []
  },
  {
   "cell_type": "code",
   "execution_count": null,
   "metadata": {},
   "outputs": [],
   "source": [
    "\n",
    "chan_visual"
   ]
  },
  {
   "cell_type": "code",
   "execution_count": null,
   "metadata": {},
   "outputs": [],
   "source": [
    "chan_visual.plot.bar()"
   ]
  },
  {
   "cell_type": "code",
   "execution_count": null,
   "metadata": {},
   "outputs": [],
   "source": []
  },
  {
   "cell_type": "code",
   "execution_count": null,
   "metadata": {},
   "outputs": [],
   "source": []
  },
  {
   "cell_type": "code",
   "execution_count": null,
   "metadata": {},
   "outputs": [],
   "source": []
  },
  {
   "cell_type": "code",
   "execution_count": null,
   "metadata": {},
   "outputs": [],
   "source": []
  },
  {
   "cell_type": "code",
   "execution_count": null,
   "metadata": {},
   "outputs": [],
   "source": []
  },
  {
   "cell_type": "code",
   "execution_count": null,
   "metadata": {},
   "outputs": [],
   "source": []
  },
  {
   "cell_type": "code",
   "execution_count": null,
   "metadata": {},
   "outputs": [],
   "source": []
  },
  {
   "cell_type": "code",
   "execution_count": null,
   "metadata": {},
   "outputs": [],
   "source": []
  },
  {
   "cell_type": "code",
   "execution_count": null,
   "metadata": {},
   "outputs": [],
   "source": [
    "compiled_data_merged = compiled_data.merge(portfolio, left_on='offer_id', right_on='offer_id')\n",
    "complete_data = compiled_data_merged.merge(df_profile, left_on='customer_id', right_on='customer_id').drop(columns=['customer_id'])\n",
    "\n",
    "complete_data.head()"
   ]
  },
  {
   "cell_type": "code",
   "execution_count": null,
   "metadata": {},
   "outputs": [],
   "source": []
  },
  {
   "cell_type": "code",
   "execution_count": null,
   "metadata": {},
   "outputs": [],
   "source": []
  },
  {
   "cell_type": "code",
   "execution_count": null,
   "metadata": {},
   "outputs": [],
   "source": []
  },
  {
   "cell_type": "code",
   "execution_count": null,
   "metadata": {},
   "outputs": [],
   "source": [
    "len(complete_data)"
   ]
  },
  {
   "cell_type": "markdown",
   "metadata": {},
   "source": [
    "Splitting transcript database into two different databases transcript_offer for offer based information and transcript_trans for transaction based information"
   ]
  },
  {
   "cell_type": "code",
   "execution_count": null,
   "metadata": {},
   "outputs": [],
   "source": [
    "transcript_offer=transcript[transcript['amount'].isnull()]\n",
    "transcript_offer"
   ]
  },
  {
   "cell_type": "code",
   "execution_count": null,
   "metadata": {},
   "outputs": [],
   "source": [
    "transcript_offer.drop('amount', axis=1, inplace=True)"
   ]
  },
  {
   "cell_type": "code",
   "execution_count": null,
   "metadata": {},
   "outputs": [],
   "source": [
    "transcript_offer['event'].unique()"
   ]
  },
  {
   "cell_type": "code",
   "execution_count": null,
   "metadata": {},
   "outputs": [],
   "source": [
    "df_temp=pd.get_dummies(transcript_offer.event)\n",
    "df_transcript_offer=pd.concat([transcript_offer, df_temp], axis=1)\n",
    "df_transcript_offer.drop('event', axis=1, inplace=True)"
   ]
  },
  {
   "cell_type": "code",
   "execution_count": null,
   "metadata": {},
   "outputs": [],
   "source": [
    "df_transcript_offer"
   ]
  },
  {
   "cell_type": "code",
   "execution_count": null,
   "metadata": {},
   "outputs": [],
   "source": []
  },
  {
   "cell_type": "code",
   "execution_count": null,
   "metadata": {},
   "outputs": [],
   "source": []
  },
  {
   "cell_type": "code",
   "execution_count": null,
   "metadata": {},
   "outputs": [],
   "source": [
    "transcript_trans=transcript[transcript['amount'].notnull()]"
   ]
  },
  {
   "cell_type": "code",
   "execution_count": null,
   "metadata": {},
   "outputs": [],
   "source": [
    "transcript_trans"
   ]
  },
  {
   "cell_type": "code",
   "execution_count": null,
   "metadata": {},
   "outputs": [],
   "source": [
    "transcript_trans['event'].unique()"
   ]
  },
  {
   "cell_type": "code",
   "execution_count": null,
   "metadata": {},
   "outputs": [],
   "source": [
    "transcript_trans.drop('offer_id', axis=1, inplace=True)"
   ]
  },
  {
   "cell_type": "code",
   "execution_count": null,
   "metadata": {},
   "outputs": [],
   "source": [
    "transcript_trans"
   ]
  },
  {
   "cell_type": "markdown",
   "metadata": {},
   "source": [
    "# Explore Data"
   ]
  },
  {
   "cell_type": "markdown",
   "metadata": {},
   "source": [
    "## Age Group Distribution"
   ]
  },
  {
   "cell_type": "code",
   "execution_count": null,
   "metadata": {},
   "outputs": [],
   "source": [
    "profile['age'].describe()"
   ]
  },
  {
   "cell_type": "code",
   "execution_count": null,
   "metadata": {},
   "outputs": [],
   "source": [
    "age_diff=np.arange(profile['age'].min(), profile['age'].max(), 10)\n",
    "dash=pd.cut(profile['age'], age_diff)\n",
    "age_visual=profile.groupby(dash)['customer_id'].count()\n",
    "age_visual"
   ]
  },
  {
   "cell_type": "code",
   "execution_count": null,
   "metadata": {},
   "outputs": [],
   "source": [
    "ax=sns.barplot(age_visual.index, age_visual.values, palette='colorblind')\n",
    "ax.set_xticklabels(ax.get_xticklabels(), rotation=90);"
   ]
  },
  {
   "cell_type": "code",
   "execution_count": null,
   "metadata": {},
   "outputs": [],
   "source": [
    "income_gr = profile.groupby(pd.cut(profile['income'], np.arange(profile['income'].min(), profile['income'].max(), 10000)))['customer_id'].count()\n",
    "income_gr"
   ]
  },
  {
   "cell_type": "code",
   "execution_count": null,
   "metadata": {},
   "outputs": [],
   "source": [
    "ax=sns.barplot(income_gr.index, income_gr.values, palette='colorblind')\n",
    "ax.set_xticklabels(ax.get_xticklabels(), rotation=90);"
   ]
  },
  {
   "cell_type": "code",
   "execution_count": null,
   "metadata": {},
   "outputs": [],
   "source": [
    "x_axis=(profile[profile['gender_type_F']==1]['gender_type_F'].count(),\n",
    "profile[profile['gender_type_M']==1]['gender_type_M'].count(),\n",
    "profile[profile['gender_type_O']==1]['gender_type_O'].count())"
   ]
  },
  {
   "cell_type": "code",
   "execution_count": null,
   "metadata": {},
   "outputs": [],
   "source": [
    "ax=sns.barplot(x_axis, x_axis, palette='colorblind')\n",
    "labels= ['Gender O','Gender F' ,'Gender M']\n",
    "ax.set_xticklabels(labels=labels, rotation=90);"
   ]
  },
  {
   "cell_type": "code",
   "execution_count": null,
   "metadata": {},
   "outputs": [],
   "source": [
    "##Member Joining Date\n",
    "mem_yr_mo_gr=profile.groupby(profile['became_member_on'].dt.to_period('M'))['customer_id'].count()#membership joined on month year basis\n",
    "mem_qua = profile.groupby(profile['became_member_on'].dt.to_period('Q'))['customer_id'].count() #membership joined on quaterly basis"
   ]
  },
  {
   "cell_type": "code",
   "execution_count": null,
   "metadata": {},
   "outputs": [],
   "source": [
    "event_gr=transcript.groupby(['event'])['customer_id'].count() # grouping on the basis of event"
   ]
  },
  {
   "cell_type": "code",
   "execution_count": null,
   "metadata": {},
   "outputs": [],
   "source": [
    "\n",
    "transcript_df=df_transcript_offer.merge(transcript_trans, on ='customer_id', how='left')"
   ]
  },
  {
   "cell_type": "code",
   "execution_count": null,
   "metadata": {},
   "outputs": [],
   "source": [
    "len(transcript_df)"
   ]
  },
  {
   "cell_type": "code",
   "execution_count": null,
   "metadata": {},
   "outputs": [],
   "source": [
    "transcript_df=transcript_df.drop_duplicates(keep='first')"
   ]
  },
  {
   "cell_type": "code",
   "execution_count": null,
   "metadata": {},
   "outputs": [],
   "source": [
    "transcript_trans"
   ]
  },
  {
   "cell_type": "code",
   "execution_count": null,
   "metadata": {},
   "outputs": [],
   "source": [
    "complete_data"
   ]
  },
  {
   "cell_type": "code",
   "execution_count": null,
   "metadata": {},
   "outputs": [],
   "source": [
    "complete_data[(complete_data['viewed'] == 0) & (complete_data['completed'] == 1)]['reward'].sum()"
   ]
  },
  {
   "cell_type": "code",
   "execution_count": null,
   "metadata": {},
   "outputs": [],
   "source": [
    "complete_group=complete_data.groupby(['offer_id','offer_type']).count()"
   ]
  },
  {
   "cell_type": "code",
   "execution_count": null,
   "metadata": {},
   "outputs": [],
   "source": []
  },
  {
   "cell_type": "code",
   "execution_count": null,
   "metadata": {},
   "outputs": [],
   "source": [
    "for offer in range(complete_data):\n",
    "    if offer['completed']==1:\n",
    "        round(((*total_completed_without_view) / (total_completed))*100, 2)\n"
   ]
  },
  {
   "cell_type": "code",
   "execution_count": null,
   "metadata": {},
   "outputs": [],
   "source": [
    "complete_data[complete_data['viewed']==0].groupby(['offer_id','offer_type']).sum()"
   ]
  },
  {
   "cell_type": "code",
   "execution_count": null,
   "metadata": {},
   "outputs": [],
   "source": []
  },
  {
   "cell_type": "code",
   "execution_count": null,
   "metadata": {},
   "outputs": [],
   "source": [
    "complete_data"
   ]
  },
  {
   "cell_type": "code",
   "execution_count": null,
   "metadata": {},
   "outputs": [],
   "source": [
    "complete_data.head()"
   ]
  },
  {
   "cell_type": "code",
   "execution_count": null,
   "metadata": {},
   "outputs": [],
   "source": [
    "complete_data[complete_data['offer_type']=='informational']"
   ]
  },
  {
   "cell_type": "code",
   "execution_count": null,
   "metadata": {},
   "outputs": [],
   "source": [
    "indexnames=complete_data[complete_data['offer_type']=='informational'].index\n",
    "complete_data.drop(indexnames, axis=0, inplace=True)"
   ]
  },
  {
   "cell_type": "code",
   "execution_count": null,
   "metadata": {},
   "outputs": [],
   "source": [
    "\n",
    "df_temp=pd.get_dummies(data=complete_data.gender, prefix='gender_type')\n",
    "complete_data=pd.concat([complete_data, df_temp], axis=1)\n",
    "complete_data.drop('gender', axis=1, inplace=True)\n",
    "\n",
    "df_temp=pd.get_dummies(data=complete_data.offer_type, prefix='offer_type')\n",
    "complete_data=pd.concat([complete_data, df_temp], axis=1)\n",
    "complete_data.drop('offer_type', axis=1, inplace=True)\n",
    "\n",
    "unq_channels=list(set(itertools.chain(*complete_data['channels'].tolist())))\n",
    "for channel in unq_channels:\n",
    "    complete_data[channel] = complete_data.channels.apply(lambda x:1 if channel in x else 0 )\n",
    "complete_data.drop('channels', axis=1, inplace=True) "
   ]
  },
  {
   "cell_type": "code",
   "execution_count": null,
   "metadata": {},
   "outputs": [],
   "source": [
    "complete_data"
   ]
  },
  {
   "cell_type": "code",
   "execution_count": null,
   "metadata": {},
   "outputs": [],
   "source": [
    "complete_data.drop(['offer_id','became_member_on','join_year','join_month','join_day'], axis=1, inplace=True )"
   ]
  },
  {
   "cell_type": "code",
   "execution_count": null,
   "metadata": {},
   "outputs": [],
   "source": [
    "y=complete_data.iloc[:,:3]"
   ]
  },
  {
   "cell_type": "code",
   "execution_count": null,
   "metadata": {},
   "outputs": [],
   "source": [
    "X=complete_data.iloc[:,3:]"
   ]
  },
  {
   "cell_type": "code",
   "execution_count": null,
   "metadata": {},
   "outputs": [],
   "source": [
    "from sklearn.model_selection import train_test_split"
   ]
  },
  {
   "cell_type": "code",
   "execution_count": null,
   "metadata": {},
   "outputs": [],
   "source": [
    "X_train, X_test, y_train, y_test = train_test_split(X, y, test_size=0.20, random_state=101)"
   ]
  },
  {
   "cell_type": "code",
   "execution_count": null,
   "metadata": {},
   "outputs": [],
   "source": [
    "from sklearn.preprocessing import MinMaxScaler"
   ]
  },
  {
   "cell_type": "code",
   "execution_count": null,
   "metadata": {},
   "outputs": [],
   "source": [
    "scaler = MinMaxScaler()"
   ]
  },
  {
   "cell_type": "code",
   "execution_count": null,
   "metadata": {},
   "outputs": [],
   "source": [
    "X_train = scaler.fit_transform(X_train)\n",
    "X_test = scaler.transform(X_test)"
   ]
  },
  {
   "cell_type": "code",
   "execution_count": null,
   "metadata": {},
   "outputs": [],
   "source": [
    "X_train.shape"
   ]
  },
  {
   "cell_type": "code",
   "execution_count": null,
   "metadata": {},
   "outputs": [],
   "source": [
    "y_train.shape"
   ]
  },
  {
   "cell_type": "code",
   "execution_count": null,
   "metadata": {},
   "outputs": [],
   "source": [
    "import tensorflow as tf\n",
    "from tensorflow.keras.models import Sequential\n",
    "from tensorflow.keras.layers import Dense, Activation,Dropout\n",
    "from tensorflow.keras.constraints import max_norm"
   ]
  },
  {
   "cell_type": "code",
   "execution_count": null,
   "metadata": {},
   "outputs": [],
   "source": [
    "model = Sequential()\n",
    "\n",
    "# https://stats.stackexchange.com/questions/181/how-to-choose-the-number-of-hidden-layers-and-nodes-in-a-feedforward-neural-netw\n",
    "\n",
    "\n",
    "# input layer\n",
    "model.add(Dense(16,  activation='relu'))\n",
    "model.add(Dropout(0.2))\n",
    "\n",
    "# hidden layer\n",
    "model.add(Dense(8, activation='relu'))\n",
    "model.add(Dropout(0.2))\n",
    "\n",
    "# hidden layer\n",
    "model.add(Dense(8, activation='relu'))\n",
    "model.add(Dropout(0.2))\n",
    "\n",
    "# output layer\n",
    "model.add(Dense(units=3,activation='softmax'))\n",
    "\n",
    "# Compile model\n",
    "model.compile(loss='categorical_crossentropy', optimizer='adam')"
   ]
  },
  {
   "cell_type": "code",
   "execution_count": null,
   "metadata": {},
   "outputs": [],
   "source": [
    "model.fit(x=X_train, \n",
    "          y=y_train, \n",
    "          epochs=5,\n",
    "          batch_size=256,\n",
    "          validation_data=(X_test, y_test), \n",
    "          )"
   ]
  },
  {
   "cell_type": "code",
   "execution_count": null,
   "metadata": {},
   "outputs": [],
   "source": [
    "import pandas as pd\n",
    "check_data=pd.read_csv('check_data.csv', sep='|')"
   ]
  },
  {
   "cell_type": "markdown",
   "metadata": {},
   "source": [
    "# Findings\n",
    "\n",
    "## 1. The offers which are not on social media are least popular among the population"
   ]
  },
  {
   "cell_type": "code",
   "execution_count": null,
   "metadata": {},
   "outputs": [],
   "source": [
    "2."
   ]
  }
 ],
 "metadata": {
  "kernelspec": {
   "display_name": "Python 3",
   "language": "python",
   "name": "python3"
  },
  "language_info": {
   "codemirror_mode": {
    "name": "ipython",
    "version": 3
   },
   "file_extension": ".py",
   "mimetype": "text/x-python",
   "name": "python",
   "nbconvert_exporter": "python",
   "pygments_lexer": "ipython3",
   "version": "3.7.4"
  }
 },
 "nbformat": 4,
 "nbformat_minor": 2
}
