{
 "cells": [
  {
   "cell_type": "code",
   "execution_count": null,
   "metadata": {},
   "outputs": [],
   "source": [
    "df.drop('customer_id', axis=1, inplace=True)\n",
    "df.drop('received', axis=1, inplace=True)\n",
    "df.drop('viewed', axis=1, inplace=True)\n",
    "df.drop('completed', axis=1, inplace=True)\n",
    "df.columns=['reward','difficulty','duration','bogo','discount','informational','email','mobile','social', 'web','amount','F','M','O','offer1', 'offer2','offer3', 'offer4','offer5', 'offer6','offer7', 'offer8', 'offer9', 'offer10','income1','income2','income3','income4','age1','age2','age3','age4','age5','age6','age7','age8','age9','success']\n",
    "target = df['success']\n",
    "features = drop_cols(drop_cols_prep,df)\n",
    "X_train, X_test, y_train, y_test = train_test_split(features,target, \n",
    "                                                        test_size=0.20, \n",
    "                                                        random_state=42)\n",
    "scaler=StandardScaler()\n",
    "X_train=scaler.fit_transform(X_train)\n",
    "X_test=scaler.transform(X_test)\n",
    "results = {}\n",
    "    \n",
    "#Fit the learner to the training data and get training time\n",
    "start = time() \n",
    "learner = learner.fit(X_train, y_train)\n",
    "end = time() \n",
    "results['train_time'] = end-start\n",
    "    \n",
    "# Get predictions on the test set(X_test), then get predictions on first 300 training samples\n",
    "start = time() \n",
    "predictions_test = learner.predict(X_test)\n",
    "predictions_train = learner.predict(X_train)\n",
    "end = time() \n",
    "    \n",
    "# Calculate the total prediction time\n",
    "results['pred_time'] = end-start\n",
    "    \n",
    "#add training accuracy to results\n",
    "results['training_score']=learner.score(X_train,y_train)\n",
    "    \n",
    "#add testing accuracy to results\n",
    "results['testing_score']=learner.score(X_test,y_test)\n",
    "     \n",
    "print(\"{} trained on {} samples.\".format(learner.__class__.__name__, len(y_train)))\n",
    "print(\"MSE_train: %.4f\" % mean_squared_error(y_train,predictions_train))\n",
    "print(\"MSE_test: %.4f\" % mean_squared_error(y_test,predictions_test))\n",
    "print(\"Training accuracy:%.4f\" % results['training_score'])\n",
    "print(\"Test accuracy:%.4f\" % results['testing_score'])\n",
    "    print(classification_report(y_test, predictions_test,digits=4))"
   ]
  }
 ],
 "metadata": {
  "kernelspec": {
   "display_name": "Python 3",
   "language": "python",
   "name": "python3"
  },
  "language_info": {
   "codemirror_mode": {
    "name": "ipython",
    "version": 3
   },
   "file_extension": ".py",
   "mimetype": "text/x-python",
   "name": "python",
   "nbconvert_exporter": "python",
   "pygments_lexer": "ipython3",
   "version": "3.7.4"
  }
 },
 "nbformat": 4,
 "nbformat_minor": 2
}
