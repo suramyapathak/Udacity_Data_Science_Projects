{
 "cells": [
  {
   "cell_type": "markdown",
   "metadata": {},
   "source": [
    "ML Pipeline Preparation\n",
    "\n",
    "Follow the instructions below to help you create your ML pipeline.\n",
    "1. Import libraries and load data from database.\n",
    "\n",
    "    Import Python libraries\n",
    "    Load dataset from database with read_sql_table\n",
    "    Define feature and target variables X and Y\n",
    "\n"
   ]
  },
  {
   "cell_type": "code",
   "execution_count": 1,
   "metadata": {},
   "outputs": [
    {
     "name": "stderr",
     "output_type": "stream",
     "text": [
      "[nltk_data] Downloading package punkt to C:\\Users\\Suramya\n",
      "[nltk_data]     Pathak\\AppData\\Roaming\\nltk_data...\n",
      "[nltk_data]   Package punkt is already up-to-date!\n",
      "[nltk_data] Downloading package wordnet to C:\\Users\\Suramya\n",
      "[nltk_data]     Pathak\\AppData\\Roaming\\nltk_data...\n",
      "[nltk_data]   Package wordnet is already up-to-date!\n"
     ]
    }
   ],
   "source": [
    "# import libraries\n",
    "import numpy as np\n",
    "import pandas as pd\n",
    "\n",
    "import sklearn.metrics as skm\n",
    "from sklearn.metrics import confusion_matrix\n",
    "from sklearn.model_selection import GridSearchCV\n",
    "from sklearn.ensemble import RandomForestClassifier, AdaBoostClassifier\n",
    "from sklearn.model_selection import train_test_split\n",
    "from sklearn.pipeline import Pipeline, FeatureUnion\n",
    "from sklearn.feature_extraction.text import CountVectorizer, TfidfTransformer\n",
    "from sklearn.multioutput import MultiOutputClassifier \n",
    "from sklearn.neighbors import KNeighborsClassifier\n",
    "\n",
    "from sqlalchemy import create_engine\n",
    "import nltk\n",
    "import re\n",
    "from nltk.tokenize import word_tokenize\n",
    "from nltk.stem import WordNetLemmatizer\n",
    "nltk.download(['punkt', 'wordnet'])\n",
    "import time"
   ]
  },
  {
   "cell_type": "code",
   "execution_count": 2,
   "metadata": {},
   "outputs": [],
   "source": [
    "# load data from database\n",
    "engine = create_engine('sqlite:///DisasterRProject.db')\n",
    "df = pd.read_sql('SELECT * FROM RESPONSE',engine)\n",
    "X=df[\"message\"]\n",
    "y = df.iloc[:,4:]\n",
    "y['related'].replace(2,1,inplace=True)"
   ]
  },
  {
   "cell_type": "markdown",
   "metadata": {},
   "source": [
    "### 2. Write a tokenization function to process your text data"
   ]
  },
  {
   "cell_type": "code",
   "execution_count": 3,
   "metadata": {},
   "outputs": [],
   "source": [
    "def tokenize(text):\n",
    "    text=re.sub(r\"[^a-zA-Z0-9 ]\",\"\",text)\n",
    "    tokens = word_tokenize(text)\n",
    "    lemmatizer = WordNetLemmatizer()\n",
    "\n",
    "    clean_tokens = []\n",
    "    for tok in tokens:\n",
    "        clean_tok = lemmatizer.lemmatize(tok).lower().strip()\n",
    "        clean_tokens.append(clean_tok)\n",
    "    \n",
    "    return clean_tokens"
   ]
  },
  {
   "cell_type": "markdown",
   "metadata": {},
   "source": [
    "### 3. Build a machine learning pipeline\n",
    "This machine pipeline should take in the `message` column as input and output classification results on the other 36 categories in the dataset. You may find the [MultiOutputClassifier](http://scikit-learn.org/stable/modules/generated/sklearn.multioutput.MultiOutputClassifier.html) helpful for predicting multiple target variables."
   ]
  },
  {
   "cell_type": "code",
   "execution_count": 10,
   "metadata": {},
   "outputs": [
    {
     "name": "stdout",
     "output_type": "stream",
     "text": [
      "Wall time: 0 ns\n"
     ]
    }
   ],
   "source": [
    "\n",
    "\n",
    "pipeline = Pipeline([\n",
    "    ('vect', CountVectorizer(tokenizer=tokenize)),\n",
    "    ('tfidf', TfidfTransformer()),\n",
    "    ('clf', MultiOutputClassifier(RandomForestClassifier()))\n",
    "])"
   ]
  },
  {
   "cell_type": "markdown",
   "metadata": {},
   "source": [
    "### 4. Train pipeline\n",
    "- Split data into train and test sets\n",
    "- Train pipeline"
   ]
  },
  {
   "cell_type": "code",
   "execution_count": 5,
   "metadata": {},
   "outputs": [],
   "source": [
    "\n",
    "X_train, X_test, y_train, y_test = train_test_split(X, y, test_size=0.33, random_state=42)\n"
   ]
  },
  {
   "cell_type": "code",
   "execution_count": 6,
   "metadata": {},
   "outputs": [
    {
     "name": "stdout",
     "output_type": "stream",
     "text": [
      "Wall time: 0 ns\n"
     ]
    },
    {
     "name": "stderr",
     "output_type": "stream",
     "text": [
      "C:\\ana\\lib\\site-packages\\sklearn\\ensemble\\forest.py:245: FutureWarning: The default value of n_estimators will change from 10 in version 0.20 to 100 in 0.22.\n",
      "  \"10 in version 0.20 to 100 in 0.22.\", FutureWarning)\n",
      "C:\\ana\\lib\\site-packages\\sklearn\\ensemble\\forest.py:245: FutureWarning: The default value of n_estimators will change from 10 in version 0.20 to 100 in 0.22.\n",
      "  \"10 in version 0.20 to 100 in 0.22.\", FutureWarning)\n",
      "C:\\ana\\lib\\site-packages\\sklearn\\ensemble\\forest.py:245: FutureWarning: The default value of n_estimators will change from 10 in version 0.20 to 100 in 0.22.\n",
      "  \"10 in version 0.20 to 100 in 0.22.\", FutureWarning)\n",
      "C:\\ana\\lib\\site-packages\\sklearn\\ensemble\\forest.py:245: FutureWarning: The default value of n_estimators will change from 10 in version 0.20 to 100 in 0.22.\n",
      "  \"10 in version 0.20 to 100 in 0.22.\", FutureWarning)\n",
      "C:\\ana\\lib\\site-packages\\sklearn\\ensemble\\forest.py:245: FutureWarning: The default value of n_estimators will change from 10 in version 0.20 to 100 in 0.22.\n",
      "  \"10 in version 0.20 to 100 in 0.22.\", FutureWarning)\n",
      "C:\\ana\\lib\\site-packages\\sklearn\\ensemble\\forest.py:245: FutureWarning: The default value of n_estimators will change from 10 in version 0.20 to 100 in 0.22.\n",
      "  \"10 in version 0.20 to 100 in 0.22.\", FutureWarning)\n",
      "C:\\ana\\lib\\site-packages\\sklearn\\ensemble\\forest.py:245: FutureWarning: The default value of n_estimators will change from 10 in version 0.20 to 100 in 0.22.\n",
      "  \"10 in version 0.20 to 100 in 0.22.\", FutureWarning)\n",
      "C:\\ana\\lib\\site-packages\\sklearn\\ensemble\\forest.py:245: FutureWarning: The default value of n_estimators will change from 10 in version 0.20 to 100 in 0.22.\n",
      "  \"10 in version 0.20 to 100 in 0.22.\", FutureWarning)\n",
      "C:\\ana\\lib\\site-packages\\sklearn\\ensemble\\forest.py:245: FutureWarning: The default value of n_estimators will change from 10 in version 0.20 to 100 in 0.22.\n",
      "  \"10 in version 0.20 to 100 in 0.22.\", FutureWarning)\n",
      "C:\\ana\\lib\\site-packages\\sklearn\\ensemble\\forest.py:245: FutureWarning: The default value of n_estimators will change from 10 in version 0.20 to 100 in 0.22.\n",
      "  \"10 in version 0.20 to 100 in 0.22.\", FutureWarning)\n",
      "C:\\ana\\lib\\site-packages\\sklearn\\ensemble\\forest.py:245: FutureWarning: The default value of n_estimators will change from 10 in version 0.20 to 100 in 0.22.\n",
      "  \"10 in version 0.20 to 100 in 0.22.\", FutureWarning)\n",
      "C:\\ana\\lib\\site-packages\\sklearn\\ensemble\\forest.py:245: FutureWarning: The default value of n_estimators will change from 10 in version 0.20 to 100 in 0.22.\n",
      "  \"10 in version 0.20 to 100 in 0.22.\", FutureWarning)\n",
      "C:\\ana\\lib\\site-packages\\sklearn\\ensemble\\forest.py:245: FutureWarning: The default value of n_estimators will change from 10 in version 0.20 to 100 in 0.22.\n",
      "  \"10 in version 0.20 to 100 in 0.22.\", FutureWarning)\n",
      "C:\\ana\\lib\\site-packages\\sklearn\\ensemble\\forest.py:245: FutureWarning: The default value of n_estimators will change from 10 in version 0.20 to 100 in 0.22.\n",
      "  \"10 in version 0.20 to 100 in 0.22.\", FutureWarning)\n",
      "C:\\ana\\lib\\site-packages\\sklearn\\ensemble\\forest.py:245: FutureWarning: The default value of n_estimators will change from 10 in version 0.20 to 100 in 0.22.\n",
      "  \"10 in version 0.20 to 100 in 0.22.\", FutureWarning)\n",
      "C:\\ana\\lib\\site-packages\\sklearn\\ensemble\\forest.py:245: FutureWarning: The default value of n_estimators will change from 10 in version 0.20 to 100 in 0.22.\n",
      "  \"10 in version 0.20 to 100 in 0.22.\", FutureWarning)\n",
      "C:\\ana\\lib\\site-packages\\sklearn\\ensemble\\forest.py:245: FutureWarning: The default value of n_estimators will change from 10 in version 0.20 to 100 in 0.22.\n",
      "  \"10 in version 0.20 to 100 in 0.22.\", FutureWarning)\n",
      "C:\\ana\\lib\\site-packages\\sklearn\\ensemble\\forest.py:245: FutureWarning: The default value of n_estimators will change from 10 in version 0.20 to 100 in 0.22.\n",
      "  \"10 in version 0.20 to 100 in 0.22.\", FutureWarning)\n",
      "C:\\ana\\lib\\site-packages\\sklearn\\ensemble\\forest.py:245: FutureWarning: The default value of n_estimators will change from 10 in version 0.20 to 100 in 0.22.\n",
      "  \"10 in version 0.20 to 100 in 0.22.\", FutureWarning)\n",
      "C:\\ana\\lib\\site-packages\\sklearn\\ensemble\\forest.py:245: FutureWarning: The default value of n_estimators will change from 10 in version 0.20 to 100 in 0.22.\n",
      "  \"10 in version 0.20 to 100 in 0.22.\", FutureWarning)\n",
      "C:\\ana\\lib\\site-packages\\sklearn\\ensemble\\forest.py:245: FutureWarning: The default value of n_estimators will change from 10 in version 0.20 to 100 in 0.22.\n",
      "  \"10 in version 0.20 to 100 in 0.22.\", FutureWarning)\n",
      "C:\\ana\\lib\\site-packages\\sklearn\\ensemble\\forest.py:245: FutureWarning: The default value of n_estimators will change from 10 in version 0.20 to 100 in 0.22.\n",
      "  \"10 in version 0.20 to 100 in 0.22.\", FutureWarning)\n",
      "C:\\ana\\lib\\site-packages\\sklearn\\ensemble\\forest.py:245: FutureWarning: The default value of n_estimators will change from 10 in version 0.20 to 100 in 0.22.\n",
      "  \"10 in version 0.20 to 100 in 0.22.\", FutureWarning)\n",
      "C:\\ana\\lib\\site-packages\\sklearn\\ensemble\\forest.py:245: FutureWarning: The default value of n_estimators will change from 10 in version 0.20 to 100 in 0.22.\n",
      "  \"10 in version 0.20 to 100 in 0.22.\", FutureWarning)\n",
      "C:\\ana\\lib\\site-packages\\sklearn\\ensemble\\forest.py:245: FutureWarning: The default value of n_estimators will change from 10 in version 0.20 to 100 in 0.22.\n",
      "  \"10 in version 0.20 to 100 in 0.22.\", FutureWarning)\n",
      "C:\\ana\\lib\\site-packages\\sklearn\\ensemble\\forest.py:245: FutureWarning: The default value of n_estimators will change from 10 in version 0.20 to 100 in 0.22.\n",
      "  \"10 in version 0.20 to 100 in 0.22.\", FutureWarning)\n",
      "C:\\ana\\lib\\site-packages\\sklearn\\ensemble\\forest.py:245: FutureWarning: The default value of n_estimators will change from 10 in version 0.20 to 100 in 0.22.\n",
      "  \"10 in version 0.20 to 100 in 0.22.\", FutureWarning)\n",
      "C:\\ana\\lib\\site-packages\\sklearn\\ensemble\\forest.py:245: FutureWarning: The default value of n_estimators will change from 10 in version 0.20 to 100 in 0.22.\n",
      "  \"10 in version 0.20 to 100 in 0.22.\", FutureWarning)\n",
      "C:\\ana\\lib\\site-packages\\sklearn\\ensemble\\forest.py:245: FutureWarning: The default value of n_estimators will change from 10 in version 0.20 to 100 in 0.22.\n",
      "  \"10 in version 0.20 to 100 in 0.22.\", FutureWarning)\n",
      "C:\\ana\\lib\\site-packages\\sklearn\\ensemble\\forest.py:245: FutureWarning: The default value of n_estimators will change from 10 in version 0.20 to 100 in 0.22.\n",
      "  \"10 in version 0.20 to 100 in 0.22.\", FutureWarning)\n",
      "C:\\ana\\lib\\site-packages\\sklearn\\ensemble\\forest.py:245: FutureWarning: The default value of n_estimators will change from 10 in version 0.20 to 100 in 0.22.\n",
      "  \"10 in version 0.20 to 100 in 0.22.\", FutureWarning)\n",
      "C:\\ana\\lib\\site-packages\\sklearn\\ensemble\\forest.py:245: FutureWarning: The default value of n_estimators will change from 10 in version 0.20 to 100 in 0.22.\n",
      "  \"10 in version 0.20 to 100 in 0.22.\", FutureWarning)\n",
      "C:\\ana\\lib\\site-packages\\sklearn\\ensemble\\forest.py:245: FutureWarning: The default value of n_estimators will change from 10 in version 0.20 to 100 in 0.22.\n",
      "  \"10 in version 0.20 to 100 in 0.22.\", FutureWarning)\n",
      "C:\\ana\\lib\\site-packages\\sklearn\\ensemble\\forest.py:245: FutureWarning: The default value of n_estimators will change from 10 in version 0.20 to 100 in 0.22.\n",
      "  \"10 in version 0.20 to 100 in 0.22.\", FutureWarning)\n",
      "C:\\ana\\lib\\site-packages\\sklearn\\ensemble\\forest.py:245: FutureWarning: The default value of n_estimators will change from 10 in version 0.20 to 100 in 0.22.\n",
      "  \"10 in version 0.20 to 100 in 0.22.\", FutureWarning)\n",
      "C:\\ana\\lib\\site-packages\\sklearn\\ensemble\\forest.py:245: FutureWarning: The default value of n_estimators will change from 10 in version 0.20 to 100 in 0.22.\n",
      "  \"10 in version 0.20 to 100 in 0.22.\", FutureWarning)\n"
     ]
    },
    {
     "data": {
      "text/plain": [
       "Pipeline(memory=None,\n",
       "         steps=[('vect',\n",
       "                 CountVectorizer(analyzer='word', binary=False,\n",
       "                                 decode_error='strict',\n",
       "                                 dtype=<class 'numpy.int64'>, encoding='utf-8',\n",
       "                                 input='content', lowercase=True, max_df=1.0,\n",
       "                                 max_features=None, min_df=1,\n",
       "                                 ngram_range=(1, 1), preprocessor=None,\n",
       "                                 stop_words=None, strip_accents=None,\n",
       "                                 token_pattern='(?u)\\\\b\\\\w\\\\w+\\\\b',\n",
       "                                 tokenizer=<function tokenize at...\n",
       "                 MultiOutputClassifier(estimator=RandomForestClassifier(bootstrap=True,\n",
       "                                                                        class_weight=None,\n",
       "                                                                        criterion='gini',\n",
       "                                                                        max_depth=None,\n",
       "                                                                        max_features='auto',\n",
       "                                                                        max_leaf_nodes=None,\n",
       "                                                                        min_impurity_decrease=0.0,\n",
       "                                                                        min_impurity_split=None,\n",
       "                                                                        min_samples_leaf=1,\n",
       "                                                                        min_samples_split=2,\n",
       "                                                                        min_weight_fraction_leaf=0.0,\n",
       "                                                                        n_estimators='warn',\n",
       "                                                                        n_jobs=None,\n",
       "                                                                        oob_score=False,\n",
       "                                                                        random_state=None,\n",
       "                                                                        verbose=0,\n",
       "                                                                        warm_start=False),\n",
       "                                       n_jobs=None))],\n",
       "         verbose=False)"
      ]
     },
     "execution_count": 6,
     "metadata": {},
     "output_type": "execute_result"
    }
   ],
   "source": [
    "\n",
    "pipeline.fit(X_train, y_train)"
   ]
  },
  {
   "cell_type": "code",
   "execution_count": 7,
   "metadata": {},
   "outputs": [],
   "source": [
    "y_pred=pipeline.predict(X_test)\n",
    "\n",
    "labels=np.unique(y_pred)\n",
    "#confusion_mat=confusion_matrix(y_test, y_pred, labels=labels)\n"
   ]
  },
  {
   "cell_type": "markdown",
   "metadata": {},
   "source": [
    "### 5. Test your model\n",
    "Report the f1 score, precision and recall for each output category of the dataset. You can do this by iterating through the columns and calling sklearn's `classification_report` on each.\n"
   ]
  },
  {
   "cell_type": "code",
   "execution_count": 8,
   "metadata": {},
   "outputs": [
    {
     "name": "stdout",
     "output_type": "stream",
     "text": [
      "[[[ 760 1294]\n",
      "  [ 491 6107]]\n",
      "\n",
      " [[7070  110]\n",
      "  [ 878  594]]]\n",
      "              precision    recall  f1-score   support\n",
      "\n",
      "           0       0.83      0.93      0.87      6598\n",
      "           1       0.84      0.40      0.55      1472\n",
      "           2       0.00      0.00      0.00        38\n",
      "           3       0.75      0.53      0.62      3545\n",
      "           4       0.57      0.06      0.11       701\n",
      "           5       0.60      0.04      0.08       446\n",
      "           6       0.62      0.04      0.07       226\n",
      "           7       0.00      0.00      0.00       160\n",
      "           8       0.57      0.06      0.11       267\n",
      "           9       0.00      0.00      0.00         0\n",
      "          10       0.80      0.16      0.26       543\n",
      "          11       0.80      0.43      0.56       965\n",
      "          12       0.79      0.23      0.36       775\n",
      "          13       0.71      0.08      0.14       127\n",
      "          14       0.45      0.03      0.05       191\n",
      "          15       0.00      0.00      0.00       104\n",
      "          16       0.45      0.02      0.03       293\n",
      "          17       0.84      0.08      0.14       406\n",
      "          18       0.45      0.03      0.05      1139\n",
      "          19       0.00      0.00      0.00       568\n",
      "          20       0.58      0.04      0.07       407\n",
      "          21       0.61      0.04      0.08       441\n",
      "          22       0.67      0.02      0.04       185\n",
      "          23       0.00      0.00      0.00        53\n",
      "          24       0.00      0.00      0.00        85\n",
      "          25       0.00      0.00      0.00        34\n",
      "          26       0.00      0.00      0.00       115\n",
      "          27       0.33      0.00      0.01       383\n",
      "          28       0.84      0.50      0.63      2390\n",
      "          29       0.89      0.31      0.46       693\n",
      "          30       0.78      0.30      0.44       812\n",
      "          31       0.50      0.01      0.02        90\n",
      "          32       0.87      0.60      0.71       787\n",
      "          33       0.91      0.05      0.10       187\n",
      "          34       0.53      0.02      0.04       452\n",
      "          35       0.76      0.28      0.41      1694\n",
      "\n",
      "   micro avg       0.81      0.44      0.57     27372\n",
      "   macro avg       0.51      0.15      0.19     27372\n",
      "weighted avg       0.72      0.44      0.50     27372\n",
      " samples avg       0.66      0.42      0.47     27372\n",
      "\n",
      "Labels: [0 1]\n"
     ]
    },
    {
     "name": "stderr",
     "output_type": "stream",
     "text": [
      "C:\\ana\\lib\\site-packages\\sklearn\\metrics\\classification.py:1437: UndefinedMetricWarning: Precision and F-score are ill-defined and being set to 0.0 in labels with no predicted samples.\n",
      "  'precision', 'predicted', average, warn_for)\n",
      "C:\\ana\\lib\\site-packages\\sklearn\\metrics\\classification.py:1439: UndefinedMetricWarning: Recall and F-score are ill-defined and being set to 0.0 in labels with no true samples.\n",
      "  'recall', 'true', average, warn_for)\n",
      "C:\\ana\\lib\\site-packages\\sklearn\\metrics\\classification.py:1437: UndefinedMetricWarning: Precision and F-score are ill-defined and being set to 0.0 in samples with no predicted labels.\n",
      "  'precision', 'predicted', average, warn_for)\n",
      "C:\\ana\\lib\\site-packages\\sklearn\\metrics\\classification.py:1439: UndefinedMetricWarning: Recall and F-score are ill-defined and being set to 0.0 in samples with no true labels.\n",
      "  'recall', 'true', average, warn_for)\n"
     ]
    },
    {
     "name": "stdout",
     "output_type": "stream",
     "text": [
      "Accuracy: related                   0.793689\n",
      "request                   0.885807\n",
      "offer                     0.995608\n",
      "aid_related               0.734512\n",
      "medical_help              0.920134\n",
      "medical_products          0.949145\n",
      "search_and_rescue         0.974226\n",
      "security                  0.981160\n",
      "military                  0.969602\n",
      "child_alone               1.000000\n",
      "water                     0.944637\n",
      "food                      0.924757\n",
      "shelter                   0.925798\n",
      "clothing                  0.986015\n",
      "money                     0.977809\n",
      "missing_people            0.987980\n",
      "refugees                  0.966019\n",
      "death                     0.956080\n",
      "other_aid                 0.867545\n",
      "infrastructure_related    0.934119\n",
      "transport                 0.953421\n",
      "buildings                 0.949838\n",
      "electricity               0.978849\n",
      "tools                     0.993874\n",
      "hospitals                 0.990060\n",
      "shops                     0.996070\n",
      "aid_centers               0.986708\n",
      "other_infrastructure      0.955617\n",
      "weather_related           0.835992\n",
      "floods                    0.941632\n",
      "storm                     0.926491\n",
      "fire                      0.989598\n",
      "earthquake                0.955733\n",
      "cold                      0.979427\n",
      "other_weather             0.947873\n",
      "direct_report             0.842580\n",
      "dtype: float64\n"
     ]
    }
   ],
   "source": [
    "cm=skm.multilabel_confusion_matrix(y_test, y_pred, labels=labels)\n",
    "print(cm)\n",
    "print(skm.classification_report(y_test, y_pred))\n",
    "print(\"Labels:\", labels)\n",
    "#print(\"Confusion Matrix:\\n\", confusion_mat)\n",
    "accuracy=(y_pred==y_test).mean()\n",
    "print(\"Accuracy:\", accuracy)"
   ]
  },
  {
   "cell_type": "code",
   "execution_count": 9,
   "metadata": {},
   "outputs": [
    {
     "data": {
      "text/plain": [
       "0.7345122515025427"
      ]
     },
     "execution_count": 9,
     "metadata": {},
     "output_type": "execute_result"
    }
   ],
   "source": [
    "accuracy.min()"
   ]
  },
  {
   "cell_type": "markdown",
   "metadata": {},
   "source": [
    "### 6. Improve your model\n",
    "Use grid search to find better parameters. "
   ]
  },
  {
   "cell_type": "code",
   "execution_count": 11,
   "metadata": {},
   "outputs": [],
   "source": [
    "from sklearn.model_selection import GridSearchCV\n",
    "parameters = {    \n",
    "    'vect__ngram_range': ((1, 1), (1, 2)),\n",
    "    'vect__max_df': (0.5, 0.75, 1.0),\n",
    "    'vect__max_features': (None, 5000, 10000),\n",
    "    'tfidf__use_idf': (True, False),\n",
    "    'clf__estimator__n_estimators': [50, 100, 200],\n",
    "    'clf__estimator__min_samples_split': [2, 3, 4],\n",
    "    }\n",
    "cv = GridSearchCV(pipeline, param_grid=parameters, cv=2, n_jobs=-1)\n",
    "\n"
   ]
  },
  {
   "cell_type": "code",
   "execution_count": 12,
   "metadata": {},
   "outputs": [],
   "source": [
    "cv.fit(X_train, y_train)\n",
    "import warnings\n",
    "warnings.filterwarnings(\"ignore\")"
   ]
  },
  {
   "cell_type": "markdown",
   "metadata": {},
   "source": [
    "### 7. Test your model\n",
    "Show the accuracy, precision, and recall of the tuned model.  \n",
    "\n",
    "Since this project focuses on code quality, process, and  pipelines, there is no minimum performance metric needed to pass. However, make sure to fine tune your models for accuracy, precision and recall to make your project stand out - especially for your portfolio!"
   ]
  },
  {
   "cell_type": "code",
   "execution_count": 45,
   "metadata": {},
   "outputs": [
    {
     "name": "stdout",
     "output_type": "stream",
     "text": [
      "[[[ 566 1488]\n",
      "  [ 227 6371]]\n",
      "\n",
      " [[7065  115]\n",
      "  [ 764  708]]]\n",
      "              precision    recall  f1-score   support\n",
      "\n",
      "           0       0.81      0.97      0.88      6598\n",
      "           1       0.86      0.48      0.62      1472\n",
      "           2       0.00      0.00      0.00        38\n",
      "           3       0.75      0.65      0.69      3545\n",
      "           4       0.66      0.12      0.20       701\n",
      "           5       0.82      0.17      0.28       446\n",
      "           6       0.80      0.09      0.16       226\n",
      "           7       0.40      0.01      0.02       160\n",
      "           8       0.52      0.06      0.11       267\n",
      "           9       0.00      0.00      0.00         0\n",
      "          10       0.83      0.50      0.62       543\n",
      "          11       0.83      0.69      0.75       965\n",
      "          12       0.80      0.45      0.58       775\n",
      "          13       0.81      0.17      0.29       127\n",
      "          14       0.67      0.05      0.10       191\n",
      "          15       0.88      0.07      0.12       104\n",
      "          16       0.62      0.06      0.11       293\n",
      "          17       0.85      0.34      0.49       406\n",
      "          18       0.65      0.04      0.08      1139\n",
      "          19       0.67      0.00      0.01       568\n",
      "          20       0.76      0.12      0.20       407\n",
      "          21       0.76      0.13      0.22       441\n",
      "          22       0.79      0.06      0.11       185\n",
      "          23       0.00      0.00      0.00        53\n",
      "          24       0.00      0.00      0.00        85\n",
      "          25       0.00      0.00      0.00        34\n",
      "          26       0.00      0.00      0.00       115\n",
      "          27       0.00      0.00      0.00       383\n",
      "          28       0.84      0.70      0.76      2390\n",
      "          29       0.89      0.51      0.65       693\n",
      "          30       0.74      0.63      0.68       812\n",
      "          31       1.00      0.04      0.09        90\n",
      "          32       0.88      0.78      0.83       787\n",
      "          33       0.70      0.17      0.27       187\n",
      "          34       0.75      0.07      0.13       452\n",
      "          35       0.83      0.39      0.53      1694\n",
      "\n",
      "   micro avg       0.81      0.55      0.65     27372\n",
      "   macro avg       0.62      0.24      0.29     27372\n",
      "weighted avg       0.77      0.55      0.59     27372\n",
      " samples avg       0.67      0.50      0.53     27372\n",
      "\n",
      "Labels: [0 1]\n",
      "Accuracy: related                   0.801780\n",
      "request                   0.898405\n",
      "offer                     0.995608\n",
      "aid_related               0.766297\n",
      "medical_help              0.923717\n",
      "medical_products          0.955270\n",
      "search_and_rescue         0.975613\n",
      "security                  0.981392\n",
      "military                  0.969256\n",
      "child_alone               1.000000\n",
      "water                     0.962205\n",
      "food                      0.949260\n",
      "shelter                   0.940707\n",
      "clothing                  0.987286\n",
      "money                     0.978502\n",
      "missing_people            0.988673\n",
      "refugees                  0.966944\n",
      "death                     0.966135\n",
      "other_aid                 0.870897\n",
      "infrastructure_related    0.934466\n",
      "transport                 0.956773\n",
      "buildings                 0.953652\n",
      "electricity               0.979542\n",
      "tools                     0.993874\n",
      "hospitals                 0.990060\n",
      "shops                     0.996070\n",
      "aid_centers               0.986708\n",
      "other_infrastructure      0.955733\n",
      "weather_related           0.880490\n",
      "floods                    0.955848\n",
      "storm                     0.944637\n",
      "fire                      0.990060\n",
      "earthquake                0.970527\n",
      "cold                      0.980467\n",
      "other_weather             0.950301\n",
      "direct_report             0.864424\n",
      "dtype: float64\n",
      "0.7662968099861304\n"
     ]
    }
   ],
   "source": [
    "y_pred_c=cv.predict(X_test)\n",
    "labels=np.unique(y_pred_c)\n",
    "cm=skm.multilabel_confusion_matrix(y_test, y_pred_c, labels=labels)\n",
    "print(cm)\n",
    "print(skm.classification_report(y_test, y_pred_c))\n",
    "print(\"Labels:\", labels)\n",
    "#print(\"Confusion Matrix:\\n\", confusion_mat)\n",
    "accuracy=(y_pred_c==y_test).mean()\n",
    "print(\"Accuracy:\", accuracy)\n",
    "print(accuracy.min())\n"
   ]
  },
  {
   "cell_type": "markdown",
   "metadata": {},
   "source": [
    "### 8. Try improving your model further. Here are a few ideas:\n",
    "* try other machine learning algorithms"
   ]
  },
  {
   "cell_type": "code",
   "execution_count": 17,
   "metadata": {},
   "outputs": [],
   "source": [
    "\n",
    "pipeline = Pipeline([\n",
    "        ('vect', CountVectorizer(tokenizer=tokenize)),\n",
    "        ('tfidf', TfidfTransformer()),\n",
    "        ('clf', MultiOutputClassifier(AdaBoostClassifier()))\n",
    "    ])"
   ]
  },
  {
   "cell_type": "code",
   "execution_count": 18,
   "metadata": {},
   "outputs": [],
   "source": [
    "parameters = {\n",
    "        'vect__ngram_range': ((1, 1), (1, 2)),\n",
    "        'vect__max_df': (0.5, 0.75, 1.0),\n",
    "        'tfidf__use_idf': (True, False),\n",
    "        'vect__max_features': (None, 5000, 10000),\n",
    "    }\n",
    "\n",
    "cvA = GridSearchCV(pipeline, param_grid=parameters, cv=2)"
   ]
  },
  {
   "cell_type": "code",
   "execution_count": 19,
   "metadata": {},
   "outputs": [
    {
     "data": {
      "text/plain": [
       "GridSearchCV(cv=2,\n",
       "             estimator=Pipeline(steps=[('vect',\n",
       "                                        CountVectorizer(tokenizer=<function tokenize at 0x000002C5F99AF4C0>)),\n",
       "                                       ('tfidf', TfidfTransformer()),\n",
       "                                       ('clf',\n",
       "                                        MultiOutputClassifier(estimator=AdaBoostClassifier()))]),\n",
       "             param_grid={'tfidf__use_idf': (True, False),\n",
       "                         'vect__max_df': (0.5, 0.75, 1.0),\n",
       "                         'vect__max_features': (None, 5000, 10000),\n",
       "                         'vect__ngram_range': ((1, 1), (1, 2))})"
      ]
     },
     "execution_count": 19,
     "metadata": {},
     "output_type": "execute_result"
    }
   ],
   "source": [
    "cvA.fit(X_train, y_train)"
   ]
  },
  {
   "cell_type": "markdown",
   "metadata": {},
   "source": [
    "### 9. Test your model\n",
    "Show the accuracy, precision, and recall of the tuned model. "
   ]
  },
  {
   "cell_type": "code",
   "execution_count": 46,
   "metadata": {},
   "outputs": [
    {
     "name": "stdout",
     "output_type": "stream",
     "text": [
      "[[[ 675 1379]\n",
      "  [ 346 6252]]\n",
      "\n",
      " [[6938  242]\n",
      "  [ 690  782]]]\n",
      "              precision    recall  f1-score   support\n",
      "\n",
      "           0       0.82      0.95      0.88      6598\n",
      "           1       0.76      0.53      0.63      1472\n",
      "           2       0.00      0.00      0.00        38\n",
      "           3       0.74      0.58      0.65      3545\n",
      "           4       0.57      0.28      0.37       701\n",
      "           5       0.66      0.34      0.45       446\n",
      "           6       0.60      0.17      0.27       226\n",
      "           7       0.09      0.01      0.02       160\n",
      "           8       0.54      0.30      0.38       267\n",
      "           9       0.00      0.00      0.00         0\n",
      "          10       0.73      0.60      0.66       543\n",
      "          11       0.81      0.67      0.73       965\n",
      "          12       0.76      0.51      0.61       775\n",
      "          13       0.65      0.34      0.45       127\n",
      "          14       0.44      0.28      0.34       191\n",
      "          15       0.42      0.05      0.09       104\n",
      "          16       0.57      0.23      0.33       293\n",
      "          17       0.77      0.38      0.51       406\n",
      "          18       0.55      0.17      0.26      1139\n",
      "          19       0.46      0.10      0.17       568\n",
      "          20       0.60      0.18      0.27       407\n",
      "          21       0.70      0.36      0.48       441\n",
      "          22       0.50      0.18      0.26       185\n",
      "          23       0.07      0.02      0.03        53\n",
      "          24       0.29      0.08      0.13        85\n",
      "          25       0.00      0.00      0.00        34\n",
      "          26       0.31      0.07      0.11       115\n",
      "          27       0.34      0.09      0.14       383\n",
      "          28       0.84      0.65      0.73      2390\n",
      "          29       0.84      0.56      0.67       693\n",
      "          30       0.75      0.44      0.56       812\n",
      "          31       0.58      0.24      0.34        90\n",
      "          32       0.87      0.77      0.82       787\n",
      "          33       0.69      0.33      0.45       187\n",
      "          34       0.41      0.12      0.18       452\n",
      "          35       0.73      0.47      0.57      1694\n",
      "\n",
      "   micro avg       0.77      0.57      0.65     27372\n",
      "   macro avg       0.54      0.31      0.38     27372\n",
      "weighted avg       0.72      0.57      0.62     27372\n",
      " samples avg       0.64      0.50      0.52     27372\n",
      "\n",
      "Labels: [0 1]\n",
      "Accuracy: related                   0.800624\n",
      "request                   0.892279\n",
      "offer                     0.994683\n",
      "aid_related               0.745492\n",
      "medical_help              0.924757\n",
      "medical_products          0.956889\n",
      "search_and_rescue         0.975381\n",
      "security                  0.979427\n",
      "military                  0.970643\n",
      "child_alone               1.000000\n",
      "water                     0.960818\n",
      "food                      0.945099\n",
      "shelter                   0.941748\n",
      "clothing                  0.987633\n",
      "money                     0.976075\n",
      "missing_people            0.987748\n",
      "refugees                  0.967984\n",
      "death                     0.965673\n",
      "other_aid                 0.872284\n",
      "infrastructure_related    0.933079\n",
      "transport                 0.955733\n",
      "buildings                 0.959778\n",
      "electricity               0.978618\n",
      "tools                     0.992487\n",
      "hospitals                 0.989020\n",
      "shops                     0.995146\n",
      "aid_centers               0.985552\n",
      "other_infrastructure      0.951919\n",
      "weather_related           0.869857\n",
      "floods                    0.956080\n",
      "storm                     0.933773\n",
      "fire                      0.990291\n",
      "earthquake                0.968909\n",
      "cold                      0.982316\n",
      "other_weather             0.944984\n",
      "direct_report             0.861188\n",
      "dtype: float64\n",
      "0.7454923717059639\n"
     ]
    }
   ],
   "source": [
    "y_pred_a_c=cvA.predict(X_test)\n",
    "labels=np.unique(y_pred_a_c)\n",
    "cm=skm.multilabel_confusion_matrix(y_test, y_pred_a_c, labels=labels)\n",
    "print(cm)\n",
    "print(skm.classification_report(y_test, y_pred_a_c))\n",
    "print(\"Labels:\", labels)\n",
    "#print(\"Confusion Matrix:\\n\", confusion_mat)\n",
    "accuracy=(y_pred_a_c==y_test).mean()\n",
    "print(\"Accuracy:\", accuracy)\n",
    "print(accuracy.min())\n"
   ]
  },
  {
   "cell_type": "code",
   "execution_count": 20,
   "metadata": {},
   "outputs": [
    {
     "name": "stdout",
     "output_type": "stream",
     "text": [
      "\n",
      " Classification Report \n",
      "               precision    recall  f1-score   support\n",
      "\n",
      "           0       0.81      0.97      0.88      6598\n",
      "           1       0.89      0.41      0.56      1472\n",
      "           2       0.00      0.00      0.00        38\n",
      "           3       0.78      0.61      0.69      3545\n",
      "           4       0.68      0.05      0.09       701\n",
      "           5       0.75      0.05      0.09       446\n",
      "           6       0.67      0.01      0.02       226\n",
      "           7       0.00      0.00      0.00       160\n",
      "           8       0.80      0.04      0.09       267\n",
      "           9       0.00      0.00      0.00         0\n",
      "          10       0.87      0.20      0.33       543\n",
      "          11       0.87      0.41      0.56       965\n",
      "          12       0.84      0.28      0.42       775\n",
      "          13       0.71      0.04      0.07       127\n",
      "          14       0.83      0.03      0.05       191\n",
      "          15       0.00      0.00      0.00       104\n",
      "          16       0.50      0.00      0.01       293\n",
      "          17       0.88      0.09      0.16       406\n",
      "          18       0.62      0.02      0.03      1139\n",
      "          19       1.00      0.00      0.00       568\n",
      "          20       0.67      0.04      0.08       407\n",
      "          21       0.73      0.05      0.10       441\n",
      "          22       0.80      0.02      0.04       185\n",
      "          23       0.00      0.00      0.00        53\n",
      "          24       0.00      0.00      0.00        85\n",
      "          25       0.00      0.00      0.00        34\n",
      "          26       0.00      0.00      0.00       115\n",
      "          27       0.00      0.00      0.00       383\n",
      "          28       0.86      0.63      0.73      2390\n",
      "          29       0.89      0.35      0.50       693\n",
      "          30       0.76      0.47      0.58       812\n",
      "          31       0.50      0.01      0.02        90\n",
      "          32       0.88      0.76      0.82       787\n",
      "          33       0.80      0.04      0.08       187\n",
      "          34       1.00      0.01      0.02       452\n",
      "          35       0.86      0.33      0.48      1694\n",
      "\n",
      "   micro avg       0.82      0.49      0.61     27372\n",
      "   macro avg       0.59      0.16      0.21     27372\n",
      "weighted avg       0.78      0.49      0.53     27372\n",
      " samples avg       0.69      0.47      0.51     27372\n",
      "\n"
     ]
    }
   ],
   "source": [
    "print('\\n Classification Report \\n',skm.classification_report(y_test, y_pred))"
   ]
  },
  {
   "cell_type": "markdown",
   "metadata": {},
   "source": [
    "### 10. Try improving your model further. Here are a few ideas:\n",
    "* try other machine learning algorithms"
   ]
  },
  {
   "cell_type": "code",
   "execution_count": 23,
   "metadata": {},
   "outputs": [],
   "source": [
    "pipeline = Pipeline([\n",
    "        ('vect', CountVectorizer(tokenizer=tokenize)),\n",
    "        ('tfidf', TfidfTransformer()),\n",
    "        ('clf', MultiOutputClassifier(KNeighborsClassifier()))\n",
    "            ])"
   ]
  },
  {
   "cell_type": "code",
   "execution_count": 24,
   "metadata": {},
   "outputs": [],
   "source": [
    "parameters = {\n",
    "        'vect__ngram_range': ((1, 1), (1, 2)),\n",
    "        'vect__max_df': (0.5, 0.75, 1.0),\n",
    "        'tfidf__use_idf': (True, False),\n",
    "        'clf__estimator__weights': ['uniform', 'distance'],\n",
    "        'clf__estimator__algorithm': ['auto', 'ball_tree', 'kd_tree', 'brute'],\n",
    "        'clf__estimator__n_neighbors' : [5, 25]\n",
    "    }\n",
    "cvK = GridSearchCV(pipeline, param_grid=parameters, cv=2)"
   ]
  },
  {
   "cell_type": "code",
   "execution_count": 25,
   "metadata": {},
   "outputs": [
    {
     "data": {
      "text/plain": [
       "GridSearchCV(cv=2,\n",
       "             estimator=Pipeline(steps=[('vect',\n",
       "                                        CountVectorizer(tokenizer=<function tokenize at 0x000002C5F99AF4C0>)),\n",
       "                                       ('tfidf', TfidfTransformer()),\n",
       "                                       ('clf',\n",
       "                                        MultiOutputClassifier(estimator=KNeighborsClassifier()))]),\n",
       "             param_grid={'clf__estimator__algorithm': ['auto', 'ball_tree',\n",
       "                                                       'kd_tree', 'brute'],\n",
       "                         'clf__estimator__n_neighbors': [5, 25],\n",
       "                         'clf__estimator__weights': ['uniform', 'distance'],\n",
       "                         'tfidf__use_idf': (True, False),\n",
       "                         'vect__max_df': (0.5, 0.75, 1.0),\n",
       "                         'vect__ngram_range': ((1, 1), (1, 2))})"
      ]
     },
     "execution_count": 25,
     "metadata": {},
     "output_type": "execute_result"
    }
   ],
   "source": [
    "cvK.fit(X_train, y_train)"
   ]
  },
  {
   "cell_type": "markdown",
   "metadata": {},
   "source": [
    "### 11. Test your model\n",
    "Show the accuracy, precision, and recall of the tuned model. "
   ]
  },
  {
   "cell_type": "code",
   "execution_count": 47,
   "metadata": {
    "scrolled": true
   },
   "outputs": [
    {
     "name": "stdout",
     "output_type": "stream",
     "text": [
      "[[[ 183 1871]\n",
      "  [  77 6521]]\n",
      "\n",
      " [[7155   25]\n",
      "  [1387   85]]]\n",
      "              precision    recall  f1-score   support\n",
      "\n",
      "           0       0.78      0.99      0.87      6598\n",
      "           1       0.77      0.06      0.11      1472\n",
      "           2       0.00      0.00      0.00        38\n",
      "           3       0.78      0.03      0.06      3545\n",
      "           4       0.33      0.00      0.00       701\n",
      "           5       0.50      0.01      0.01       446\n",
      "           6       0.00      0.00      0.00       226\n",
      "           7       0.00      0.00      0.00       160\n",
      "           8       0.00      0.00      0.00       267\n",
      "           9       0.00      0.00      0.00         0\n",
      "          10       0.67      0.03      0.06       543\n",
      "          11       0.78      0.05      0.09       965\n",
      "          12       0.86      0.03      0.06       775\n",
      "          13       0.75      0.02      0.05       127\n",
      "          14       0.75      0.02      0.03       191\n",
      "          15       0.00      0.00      0.00       104\n",
      "          16       0.00      0.00      0.00       293\n",
      "          17       0.78      0.02      0.03       406\n",
      "          18       0.65      0.01      0.02      1139\n",
      "          19       0.50      0.00      0.01       568\n",
      "          20       0.67      0.00      0.01       407\n",
      "          21       0.83      0.01      0.02       441\n",
      "          22       0.00      0.00      0.00       185\n",
      "          23       0.00      0.00      0.00        53\n",
      "          24       0.00      0.00      0.00        85\n",
      "          25       0.00      0.00      0.00        34\n",
      "          26       0.00      0.00      0.00       115\n",
      "          27       0.00      0.00      0.00       383\n",
      "          28       0.79      0.05      0.09      2390\n",
      "          29       0.92      0.02      0.03       693\n",
      "          30       0.54      0.01      0.02       812\n",
      "          31       0.00      0.00      0.00        90\n",
      "          32       0.79      0.11      0.19       787\n",
      "          33       0.50      0.01      0.02       187\n",
      "          34       0.50      0.00      0.00       452\n",
      "          35       0.72      0.04      0.08      1694\n",
      "\n",
      "   micro avg       0.78      0.26      0.39     27372\n",
      "   macro avg       0.42      0.04      0.05     27372\n",
      "weighted avg       0.68      0.26      0.25     27372\n",
      " samples avg       0.75      0.34      0.41     27372\n",
      "\n",
      "Labels: [0 1]\n",
      "Accuracy: related                   0.774850\n",
      "request                   0.836801\n",
      "offer                     0.995608\n",
      "aid_related               0.598821\n",
      "medical_help              0.918863\n",
      "medical_products          0.948451\n",
      "search_and_rescue         0.973879\n",
      "security                  0.981276\n",
      "military                  0.969140\n",
      "child_alone               1.000000\n",
      "water                     0.938165\n",
      "food                      0.892164\n",
      "shelter                   0.912853\n",
      "clothing                  0.985552\n",
      "money                     0.978155\n",
      "missing_people            0.987980\n",
      "refugees                  0.966019\n",
      "death                     0.953652\n",
      "other_aid                 0.869048\n",
      "infrastructure_related    0.934350\n",
      "transport                 0.953074\n",
      "buildings                 0.949491\n",
      "electricity               0.978618\n",
      "tools                     0.993874\n",
      "hospitals                 0.990176\n",
      "shops                     0.996070\n",
      "aid_centers               0.986708\n",
      "other_infrastructure      0.955502\n",
      "weather_related           0.733010\n",
      "floods                    0.921174\n",
      "storm                     0.906264\n",
      "fire                      0.989598\n",
      "earthquake                0.916320\n",
      "cold                      0.978387\n",
      "other_weather             0.947758\n",
      "direct_report             0.809524\n",
      "dtype: float64\n",
      "0.5988210818307905\n"
     ]
    }
   ],
   "source": [
    "y_pred_k_a_c=cvK.predict(X_test)\n",
    "labels=np.unique(y_pred_k_a_c)\n",
    "cm=skm.multilabel_confusion_matrix(y_test, y_pred_k_a_c, labels=labels)\n",
    "print(cm)\n",
    "print(skm.classification_report(y_test, y_pred_k_a_c))\n",
    "print(\"Labels:\", labels)\n",
    "#print(\"Confusion Matrix:\\n\", confusion_mat)\n",
    "accuracy=(y_pred_k_a_c==y_test).mean()\n",
    "print(\"Accuracy:\", accuracy)\n",
    "print(accuracy.min())\n"
   ]
  },
  {
   "cell_type": "code",
   "execution_count": 30,
   "metadata": {},
   "outputs": [
    {
     "name": "stdout",
     "output_type": "stream",
     "text": [
      "{'clf__estimator__min_samples_split': 3, 'clf__estimator__n_estimators': 200, 'tfidf__use_idf': True, 'vect__max_df': 0.75, 'vect__max_features': 10000, 'vect__ngram_range': (1, 2)}\n",
      "{'tfidf__use_idf': True, 'vect__max_df': 0.75, 'vect__max_features': 10000, 'vect__ngram_range': (1, 1)}\n",
      "{'clf__estimator__algorithm': 'auto', 'clf__estimator__n_neighbors': 5, 'clf__estimator__weights': 'distance', 'tfidf__use_idf': True, 'vect__max_df': 0.5, 'vect__ngram_range': (1, 1)}\n"
     ]
    }
   ],
   "source": [
    "print(cv.best_params_)\n",
    "print(cvA.best_params_)\n",
    "print(cvK.best_params_)"
   ]
  },
  {
   "cell_type": "markdown",
   "metadata": {},
   "source": [
    "### 9. Export your model as a pickle file"
   ]
  },
  {
   "cell_type": "code",
   "execution_count": 36,
   "metadata": {},
   "outputs": [],
   "source": [
    "import joblib"
   ]
  },
  {
   "cell_type": "code",
   "execution_count": 38,
   "metadata": {},
   "outputs": [
    {
     "data": {
      "text/plain": [
       "['rf.pkl']"
      ]
     },
     "execution_count": 38,
     "metadata": {},
     "output_type": "execute_result"
    }
   ],
   "source": [
    "joblib.dump(cv.best_params_, 'rf.pkl', compress = 1)\n"
   ]
  },
  {
   "cell_type": "code",
   "execution_count": 39,
   "metadata": {},
   "outputs": [
    {
     "data": {
      "text/plain": [
       "['kn.pkl']"
      ]
     },
     "execution_count": 39,
     "metadata": {},
     "output_type": "execute_result"
    }
   ],
   "source": [
    "\n",
    "joblib.dump(cvK.best_params_, 'kn.pkl', compress = 1)"
   ]
  },
  {
   "cell_type": "code",
   "execution_count": 40,
   "metadata": {},
   "outputs": [
    {
     "data": {
      "text/plain": [
       "['ada.pkl']"
      ]
     },
     "execution_count": 40,
     "metadata": {},
     "output_type": "execute_result"
    }
   ],
   "source": [
    "joblib.dump(cvA.best_params_, 'ada.pkl', compress = 1)"
   ]
  },
  {
   "cell_type": "code",
   "execution_count": null,
   "metadata": {},
   "outputs": [],
   "source": []
  }
 ],
 "metadata": {
  "kernelspec": {
   "display_name": "Python 3",
   "language": "python",
   "name": "python3"
  },
  "language_info": {
   "codemirror_mode": {
    "name": "ipython",
    "version": 3
   },
   "file_extension": ".py",
   "mimetype": "text/x-python",
   "name": "python",
   "nbconvert_exporter": "python",
   "pygments_lexer": "ipython3",
   "version": "3.7.4"
  }
 },
 "nbformat": 4,
 "nbformat_minor": 2
}
